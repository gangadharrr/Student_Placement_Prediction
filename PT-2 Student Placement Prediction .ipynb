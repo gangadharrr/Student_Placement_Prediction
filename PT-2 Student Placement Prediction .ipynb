{
 "cells": [
  {
   "cell_type": "markdown",
   "id": "96f6551b",
   "metadata": {},
   "source": [
    "# Student Placement Prediction Using Naive Bayes"
   ]
  },
  {
   "cell_type": "markdown",
   "id": "c9cce99c",
   "metadata": {},
   "source": [
    "## Importing Libraries"
   ]
  },
  {
   "cell_type": "code",
   "execution_count": 3,
   "id": "c01000ce",
   "metadata": {
    "scrolled": true
   },
   "outputs": [
    {
     "name": "stderr",
     "output_type": "stream",
     "text": [
      "naivebayes 0.9.7 loaded\n",
      "\n",
      "Loading required package: lattice\n",
      "\n",
      "\n",
      "Attaching package: 'dplyr'\n",
      "\n",
      "\n",
      "The following objects are masked from 'package:stats':\n",
      "\n",
      "    filter, lag\n",
      "\n",
      "\n",
      "The following objects are masked from 'package:base':\n",
      "\n",
      "    intersect, setdiff, setequal, union\n",
      "\n",
      "\n",
      "gdata: Unable to locate valid perl interpreter\n",
      "gdata: \n",
      "gdata: read.xls() will be unable to read Excel XLS and XLSX files\n",
      "gdata: unless the 'perl=' argument is used to specify the location of a\n",
      "gdata: valid perl intrpreter.\n",
      "gdata: \n",
      "gdata: (To avoid display of this message in the future, please ensure\n",
      "gdata: perl is installed and available on the executable search path.)\n",
      "\n",
      "gdata: Unable to load perl libaries needed by read.xls()\n",
      "gdata: to support 'XLX' (Excel 97-2004) files.\n",
      "\n",
      "\n",
      "\n",
      "gdata: Unable to load perl libaries needed by read.xls()\n",
      "gdata: to support 'XLSX' (Excel 2007+) files.\n",
      "\n",
      "\n",
      "\n",
      "gdata: Run the function 'installXLSXsupport()'\n",
      "gdata: to automatically download and install the perl\n",
      "gdata: libaries needed to support Excel XLS and XLSX formats.\n",
      "\n",
      "\n",
      "Attaching package: 'gdata'\n",
      "\n",
      "\n",
      "The following objects are masked from 'package:dplyr':\n",
      "\n",
      "    combine, first, last\n",
      "\n",
      "\n",
      "The following object is masked from 'package:stats':\n",
      "\n",
      "    nobs\n",
      "\n",
      "\n",
      "The following object is masked from 'package:utils':\n",
      "\n",
      "    object.size\n",
      "\n",
      "\n",
      "The following object is masked from 'package:base':\n",
      "\n",
      "    startsWith\n",
      "\n",
      "\n",
      "Loaded ROSE 0.0-4\n",
      "\n",
      "\n",
      "\n",
      "Attaching package: 'psych'\n",
      "\n",
      "\n",
      "The following objects are masked from 'package:ggplot2':\n",
      "\n",
      "    %+%, alpha\n",
      "\n",
      "\n",
      "randomForest 4.7-1\n",
      "\n",
      "Type rfNews() to see new features/changes/bug fixes.\n",
      "\n",
      "\n",
      "Attaching package: 'randomForest'\n",
      "\n",
      "\n",
      "The following object is masked from 'package:psych':\n",
      "\n",
      "    outlier\n",
      "\n",
      "\n",
      "The following object is masked from 'package:gdata':\n",
      "\n",
      "    combine\n",
      "\n",
      "\n",
      "The following object is masked from 'package:dplyr':\n",
      "\n",
      "    combine\n",
      "\n",
      "\n",
      "The following object is masked from 'package:ggplot2':\n",
      "\n",
      "    margin\n",
      "\n",
      "\n",
      "Loading required package: R6\n",
      "\n",
      "corrplot 0.92 loaded\n",
      "\n",
      "Loading required package: MASS\n",
      "\n",
      "\n",
      "Attaching package: 'MASS'\n",
      "\n",
      "\n",
      "The following object is masked from 'package:dplyr':\n",
      "\n",
      "    select\n",
      "\n",
      "\n",
      "Type 'citation(\"pROC\")' for a citation.\n",
      "\n",
      "\n",
      "Attaching package: 'pROC'\n",
      "\n",
      "\n",
      "The following objects are masked from 'package:stats':\n",
      "\n",
      "    cov, smooth, var\n",
      "\n",
      "\n",
      "\n",
      "Attaching package: 'MLmetrics'\n",
      "\n",
      "\n",
      "The following object is masked from 'package:psych':\n",
      "\n",
      "    AUC\n",
      "\n",
      "\n",
      "The following objects are masked from 'package:caret':\n",
      "\n",
      "    MAE, RMSE\n",
      "\n",
      "\n",
      "The following object is masked from 'package:base':\n",
      "\n",
      "    Recall\n",
      "\n",
      "\n"
     ]
    }
   ],
   "source": [
    "#Suppress Warnings\n",
    "options(warn = -1)\n",
    "#Libraries\n",
    "library(naivebayes)\n",
    "library(e1071)\n",
    "library(caTools)\n",
    "library(ggplot2)\n",
    "library(caret)\n",
    "library(dplyr)\n",
    "library(gdata)\n",
    "library(ROSE)\n",
    "library(stringr)\n",
    "library(rBayesianOptimization)\n",
    "library(psych)\n",
    "library(smotefamily)\n",
    "library(randomForest)\n",
    "library(class)\n",
    "library(superml)\n",
    "library(corrplot)\n",
    "library(klaR)\n",
    "library(ROCR)\n",
    "library(pROC)\n",
    "library(MLmetrics)"
   ]
  },
  {
   "cell_type": "markdown",
   "id": "bf6da378",
   "metadata": {},
   "source": [
    "# Reading Dataset"
   ]
  },
  {
   "cell_type": "markdown",
   "id": "3a2c1cbf",
   "metadata": {},
   "source": [
    "<li> Reading Dataset using R with command <b>read_excel(\"FileLocation\")</b> for excel and <b>read.csv(\"FileLocation\",header=TRUE)</b> for csv file "
   ]
  },
  {
   "cell_type": "code",
   "execution_count": 4,
   "id": "d7cbeeca",
   "metadata": {
    "scrolled": true
   },
   "outputs": [
    {
     "data": {
      "text/html": [
       "<table class=\"dataframe\">\n",
       "<caption>A data.frame: 6 × 14</caption>\n",
       "<thead>\n",
       "\t<tr><th></th><th scope=col>gender</th><th scope=col>ssc_p</th><th scope=col>ssc_b</th><th scope=col>hsc_p</th><th scope=col>hsc_b</th><th scope=col>hsc_s</th><th scope=col>degree_p</th><th scope=col>degree_t</th><th scope=col>workex</th><th scope=col>etest_p</th><th scope=col>specialisation</th><th scope=col>mba_p</th><th scope=col>status</th><th scope=col>salary</th></tr>\n",
       "\t<tr><th></th><th scope=col>&lt;chr&gt;</th><th scope=col>&lt;dbl&gt;</th><th scope=col>&lt;chr&gt;</th><th scope=col>&lt;dbl&gt;</th><th scope=col>&lt;chr&gt;</th><th scope=col>&lt;chr&gt;</th><th scope=col>&lt;dbl&gt;</th><th scope=col>&lt;chr&gt;</th><th scope=col>&lt;chr&gt;</th><th scope=col>&lt;dbl&gt;</th><th scope=col>&lt;chr&gt;</th><th scope=col>&lt;dbl&gt;</th><th scope=col>&lt;chr&gt;</th><th scope=col>&lt;int&gt;</th></tr>\n",
       "</thead>\n",
       "<tbody>\n",
       "\t<tr><th scope=row>1</th><td>M</td><td>67.00</td><td>Others </td><td>91.00</td><td>Others </td><td>Commerce</td><td>58.00</td><td>Sci&amp;Tech </td><td>No </td><td>55.0</td><td>Mkt&amp;HR </td><td>58.80</td><td><span style=white-space:pre-wrap>Placed    </span></td><td>270000</td></tr>\n",
       "\t<tr><th scope=row>2</th><td>M</td><td>79.33</td><td>Central</td><td>78.33</td><td>Others </td><td>Science </td><td>77.48</td><td>Sci&amp;Tech </td><td>Yes</td><td>86.5</td><td>Mkt&amp;Fin</td><td>66.28</td><td><span style=white-space:pre-wrap>Placed    </span></td><td>200000</td></tr>\n",
       "\t<tr><th scope=row>3</th><td>M</td><td>65.00</td><td>Central</td><td>68.00</td><td>Central</td><td><span style=white-space:pre-wrap>Arts    </span></td><td>64.00</td><td>Comm&amp;Mgmt</td><td>No </td><td>75.0</td><td>Mkt&amp;Fin</td><td>57.80</td><td><span style=white-space:pre-wrap>Placed    </span></td><td>250000</td></tr>\n",
       "\t<tr><th scope=row>4</th><td>M</td><td>56.00</td><td>Central</td><td>52.00</td><td>Central</td><td>Science </td><td>52.00</td><td>Sci&amp;Tech </td><td>No </td><td>66.0</td><td>Mkt&amp;HR </td><td>59.43</td><td>Not Placed</td><td><span style=white-space:pre-wrap>    NA</span></td></tr>\n",
       "\t<tr><th scope=row>5</th><td>M</td><td>85.80</td><td>Central</td><td>73.60</td><td>Central</td><td>Commerce</td><td>73.30</td><td>Comm&amp;Mgmt</td><td>No </td><td>96.8</td><td>Mkt&amp;Fin</td><td>55.50</td><td><span style=white-space:pre-wrap>Placed    </span></td><td>425000</td></tr>\n",
       "\t<tr><th scope=row>6</th><td>M</td><td>55.00</td><td>Others </td><td>49.80</td><td>Others </td><td>Science </td><td>67.25</td><td>Sci&amp;Tech </td><td>Yes</td><td>55.0</td><td>Mkt&amp;Fin</td><td>51.58</td><td>Not Placed</td><td><span style=white-space:pre-wrap>    NA</span></td></tr>\n",
       "</tbody>\n",
       "</table>\n"
      ],
      "text/latex": [
       "A data.frame: 6 × 14\n",
       "\\begin{tabular}{r|llllllllllllll}\n",
       "  & gender & ssc\\_p & ssc\\_b & hsc\\_p & hsc\\_b & hsc\\_s & degree\\_p & degree\\_t & workex & etest\\_p & specialisation & mba\\_p & status & salary\\\\\n",
       "  & <chr> & <dbl> & <chr> & <dbl> & <chr> & <chr> & <dbl> & <chr> & <chr> & <dbl> & <chr> & <dbl> & <chr> & <int>\\\\\n",
       "\\hline\n",
       "\t1 & M & 67.00 & Others  & 91.00 & Others  & Commerce & 58.00 & Sci\\&Tech  & No  & 55.0 & Mkt\\&HR  & 58.80 & Placed     & 270000\\\\\n",
       "\t2 & M & 79.33 & Central & 78.33 & Others  & Science  & 77.48 & Sci\\&Tech  & Yes & 86.5 & Mkt\\&Fin & 66.28 & Placed     & 200000\\\\\n",
       "\t3 & M & 65.00 & Central & 68.00 & Central & Arts     & 64.00 & Comm\\&Mgmt & No  & 75.0 & Mkt\\&Fin & 57.80 & Placed     & 250000\\\\\n",
       "\t4 & M & 56.00 & Central & 52.00 & Central & Science  & 52.00 & Sci\\&Tech  & No  & 66.0 & Mkt\\&HR  & 59.43 & Not Placed &     NA\\\\\n",
       "\t5 & M & 85.80 & Central & 73.60 & Central & Commerce & 73.30 & Comm\\&Mgmt & No  & 96.8 & Mkt\\&Fin & 55.50 & Placed     & 425000\\\\\n",
       "\t6 & M & 55.00 & Others  & 49.80 & Others  & Science  & 67.25 & Sci\\&Tech  & Yes & 55.0 & Mkt\\&Fin & 51.58 & Not Placed &     NA\\\\\n",
       "\\end{tabular}\n"
      ],
      "text/markdown": [
       "\n",
       "A data.frame: 6 × 14\n",
       "\n",
       "| <!--/--> | gender &lt;chr&gt; | ssc_p &lt;dbl&gt; | ssc_b &lt;chr&gt; | hsc_p &lt;dbl&gt; | hsc_b &lt;chr&gt; | hsc_s &lt;chr&gt; | degree_p &lt;dbl&gt; | degree_t &lt;chr&gt; | workex &lt;chr&gt; | etest_p &lt;dbl&gt; | specialisation &lt;chr&gt; | mba_p &lt;dbl&gt; | status &lt;chr&gt; | salary &lt;int&gt; |\n",
       "|---|---|---|---|---|---|---|---|---|---|---|---|---|---|---|\n",
       "| 1 | M | 67.00 | Others  | 91.00 | Others  | Commerce | 58.00 | Sci&amp;Tech  | No  | 55.0 | Mkt&amp;HR  | 58.80 | Placed     | 270000 |\n",
       "| 2 | M | 79.33 | Central | 78.33 | Others  | Science  | 77.48 | Sci&amp;Tech  | Yes | 86.5 | Mkt&amp;Fin | 66.28 | Placed     | 200000 |\n",
       "| 3 | M | 65.00 | Central | 68.00 | Central | Arts     | 64.00 | Comm&amp;Mgmt | No  | 75.0 | Mkt&amp;Fin | 57.80 | Placed     | 250000 |\n",
       "| 4 | M | 56.00 | Central | 52.00 | Central | Science  | 52.00 | Sci&amp;Tech  | No  | 66.0 | Mkt&amp;HR  | 59.43 | Not Placed |     NA |\n",
       "| 5 | M | 85.80 | Central | 73.60 | Central | Commerce | 73.30 | Comm&amp;Mgmt | No  | 96.8 | Mkt&amp;Fin | 55.50 | Placed     | 425000 |\n",
       "| 6 | M | 55.00 | Others  | 49.80 | Others  | Science  | 67.25 | Sci&amp;Tech  | Yes | 55.0 | Mkt&amp;Fin | 51.58 | Not Placed |     NA |\n",
       "\n"
      ],
      "text/plain": [
       "  gender ssc_p ssc_b   hsc_p hsc_b   hsc_s    degree_p degree_t  workex etest_p\n",
       "1 M      67.00 Others  91.00 Others  Commerce 58.00    Sci&Tech  No     55.0   \n",
       "2 M      79.33 Central 78.33 Others  Science  77.48    Sci&Tech  Yes    86.5   \n",
       "3 M      65.00 Central 68.00 Central Arts     64.00    Comm&Mgmt No     75.0   \n",
       "4 M      56.00 Central 52.00 Central Science  52.00    Sci&Tech  No     66.0   \n",
       "5 M      85.80 Central 73.60 Central Commerce 73.30    Comm&Mgmt No     96.8   \n",
       "6 M      55.00 Others  49.80 Others  Science  67.25    Sci&Tech  Yes    55.0   \n",
       "  specialisation mba_p status     salary\n",
       "1 Mkt&HR         58.80 Placed     270000\n",
       "2 Mkt&Fin        66.28 Placed     200000\n",
       "3 Mkt&Fin        57.80 Placed     250000\n",
       "4 Mkt&HR         59.43 Not Placed     NA\n",
       "5 Mkt&Fin        55.50 Placed     425000\n",
       "6 Mkt&Fin        51.58 Not Placed     NA"
      ]
     },
     "metadata": {},
     "output_type": "display_data"
    }
   ],
   "source": [
    "df=read.csv(\"Placement.csv\",header=TRUE)\n",
    "head(df)"
   ]
  },
  {
   "cell_type": "code",
   "execution_count": 5,
   "id": "a9e9c1a8",
   "metadata": {
    "scrolled": true
   },
   "outputs": [
    {
     "data": {
      "text/html": [
       "<table class=\"dataframe\">\n",
       "<caption>A data.frame: 6 × 14</caption>\n",
       "<thead>\n",
       "\t<tr><th></th><th scope=col>gender</th><th scope=col>ssc_p</th><th scope=col>ssc_b</th><th scope=col>hsc_p</th><th scope=col>hsc_b</th><th scope=col>hsc_s</th><th scope=col>degree_p</th><th scope=col>degree_t</th><th scope=col>workex</th><th scope=col>etest_p</th><th scope=col>specialisation</th><th scope=col>mba_p</th><th scope=col>status</th><th scope=col>salary</th></tr>\n",
       "\t<tr><th></th><th scope=col>&lt;chr&gt;</th><th scope=col>&lt;dbl&gt;</th><th scope=col>&lt;chr&gt;</th><th scope=col>&lt;dbl&gt;</th><th scope=col>&lt;chr&gt;</th><th scope=col>&lt;chr&gt;</th><th scope=col>&lt;dbl&gt;</th><th scope=col>&lt;chr&gt;</th><th scope=col>&lt;chr&gt;</th><th scope=col>&lt;dbl&gt;</th><th scope=col>&lt;chr&gt;</th><th scope=col>&lt;dbl&gt;</th><th scope=col>&lt;chr&gt;</th><th scope=col>&lt;int&gt;</th></tr>\n",
       "</thead>\n",
       "<tbody>\n",
       "\t<tr><th scope=row>210</th><td>M</td><td>62.0</td><td>Central</td><td>72</td><td>Central</td><td>Commerce</td><td>65.0</td><td>Comm&amp;Mgmt</td><td>No </td><td>67</td><td>Mkt&amp;Fin</td><td>56.49</td><td><span style=white-space:pre-wrap>Placed    </span></td><td>216000</td></tr>\n",
       "\t<tr><th scope=row>211</th><td>M</td><td>80.6</td><td>Others </td><td>82</td><td>Others </td><td>Commerce</td><td>77.6</td><td>Comm&amp;Mgmt</td><td>No </td><td>91</td><td>Mkt&amp;Fin</td><td>74.49</td><td><span style=white-space:pre-wrap>Placed    </span></td><td>400000</td></tr>\n",
       "\t<tr><th scope=row>212</th><td>M</td><td>58.0</td><td>Others </td><td>60</td><td>Others </td><td>Science </td><td>72.0</td><td>Sci&amp;Tech </td><td>No </td><td>74</td><td>Mkt&amp;Fin</td><td>53.62</td><td><span style=white-space:pre-wrap>Placed    </span></td><td>275000</td></tr>\n",
       "\t<tr><th scope=row>213</th><td>M</td><td>67.0</td><td>Others </td><td>67</td><td>Others </td><td>Commerce</td><td>73.0</td><td>Comm&amp;Mgmt</td><td>Yes</td><td>59</td><td>Mkt&amp;Fin</td><td>69.72</td><td><span style=white-space:pre-wrap>Placed    </span></td><td>295000</td></tr>\n",
       "\t<tr><th scope=row>214</th><td>F</td><td>74.0</td><td>Others </td><td>66</td><td>Others </td><td>Commerce</td><td>58.0</td><td>Comm&amp;Mgmt</td><td>No </td><td>70</td><td>Mkt&amp;HR </td><td>60.23</td><td><span style=white-space:pre-wrap>Placed    </span></td><td>204000</td></tr>\n",
       "\t<tr><th scope=row>215</th><td>M</td><td>62.0</td><td>Central</td><td>58</td><td>Others </td><td>Science </td><td>53.0</td><td>Comm&amp;Mgmt</td><td>No </td><td>89</td><td>Mkt&amp;HR </td><td>60.22</td><td>Not Placed</td><td><span style=white-space:pre-wrap>    NA</span></td></tr>\n",
       "</tbody>\n",
       "</table>\n"
      ],
      "text/latex": [
       "A data.frame: 6 × 14\n",
       "\\begin{tabular}{r|llllllllllllll}\n",
       "  & gender & ssc\\_p & ssc\\_b & hsc\\_p & hsc\\_b & hsc\\_s & degree\\_p & degree\\_t & workex & etest\\_p & specialisation & mba\\_p & status & salary\\\\\n",
       "  & <chr> & <dbl> & <chr> & <dbl> & <chr> & <chr> & <dbl> & <chr> & <chr> & <dbl> & <chr> & <dbl> & <chr> & <int>\\\\\n",
       "\\hline\n",
       "\t210 & M & 62.0 & Central & 72 & Central & Commerce & 65.0 & Comm\\&Mgmt & No  & 67 & Mkt\\&Fin & 56.49 & Placed     & 216000\\\\\n",
       "\t211 & M & 80.6 & Others  & 82 & Others  & Commerce & 77.6 & Comm\\&Mgmt & No  & 91 & Mkt\\&Fin & 74.49 & Placed     & 400000\\\\\n",
       "\t212 & M & 58.0 & Others  & 60 & Others  & Science  & 72.0 & Sci\\&Tech  & No  & 74 & Mkt\\&Fin & 53.62 & Placed     & 275000\\\\\n",
       "\t213 & M & 67.0 & Others  & 67 & Others  & Commerce & 73.0 & Comm\\&Mgmt & Yes & 59 & Mkt\\&Fin & 69.72 & Placed     & 295000\\\\\n",
       "\t214 & F & 74.0 & Others  & 66 & Others  & Commerce & 58.0 & Comm\\&Mgmt & No  & 70 & Mkt\\&HR  & 60.23 & Placed     & 204000\\\\\n",
       "\t215 & M & 62.0 & Central & 58 & Others  & Science  & 53.0 & Comm\\&Mgmt & No  & 89 & Mkt\\&HR  & 60.22 & Not Placed &     NA\\\\\n",
       "\\end{tabular}\n"
      ],
      "text/markdown": [
       "\n",
       "A data.frame: 6 × 14\n",
       "\n",
       "| <!--/--> | gender &lt;chr&gt; | ssc_p &lt;dbl&gt; | ssc_b &lt;chr&gt; | hsc_p &lt;dbl&gt; | hsc_b &lt;chr&gt; | hsc_s &lt;chr&gt; | degree_p &lt;dbl&gt; | degree_t &lt;chr&gt; | workex &lt;chr&gt; | etest_p &lt;dbl&gt; | specialisation &lt;chr&gt; | mba_p &lt;dbl&gt; | status &lt;chr&gt; | salary &lt;int&gt; |\n",
       "|---|---|---|---|---|---|---|---|---|---|---|---|---|---|---|\n",
       "| 210 | M | 62.0 | Central | 72 | Central | Commerce | 65.0 | Comm&amp;Mgmt | No  | 67 | Mkt&amp;Fin | 56.49 | Placed     | 216000 |\n",
       "| 211 | M | 80.6 | Others  | 82 | Others  | Commerce | 77.6 | Comm&amp;Mgmt | No  | 91 | Mkt&amp;Fin | 74.49 | Placed     | 400000 |\n",
       "| 212 | M | 58.0 | Others  | 60 | Others  | Science  | 72.0 | Sci&amp;Tech  | No  | 74 | Mkt&amp;Fin | 53.62 | Placed     | 275000 |\n",
       "| 213 | M | 67.0 | Others  | 67 | Others  | Commerce | 73.0 | Comm&amp;Mgmt | Yes | 59 | Mkt&amp;Fin | 69.72 | Placed     | 295000 |\n",
       "| 214 | F | 74.0 | Others  | 66 | Others  | Commerce | 58.0 | Comm&amp;Mgmt | No  | 70 | Mkt&amp;HR  | 60.23 | Placed     | 204000 |\n",
       "| 215 | M | 62.0 | Central | 58 | Others  | Science  | 53.0 | Comm&amp;Mgmt | No  | 89 | Mkt&amp;HR  | 60.22 | Not Placed |     NA |\n",
       "\n"
      ],
      "text/plain": [
       "    gender ssc_p ssc_b   hsc_p hsc_b   hsc_s    degree_p degree_t  workex\n",
       "210 M      62.0  Central 72    Central Commerce 65.0     Comm&Mgmt No    \n",
       "211 M      80.6  Others  82    Others  Commerce 77.6     Comm&Mgmt No    \n",
       "212 M      58.0  Others  60    Others  Science  72.0     Sci&Tech  No    \n",
       "213 M      67.0  Others  67    Others  Commerce 73.0     Comm&Mgmt Yes   \n",
       "214 F      74.0  Others  66    Others  Commerce 58.0     Comm&Mgmt No    \n",
       "215 M      62.0  Central 58    Others  Science  53.0     Comm&Mgmt No    \n",
       "    etest_p specialisation mba_p status     salary\n",
       "210 67      Mkt&Fin        56.49 Placed     216000\n",
       "211 91      Mkt&Fin        74.49 Placed     400000\n",
       "212 74      Mkt&Fin        53.62 Placed     275000\n",
       "213 59      Mkt&Fin        69.72 Placed     295000\n",
       "214 70      Mkt&HR         60.23 Placed     204000\n",
       "215 89      Mkt&HR         60.22 Not Placed     NA"
      ]
     },
     "metadata": {},
     "output_type": "display_data"
    }
   ],
   "source": [
    "tail(df)"
   ]
  },
  {
   "cell_type": "code",
   "execution_count": 6,
   "id": "0366931d",
   "metadata": {
    "scrolled": true
   },
   "outputs": [
    {
     "data": {
      "text/html": [
       "<table class=\"dataframe\">\n",
       "<caption>A psych: 14 × 13</caption>\n",
       "<thead>\n",
       "\t<tr><th></th><th scope=col>vars</th><th scope=col>n</th><th scope=col>mean</th><th scope=col>sd</th><th scope=col>median</th><th scope=col>trimmed</th><th scope=col>mad</th><th scope=col>min</th><th scope=col>max</th><th scope=col>range</th><th scope=col>skew</th><th scope=col>kurtosis</th><th scope=col>se</th></tr>\n",
       "\t<tr><th></th><th scope=col>&lt;int&gt;</th><th scope=col>&lt;dbl&gt;</th><th scope=col>&lt;dbl&gt;</th><th scope=col>&lt;dbl&gt;</th><th scope=col>&lt;dbl&gt;</th><th scope=col>&lt;dbl&gt;</th><th scope=col>&lt;dbl&gt;</th><th scope=col>&lt;dbl&gt;</th><th scope=col>&lt;dbl&gt;</th><th scope=col>&lt;dbl&gt;</th><th scope=col>&lt;dbl&gt;</th><th scope=col>&lt;dbl&gt;</th><th scope=col>&lt;dbl&gt;</th></tr>\n",
       "</thead>\n",
       "<tbody>\n",
       "\t<tr><th scope=row>gender*</th><td> 1</td><td>215</td><td>1.646512e+00</td><td>4.791683e-01</td><td>     2</td><td>1.682081e+00</td><td>    0.00000</td><td>     1.00</td><td>     2.00</td><td>     1.00</td><td>-0.6086804</td><td>-1.637057582</td><td>3.267901e-02</td></tr>\n",
       "\t<tr><th scope=row>ssc_p</th><td> 2</td><td>215</td><td>6.730340e+01</td><td>1.082721e+01</td><td>    67</td><td>6.744902e+01</td><td>   10.67472</td><td>    40.89</td><td>    89.40</td><td>    48.51</td><td>-0.1308043</td><td>-0.643327966</td><td>7.384093e-01</td></tr>\n",
       "\t<tr><th scope=row>ssc_b*</th><td> 3</td><td>215</td><td>1.460465e+00</td><td>4.995978e-01</td><td>     1</td><td>1.450867e+00</td><td>    0.00000</td><td>     1.00</td><td>     2.00</td><td>     1.00</td><td> 0.1575307</td><td>-1.984348797</td><td>3.407228e-02</td></tr>\n",
       "\t<tr><th scope=row>hsc_p</th><td> 4</td><td>215</td><td>6.633316e+01</td><td>1.089751e+01</td><td>    65</td><td>6.620954e+01</td><td>    8.89560</td><td>    37.00</td><td>    97.70</td><td>    60.70</td><td> 0.1613629</td><td> 0.380901110</td><td>7.432040e-01</td></tr>\n",
       "\t<tr><th scope=row>hsc_b*</th><td> 5</td><td>215</td><td>1.609302e+00</td><td>4.890454e-01</td><td>     2</td><td>1.635838e+00</td><td>    0.00000</td><td>     1.00</td><td>     2.00</td><td>     1.00</td><td>-0.4449237</td><td>-1.810398563</td><td>3.335262e-02</td></tr>\n",
       "\t<tr><th scope=row>hsc_s*</th><td> 6</td><td>215</td><td>2.372093e+00</td><td>5.809779e-01</td><td>     2</td><td>2.404624e+00</td><td>    0.00000</td><td>     1.00</td><td>     3.00</td><td>     2.00</td><td>-0.2776921</td><td>-0.742417790</td><td>3.962236e-02</td></tr>\n",
       "\t<tr><th scope=row>degree_p</th><td> 7</td><td>215</td><td>6.637019e+01</td><td>7.358743e+00</td><td>    66</td><td>6.620017e+01</td><td>    7.56126</td><td>    50.00</td><td>    91.00</td><td>    41.00</td><td> 0.2415103</td><td>-0.004896303</td><td>5.018621e-01</td></tr>\n",
       "\t<tr><th scope=row>degree_t*</th><td> 8</td><td>215</td><td>1.600000e+00</td><td>8.902378e-01</td><td>     1</td><td>1.502890e+00</td><td>    0.00000</td><td>     1.00</td><td>     3.00</td><td>     2.00</td><td> 0.8654500</td><td>-1.180332507</td><td>6.071371e-02</td></tr>\n",
       "\t<tr><th scope=row>workex*</th><td> 9</td><td>215</td><td>1.344186e+00</td><td>4.762109e-01</td><td>     1</td><td>1.306358e+00</td><td>    0.00000</td><td>     1.00</td><td>     2.00</td><td>     1.00</td><td> 0.6513469</td><td>-1.583045406</td><td>3.247731e-02</td></tr>\n",
       "\t<tr><th scope=row>etest_p</th><td>10</td><td>215</td><td>7.210056e+01</td><td>1.327596e+01</td><td>    71</td><td>7.155861e+01</td><td>   16.30860</td><td>    50.00</td><td>    98.00</td><td>    48.00</td><td> 0.2783812</td><td>-1.108920990</td><td>9.054127e-01</td></tr>\n",
       "\t<tr><th scope=row>specialisation*</th><td>11</td><td>215</td><td>1.441860e+00</td><td>4.977672e-01</td><td>     1</td><td>1.427746e+00</td><td>    0.00000</td><td>     1.00</td><td>     2.00</td><td>     1.00</td><td> 0.2325148</td><td>-1.954964941</td><td>3.394744e-02</td></tr>\n",
       "\t<tr><th scope=row>mba_p</th><td>12</td><td>215</td><td>6.227819e+01</td><td>5.833385e+00</td><td>    62</td><td>6.207387e+01</td><td>    6.22692</td><td>    51.21</td><td>    77.89</td><td>    26.68</td><td> 0.3092137</td><td>-0.510941066</td><td>3.978335e-01</td></tr>\n",
       "\t<tr><th scope=row>status*</th><td>13</td><td>215</td><td>1.688372e+00</td><td>4.642396e-01</td><td>     2</td><td>1.734104e+00</td><td>    0.00000</td><td>     1.00</td><td>     2.00</td><td>     1.00</td><td>-0.8077551</td><td>-1.353763409</td><td>3.166087e-02</td></tr>\n",
       "\t<tr><th scope=row>salary</th><td>14</td><td>148</td><td>2.886554e+05</td><td>9.345745e+04</td><td>265000</td><td>2.729583e+05</td><td>51891.00000</td><td>200000.00</td><td>940000.00</td><td>740000.00</td><td> 3.4977134</td><td>17.602152373</td><td>7.682155e+03</td></tr>\n",
       "</tbody>\n",
       "</table>\n"
      ],
      "text/latex": [
       "A psych: 14 × 13\n",
       "\\begin{tabular}{r|lllllllllllll}\n",
       "  & vars & n & mean & sd & median & trimmed & mad & min & max & range & skew & kurtosis & se\\\\\n",
       "  & <int> & <dbl> & <dbl> & <dbl> & <dbl> & <dbl> & <dbl> & <dbl> & <dbl> & <dbl> & <dbl> & <dbl> & <dbl>\\\\\n",
       "\\hline\n",
       "\tgender* &  1 & 215 & 1.646512e+00 & 4.791683e-01 &      2 & 1.682081e+00 &     0.00000 &      1.00 &      2.00 &      1.00 & -0.6086804 & -1.637057582 & 3.267901e-02\\\\\n",
       "\tssc\\_p &  2 & 215 & 6.730340e+01 & 1.082721e+01 &     67 & 6.744902e+01 &    10.67472 &     40.89 &     89.40 &     48.51 & -0.1308043 & -0.643327966 & 7.384093e-01\\\\\n",
       "\tssc\\_b* &  3 & 215 & 1.460465e+00 & 4.995978e-01 &      1 & 1.450867e+00 &     0.00000 &      1.00 &      2.00 &      1.00 &  0.1575307 & -1.984348797 & 3.407228e-02\\\\\n",
       "\thsc\\_p &  4 & 215 & 6.633316e+01 & 1.089751e+01 &     65 & 6.620954e+01 &     8.89560 &     37.00 &     97.70 &     60.70 &  0.1613629 &  0.380901110 & 7.432040e-01\\\\\n",
       "\thsc\\_b* &  5 & 215 & 1.609302e+00 & 4.890454e-01 &      2 & 1.635838e+00 &     0.00000 &      1.00 &      2.00 &      1.00 & -0.4449237 & -1.810398563 & 3.335262e-02\\\\\n",
       "\thsc\\_s* &  6 & 215 & 2.372093e+00 & 5.809779e-01 &      2 & 2.404624e+00 &     0.00000 &      1.00 &      3.00 &      2.00 & -0.2776921 & -0.742417790 & 3.962236e-02\\\\\n",
       "\tdegree\\_p &  7 & 215 & 6.637019e+01 & 7.358743e+00 &     66 & 6.620017e+01 &     7.56126 &     50.00 &     91.00 &     41.00 &  0.2415103 & -0.004896303 & 5.018621e-01\\\\\n",
       "\tdegree\\_t* &  8 & 215 & 1.600000e+00 & 8.902378e-01 &      1 & 1.502890e+00 &     0.00000 &      1.00 &      3.00 &      2.00 &  0.8654500 & -1.180332507 & 6.071371e-02\\\\\n",
       "\tworkex* &  9 & 215 & 1.344186e+00 & 4.762109e-01 &      1 & 1.306358e+00 &     0.00000 &      1.00 &      2.00 &      1.00 &  0.6513469 & -1.583045406 & 3.247731e-02\\\\\n",
       "\tetest\\_p & 10 & 215 & 7.210056e+01 & 1.327596e+01 &     71 & 7.155861e+01 &    16.30860 &     50.00 &     98.00 &     48.00 &  0.2783812 & -1.108920990 & 9.054127e-01\\\\\n",
       "\tspecialisation* & 11 & 215 & 1.441860e+00 & 4.977672e-01 &      1 & 1.427746e+00 &     0.00000 &      1.00 &      2.00 &      1.00 &  0.2325148 & -1.954964941 & 3.394744e-02\\\\\n",
       "\tmba\\_p & 12 & 215 & 6.227819e+01 & 5.833385e+00 &     62 & 6.207387e+01 &     6.22692 &     51.21 &     77.89 &     26.68 &  0.3092137 & -0.510941066 & 3.978335e-01\\\\\n",
       "\tstatus* & 13 & 215 & 1.688372e+00 & 4.642396e-01 &      2 & 1.734104e+00 &     0.00000 &      1.00 &      2.00 &      1.00 & -0.8077551 & -1.353763409 & 3.166087e-02\\\\\n",
       "\tsalary & 14 & 148 & 2.886554e+05 & 9.345745e+04 & 265000 & 2.729583e+05 & 51891.00000 & 200000.00 & 940000.00 & 740000.00 &  3.4977134 & 17.602152373 & 7.682155e+03\\\\\n",
       "\\end{tabular}\n"
      ],
      "text/markdown": [
       "\n",
       "A psych: 14 × 13\n",
       "\n",
       "| <!--/--> | vars &lt;int&gt; | n &lt;dbl&gt; | mean &lt;dbl&gt; | sd &lt;dbl&gt; | median &lt;dbl&gt; | trimmed &lt;dbl&gt; | mad &lt;dbl&gt; | min &lt;dbl&gt; | max &lt;dbl&gt; | range &lt;dbl&gt; | skew &lt;dbl&gt; | kurtosis &lt;dbl&gt; | se &lt;dbl&gt; |\n",
       "|---|---|---|---|---|---|---|---|---|---|---|---|---|---|\n",
       "| gender* |  1 | 215 | 1.646512e+00 | 4.791683e-01 |      2 | 1.682081e+00 |     0.00000 |      1.00 |      2.00 |      1.00 | -0.6086804 | -1.637057582 | 3.267901e-02 |\n",
       "| ssc_p |  2 | 215 | 6.730340e+01 | 1.082721e+01 |     67 | 6.744902e+01 |    10.67472 |     40.89 |     89.40 |     48.51 | -0.1308043 | -0.643327966 | 7.384093e-01 |\n",
       "| ssc_b* |  3 | 215 | 1.460465e+00 | 4.995978e-01 |      1 | 1.450867e+00 |     0.00000 |      1.00 |      2.00 |      1.00 |  0.1575307 | -1.984348797 | 3.407228e-02 |\n",
       "| hsc_p |  4 | 215 | 6.633316e+01 | 1.089751e+01 |     65 | 6.620954e+01 |     8.89560 |     37.00 |     97.70 |     60.70 |  0.1613629 |  0.380901110 | 7.432040e-01 |\n",
       "| hsc_b* |  5 | 215 | 1.609302e+00 | 4.890454e-01 |      2 | 1.635838e+00 |     0.00000 |      1.00 |      2.00 |      1.00 | -0.4449237 | -1.810398563 | 3.335262e-02 |\n",
       "| hsc_s* |  6 | 215 | 2.372093e+00 | 5.809779e-01 |      2 | 2.404624e+00 |     0.00000 |      1.00 |      3.00 |      2.00 | -0.2776921 | -0.742417790 | 3.962236e-02 |\n",
       "| degree_p |  7 | 215 | 6.637019e+01 | 7.358743e+00 |     66 | 6.620017e+01 |     7.56126 |     50.00 |     91.00 |     41.00 |  0.2415103 | -0.004896303 | 5.018621e-01 |\n",
       "| degree_t* |  8 | 215 | 1.600000e+00 | 8.902378e-01 |      1 | 1.502890e+00 |     0.00000 |      1.00 |      3.00 |      2.00 |  0.8654500 | -1.180332507 | 6.071371e-02 |\n",
       "| workex* |  9 | 215 | 1.344186e+00 | 4.762109e-01 |      1 | 1.306358e+00 |     0.00000 |      1.00 |      2.00 |      1.00 |  0.6513469 | -1.583045406 | 3.247731e-02 |\n",
       "| etest_p | 10 | 215 | 7.210056e+01 | 1.327596e+01 |     71 | 7.155861e+01 |    16.30860 |     50.00 |     98.00 |     48.00 |  0.2783812 | -1.108920990 | 9.054127e-01 |\n",
       "| specialisation* | 11 | 215 | 1.441860e+00 | 4.977672e-01 |      1 | 1.427746e+00 |     0.00000 |      1.00 |      2.00 |      1.00 |  0.2325148 | -1.954964941 | 3.394744e-02 |\n",
       "| mba_p | 12 | 215 | 6.227819e+01 | 5.833385e+00 |     62 | 6.207387e+01 |     6.22692 |     51.21 |     77.89 |     26.68 |  0.3092137 | -0.510941066 | 3.978335e-01 |\n",
       "| status* | 13 | 215 | 1.688372e+00 | 4.642396e-01 |      2 | 1.734104e+00 |     0.00000 |      1.00 |      2.00 |      1.00 | -0.8077551 | -1.353763409 | 3.166087e-02 |\n",
       "| salary | 14 | 148 | 2.886554e+05 | 9.345745e+04 | 265000 | 2.729583e+05 | 51891.00000 | 200000.00 | 940000.00 | 740000.00 |  3.4977134 | 17.602152373 | 7.682155e+03 |\n",
       "\n"
      ],
      "text/plain": [
       "                vars n   mean         sd           median trimmed     \n",
       "gender*          1   215 1.646512e+00 4.791683e-01      2 1.682081e+00\n",
       "ssc_p            2   215 6.730340e+01 1.082721e+01     67 6.744902e+01\n",
       "ssc_b*           3   215 1.460465e+00 4.995978e-01      1 1.450867e+00\n",
       "hsc_p            4   215 6.633316e+01 1.089751e+01     65 6.620954e+01\n",
       "hsc_b*           5   215 1.609302e+00 4.890454e-01      2 1.635838e+00\n",
       "hsc_s*           6   215 2.372093e+00 5.809779e-01      2 2.404624e+00\n",
       "degree_p         7   215 6.637019e+01 7.358743e+00     66 6.620017e+01\n",
       "degree_t*        8   215 1.600000e+00 8.902378e-01      1 1.502890e+00\n",
       "workex*          9   215 1.344186e+00 4.762109e-01      1 1.306358e+00\n",
       "etest_p         10   215 7.210056e+01 1.327596e+01     71 7.155861e+01\n",
       "specialisation* 11   215 1.441860e+00 4.977672e-01      1 1.427746e+00\n",
       "mba_p           12   215 6.227819e+01 5.833385e+00     62 6.207387e+01\n",
       "status*         13   215 1.688372e+00 4.642396e-01      2 1.734104e+00\n",
       "salary          14   148 2.886554e+05 9.345745e+04 265000 2.729583e+05\n",
       "                mad         min       max       range     skew      \n",
       "gender*             0.00000      1.00      2.00      1.00 -0.6086804\n",
       "ssc_p              10.67472     40.89     89.40     48.51 -0.1308043\n",
       "ssc_b*              0.00000      1.00      2.00      1.00  0.1575307\n",
       "hsc_p               8.89560     37.00     97.70     60.70  0.1613629\n",
       "hsc_b*              0.00000      1.00      2.00      1.00 -0.4449237\n",
       "hsc_s*              0.00000      1.00      3.00      2.00 -0.2776921\n",
       "degree_p            7.56126     50.00     91.00     41.00  0.2415103\n",
       "degree_t*           0.00000      1.00      3.00      2.00  0.8654500\n",
       "workex*             0.00000      1.00      2.00      1.00  0.6513469\n",
       "etest_p            16.30860     50.00     98.00     48.00  0.2783812\n",
       "specialisation*     0.00000      1.00      2.00      1.00  0.2325148\n",
       "mba_p               6.22692     51.21     77.89     26.68  0.3092137\n",
       "status*             0.00000      1.00      2.00      1.00 -0.8077551\n",
       "salary          51891.00000 200000.00 940000.00 740000.00  3.4977134\n",
       "                kurtosis     se          \n",
       "gender*         -1.637057582 3.267901e-02\n",
       "ssc_p           -0.643327966 7.384093e-01\n",
       "ssc_b*          -1.984348797 3.407228e-02\n",
       "hsc_p            0.380901110 7.432040e-01\n",
       "hsc_b*          -1.810398563 3.335262e-02\n",
       "hsc_s*          -0.742417790 3.962236e-02\n",
       "degree_p        -0.004896303 5.018621e-01\n",
       "degree_t*       -1.180332507 6.071371e-02\n",
       "workex*         -1.583045406 3.247731e-02\n",
       "etest_p         -1.108920990 9.054127e-01\n",
       "specialisation* -1.954964941 3.394744e-02\n",
       "mba_p           -0.510941066 3.978335e-01\n",
       "status*         -1.353763409 3.166087e-02\n",
       "salary          17.602152373 7.682155e+03"
      ]
     },
     "metadata": {},
     "output_type": "display_data"
    }
   ],
   "source": [
    "describe(df)"
   ]
  },
  {
   "cell_type": "code",
   "execution_count": 7,
   "id": "3a9d2057",
   "metadata": {
    "scrolled": false
   },
   "outputs": [
    {
     "name": "stdout",
     "output_type": "stream",
     "text": [
      "'data.frame':\t215 obs. of  14 variables:\n",
      " $ gender        : chr  \"M\" \"M\" \"M\" \"M\" ...\n",
      " $ ssc_p         : num  67 79.3 65 56 85.8 ...\n",
      " $ ssc_b         : chr  \"Others\" \"Central\" \"Central\" \"Central\" ...\n",
      " $ hsc_p         : num  91 78.3 68 52 73.6 ...\n",
      " $ hsc_b         : chr  \"Others\" \"Others\" \"Central\" \"Central\" ...\n",
      " $ hsc_s         : chr  \"Commerce\" \"Science\" \"Arts\" \"Science\" ...\n",
      " $ degree_p      : num  58 77.5 64 52 73.3 ...\n",
      " $ degree_t      : chr  \"Sci&Tech\" \"Sci&Tech\" \"Comm&Mgmt\" \"Sci&Tech\" ...\n",
      " $ workex        : chr  \"No\" \"Yes\" \"No\" \"No\" ...\n",
      " $ etest_p       : num  55 86.5 75 66 96.8 ...\n",
      " $ specialisation: chr  \"Mkt&HR\" \"Mkt&Fin\" \"Mkt&Fin\" \"Mkt&HR\" ...\n",
      " $ mba_p         : num  58.8 66.3 57.8 59.4 55.5 ...\n",
      " $ status        : chr  \"Placed\" \"Placed\" \"Placed\" \"Not Placed\" ...\n",
      " $ salary        : int  270000 200000 250000 NA 425000 NA NA 252000 231000 NA ...\n"
     ]
    }
   ],
   "source": [
    "str(df)"
   ]
  },
  {
   "cell_type": "markdown",
   "id": "0d0791d9",
   "metadata": {},
   "source": [
    "### Identifying Dtypes"
   ]
  },
  {
   "cell_type": "code",
   "execution_count": 8,
   "id": "f10c4b4b",
   "metadata": {
    "scrolled": true
   },
   "outputs": [
    {
     "name": "stdout",
     "output_type": "stream",
     "text": [
      "Character Datatype columns :\n",
      ">  gender \n",
      ">  ssc_b \n",
      ">  hsc_b \n",
      ">  hsc_s \n",
      ">  degree_t \n",
      ">  workex \n",
      ">  specialisation \n",
      ">  status \n"
     ]
    }
   ],
   "source": [
    "chrDT<-list()\n",
    "intDT<-list()\n",
    "for(i in seq(ncol(df)))\n",
    "{\n",
    "    if(typeof(df[,i])==\"character\")\n",
    "    {\n",
    "        chrDT<-append(chrDT,i,after=length(chrDT))\n",
    "    }\n",
    "    else{\n",
    "       intDT<-append(intDT,i,after=length(intDT))\n",
    "    }\n",
    "}\n",
    "cat(\"Character Datatype columns :\\n\")\n",
    "for(i in names(df)[unlist(chrDT)])\n",
    "cat('> ',i,\"\\n\")"
   ]
  },
  {
   "cell_type": "code",
   "execution_count": 9,
   "id": "5311c43c",
   "metadata": {},
   "outputs": [
    {
     "name": "stdout",
     "output_type": "stream",
     "text": [
      "\n",
      "Integer Datatype columns :\n",
      ">  ssc_p \n",
      ">  hsc_p \n",
      ">  degree_p \n",
      ">  etest_p \n",
      ">  mba_p \n",
      ">  salary \n"
     ]
    }
   ],
   "source": [
    "cat(\"\\nInteger Datatype columns :\\n\")\n",
    "for(i in names(df)[unlist(intDT)])\n",
    "cat('> ',i,\"\\n\")"
   ]
  },
  {
   "cell_type": "code",
   "execution_count": 10,
   "id": "1e902172",
   "metadata": {
    "scrolled": false
   },
   "outputs": [
    {
     "name": "stdout",
     "output_type": "stream",
     "text": [
      "gender { Length:215         Class :character   Mode  :character   } \n",
      "\n",
      "ssc_b { Length:215         Class :character   Mode  :character   } \n",
      "\n",
      "hsc_b { Length:215         Class :character   Mode  :character   } \n",
      "\n",
      "hsc_s { Length:215         Class :character   Mode  :character   } \n",
      "\n",
      "degree_t { Length:215         Class :character   Mode  :character   } \n",
      "\n",
      "workex { Length:215         Class :character   Mode  :character   } \n",
      "\n",
      "specialisation { Length:215         Class :character   Mode  :character   } \n",
      "\n",
      "status { Length:215         Class :character   Mode  :character   } \n",
      "\n"
     ]
    }
   ],
   "source": [
    "for(i in c(unlist(chrDT)))\n",
    "    cat(names(df)[i],'{',summary(df[i]),'}',\"\\n\\n\")"
   ]
  },
  {
   "cell_type": "code",
   "execution_count": 11,
   "id": "922bff42",
   "metadata": {
    "scrolled": true
   },
   "outputs": [
    {
     "name": "stdout",
     "output_type": "stream",
     "text": [
      "ssc_p { Min.   :40.89   1st Qu.:60.60   Median :67.00   Mean   :67.30   3rd Qu.:75.70   Max.   :89.40   } \n",
      "\n",
      "hsc_p { Min.   :37.00   1st Qu.:60.90   Median :65.00   Mean   :66.33   3rd Qu.:73.00   Max.   :97.70   } \n",
      "\n",
      "degree_p { Min.   :50.00   1st Qu.:61.00   Median :66.00   Mean   :66.37   3rd Qu.:72.00   Max.   :91.00   } \n",
      "\n",
      "etest_p { Min.   :50.0   1st Qu.:60.0   Median :71.0   Mean   :72.1   3rd Qu.:83.5   Max.   :98.0   } \n",
      "\n",
      "mba_p { Min.   :51.21   1st Qu.:57.95   Median :62.00   Mean   :62.28   3rd Qu.:66.25   Max.   :77.89   } \n",
      "\n",
      "salary { Min.   :200000   1st Qu.:240000   Median :265000   Mean   :288655   3rd Qu.:300000   Max.   :940000   NA's   :67   } \n",
      "\n"
     ]
    }
   ],
   "source": [
    "for(i in c(unlist(intDT)))\n",
    "    cat(names(df)[i],'{',summary(df[i]),'}',\"\\n\\n\")"
   ]
  },
  {
   "cell_type": "code",
   "execution_count": 12,
   "id": "237fb322",
   "metadata": {
    "scrolled": false
   },
   "outputs": [
    {
     "data": {
      "text/plain": [
       "    gender              ssc_p          ssc_b               hsc_p      \n",
       " Length:215         Min.   :40.89   Length:215         Min.   :37.00  \n",
       " Class :character   1st Qu.:60.60   Class :character   1st Qu.:60.90  \n",
       " Mode  :character   Median :67.00   Mode  :character   Median :65.00  \n",
       "                    Mean   :67.30                      Mean   :66.33  \n",
       "                    3rd Qu.:75.70                      3rd Qu.:73.00  \n",
       "                    Max.   :89.40                      Max.   :97.70  \n",
       "                                                                      \n",
       "    hsc_b              hsc_s              degree_p       degree_t        \n",
       " Length:215         Length:215         Min.   :50.00   Length:215        \n",
       " Class :character   Class :character   1st Qu.:61.00   Class :character  \n",
       " Mode  :character   Mode  :character   Median :66.00   Mode  :character  \n",
       "                                       Mean   :66.37                     \n",
       "                                       3rd Qu.:72.00                     \n",
       "                                       Max.   :91.00                     \n",
       "                                                                         \n",
       "    workex             etest_p     specialisation         mba_p      \n",
       " Length:215         Min.   :50.0   Length:215         Min.   :51.21  \n",
       " Class :character   1st Qu.:60.0   Class :character   1st Qu.:57.95  \n",
       " Mode  :character   Median :71.0   Mode  :character   Median :62.00  \n",
       "                    Mean   :72.1                      Mean   :62.28  \n",
       "                    3rd Qu.:83.5                      3rd Qu.:66.25  \n",
       "                    Max.   :98.0                      Max.   :77.89  \n",
       "                                                                     \n",
       "    status              salary      \n",
       " Length:215         Min.   :200000  \n",
       " Class :character   1st Qu.:240000  \n",
       " Mode  :character   Median :265000  \n",
       "                    Mean   :288655  \n",
       "                    3rd Qu.:300000  \n",
       "                    Max.   :940000  \n",
       "                    NA's   :67      "
      ]
     },
     "metadata": {},
     "output_type": "display_data"
    }
   ],
   "source": [
    "summary(df)"
   ]
  },
  {
   "cell_type": "markdown",
   "id": "35143b70",
   "metadata": {},
   "source": [
    "# Data Preprocessing"
   ]
  },
  {
   "cell_type": "markdown",
   "id": "c1b87d22",
   "metadata": {},
   "source": [
    "## Making Categorical data"
   ]
  },
  {
   "cell_type": "code",
   "execution_count": 13,
   "id": "f10188f8",
   "metadata": {},
   "outputs": [
    {
     "name": "stdout",
     "output_type": "stream",
     "text": [
      "'data.frame':\t215 obs. of  14 variables:\n",
      " $ gender        : chr  \"M\" \"M\" \"M\" \"M\" ...\n",
      " $ ssc_p         : num  67 79.3 65 56 85.8 ...\n",
      " $ ssc_b         : chr  \"Others\" \"Central\" \"Central\" \"Central\" ...\n",
      " $ hsc_p         : num  91 78.3 68 52 73.6 ...\n",
      " $ hsc_b         : chr  \"Others\" \"Others\" \"Central\" \"Central\" ...\n",
      " $ hsc_s         : chr  \"Commerce\" \"Science\" \"Arts\" \"Science\" ...\n",
      " $ degree_p      : num  58 77.5 64 52 73.3 ...\n",
      " $ degree_t      : chr  \"Sci&Tech\" \"Sci&Tech\" \"Comm&Mgmt\" \"Sci&Tech\" ...\n",
      " $ workex        : chr  \"No\" \"Yes\" \"No\" \"No\" ...\n",
      " $ etest_p       : num  55 86.5 75 66 96.8 ...\n",
      " $ specialisation: chr  \"Mkt&HR\" \"Mkt&Fin\" \"Mkt&Fin\" \"Mkt&HR\" ...\n",
      " $ mba_p         : num  58.8 66.3 57.8 59.4 55.5 ...\n",
      " $ status        : chr  \"Placed\" \"Placed\" \"Placed\" \"Not Placed\" ...\n",
      " $ salary        : int  270000 200000 250000 NA 425000 NA NA 252000 231000 NA ...\n"
     ]
    }
   ],
   "source": [
    "str(df)"
   ]
  },
  {
   "cell_type": "code",
   "execution_count": 14,
   "id": "e174a6f4",
   "metadata": {
    "scrolled": false
   },
   "outputs": [
    {
     "name": "stdout",
     "output_type": "stream",
     "text": [
      "'data.frame':\t215 obs. of  14 variables:\n",
      " $ gender        : Factor w/ 2 levels \"F\",\"M\": 2 2 2 2 2 2 1 2 2 2 ...\n",
      " $ ssc_p         : num  67 79.3 65 56 85.8 ...\n",
      " $ ssc_b         : Factor w/ 2 levels \"Central\",\"Others\": 2 1 1 1 1 2 2 1 1 1 ...\n",
      " $ hsc_p         : num  91 78.3 68 52 73.6 ...\n",
      " $ hsc_b         : Factor w/ 2 levels \"Central\",\"Others\": 2 2 1 1 1 2 2 1 1 1 ...\n",
      " $ hsc_s         : Factor w/ 3 levels \"Arts\",\"Commerce\",..: 2 3 1 3 2 3 2 3 2 2 ...\n",
      " $ degree_p      : num  58 77.5 64 52 73.3 ...\n",
      " $ degree_t      : Factor w/ 3 levels \"Comm&Mgmt\",\"Others\",..: 3 3 1 3 1 3 1 3 1 1 ...\n",
      " $ workex        : Factor w/ 2 levels \"No\",\"Yes\": 1 2 1 1 1 2 1 2 1 1 ...\n",
      " $ etest_p       : num  55 86.5 75 66 96.8 ...\n",
      " $ specialisation: Factor w/ 2 levels \"Mkt&Fin\",\"Mkt&HR\": 2 1 1 2 1 1 1 1 1 1 ...\n",
      " $ mba_p         : num  58.8 66.3 57.8 59.4 55.5 ...\n",
      " $ status        : Factor w/ 2 levels \"Not Placed\",\"Placed\": 2 2 2 1 2 1 1 2 2 1 ...\n",
      " $ salary        : int  270000 200000 250000 NA 425000 NA NA 252000 231000 NA ...\n"
     ]
    }
   ],
   "source": [
    "for(i in names(df))\n",
    "{\n",
    "  if(typeof(df[[i]])==\"character\")\n",
    "  {\n",
    "    df[[i]]=as.factor(df[[i]])\n",
    "  }\n",
    "}\n",
    "str(df)"
   ]
  },
  {
   "cell_type": "markdown",
   "id": "6cbc6b4d",
   "metadata": {},
   "source": [
    "### Attribute Selection"
   ]
  },
  {
   "cell_type": "markdown",
   "id": "ac3c9297",
   "metadata": {},
   "source": [
    "<li> Deleting Salary Attribute because salary attribute is not contributing anything to model"
   ]
  },
  {
   "cell_type": "code",
   "execution_count": 15,
   "id": "e123d30f",
   "metadata": {},
   "outputs": [
    {
     "data": {
      "text/html": [
       "<table class=\"dataframe\">\n",
       "<caption>A data.frame: 6 × 13</caption>\n",
       "<thead>\n",
       "\t<tr><th></th><th scope=col>gender</th><th scope=col>ssc_p</th><th scope=col>ssc_b</th><th scope=col>hsc_p</th><th scope=col>hsc_b</th><th scope=col>hsc_s</th><th scope=col>degree_p</th><th scope=col>degree_t</th><th scope=col>workex</th><th scope=col>etest_p</th><th scope=col>specialisation</th><th scope=col>mba_p</th><th scope=col>status</th></tr>\n",
       "\t<tr><th></th><th scope=col>&lt;fct&gt;</th><th scope=col>&lt;dbl&gt;</th><th scope=col>&lt;fct&gt;</th><th scope=col>&lt;dbl&gt;</th><th scope=col>&lt;fct&gt;</th><th scope=col>&lt;fct&gt;</th><th scope=col>&lt;dbl&gt;</th><th scope=col>&lt;fct&gt;</th><th scope=col>&lt;fct&gt;</th><th scope=col>&lt;dbl&gt;</th><th scope=col>&lt;fct&gt;</th><th scope=col>&lt;dbl&gt;</th><th scope=col>&lt;fct&gt;</th></tr>\n",
       "</thead>\n",
       "<tbody>\n",
       "\t<tr><th scope=row>1</th><td>M</td><td>67.00</td><td>Others </td><td>91.00</td><td>Others </td><td>Commerce</td><td>58.00</td><td>Sci&amp;Tech </td><td>No </td><td>55.0</td><td>Mkt&amp;HR </td><td>58.80</td><td><span style=white-space:pre-wrap>Placed    </span></td></tr>\n",
       "\t<tr><th scope=row>2</th><td>M</td><td>79.33</td><td>Central</td><td>78.33</td><td>Others </td><td>Science </td><td>77.48</td><td>Sci&amp;Tech </td><td>Yes</td><td>86.5</td><td>Mkt&amp;Fin</td><td>66.28</td><td><span style=white-space:pre-wrap>Placed    </span></td></tr>\n",
       "\t<tr><th scope=row>3</th><td>M</td><td>65.00</td><td>Central</td><td>68.00</td><td>Central</td><td><span style=white-space:pre-wrap>Arts    </span></td><td>64.00</td><td>Comm&amp;Mgmt</td><td>No </td><td>75.0</td><td>Mkt&amp;Fin</td><td>57.80</td><td><span style=white-space:pre-wrap>Placed    </span></td></tr>\n",
       "\t<tr><th scope=row>4</th><td>M</td><td>56.00</td><td>Central</td><td>52.00</td><td>Central</td><td>Science </td><td>52.00</td><td>Sci&amp;Tech </td><td>No </td><td>66.0</td><td>Mkt&amp;HR </td><td>59.43</td><td>Not Placed</td></tr>\n",
       "\t<tr><th scope=row>5</th><td>M</td><td>85.80</td><td>Central</td><td>73.60</td><td>Central</td><td>Commerce</td><td>73.30</td><td>Comm&amp;Mgmt</td><td>No </td><td>96.8</td><td>Mkt&amp;Fin</td><td>55.50</td><td><span style=white-space:pre-wrap>Placed    </span></td></tr>\n",
       "\t<tr><th scope=row>6</th><td>M</td><td>55.00</td><td>Others </td><td>49.80</td><td>Others </td><td>Science </td><td>67.25</td><td>Sci&amp;Tech </td><td>Yes</td><td>55.0</td><td>Mkt&amp;Fin</td><td>51.58</td><td>Not Placed</td></tr>\n",
       "</tbody>\n",
       "</table>\n"
      ],
      "text/latex": [
       "A data.frame: 6 × 13\n",
       "\\begin{tabular}{r|lllllllllllll}\n",
       "  & gender & ssc\\_p & ssc\\_b & hsc\\_p & hsc\\_b & hsc\\_s & degree\\_p & degree\\_t & workex & etest\\_p & specialisation & mba\\_p & status\\\\\n",
       "  & <fct> & <dbl> & <fct> & <dbl> & <fct> & <fct> & <dbl> & <fct> & <fct> & <dbl> & <fct> & <dbl> & <fct>\\\\\n",
       "\\hline\n",
       "\t1 & M & 67.00 & Others  & 91.00 & Others  & Commerce & 58.00 & Sci\\&Tech  & No  & 55.0 & Mkt\\&HR  & 58.80 & Placed    \\\\\n",
       "\t2 & M & 79.33 & Central & 78.33 & Others  & Science  & 77.48 & Sci\\&Tech  & Yes & 86.5 & Mkt\\&Fin & 66.28 & Placed    \\\\\n",
       "\t3 & M & 65.00 & Central & 68.00 & Central & Arts     & 64.00 & Comm\\&Mgmt & No  & 75.0 & Mkt\\&Fin & 57.80 & Placed    \\\\\n",
       "\t4 & M & 56.00 & Central & 52.00 & Central & Science  & 52.00 & Sci\\&Tech  & No  & 66.0 & Mkt\\&HR  & 59.43 & Not Placed\\\\\n",
       "\t5 & M & 85.80 & Central & 73.60 & Central & Commerce & 73.30 & Comm\\&Mgmt & No  & 96.8 & Mkt\\&Fin & 55.50 & Placed    \\\\\n",
       "\t6 & M & 55.00 & Others  & 49.80 & Others  & Science  & 67.25 & Sci\\&Tech  & Yes & 55.0 & Mkt\\&Fin & 51.58 & Not Placed\\\\\n",
       "\\end{tabular}\n"
      ],
      "text/markdown": [
       "\n",
       "A data.frame: 6 × 13\n",
       "\n",
       "| <!--/--> | gender &lt;fct&gt; | ssc_p &lt;dbl&gt; | ssc_b &lt;fct&gt; | hsc_p &lt;dbl&gt; | hsc_b &lt;fct&gt; | hsc_s &lt;fct&gt; | degree_p &lt;dbl&gt; | degree_t &lt;fct&gt; | workex &lt;fct&gt; | etest_p &lt;dbl&gt; | specialisation &lt;fct&gt; | mba_p &lt;dbl&gt; | status &lt;fct&gt; |\n",
       "|---|---|---|---|---|---|---|---|---|---|---|---|---|---|\n",
       "| 1 | M | 67.00 | Others  | 91.00 | Others  | Commerce | 58.00 | Sci&amp;Tech  | No  | 55.0 | Mkt&amp;HR  | 58.80 | Placed     |\n",
       "| 2 | M | 79.33 | Central | 78.33 | Others  | Science  | 77.48 | Sci&amp;Tech  | Yes | 86.5 | Mkt&amp;Fin | 66.28 | Placed     |\n",
       "| 3 | M | 65.00 | Central | 68.00 | Central | Arts     | 64.00 | Comm&amp;Mgmt | No  | 75.0 | Mkt&amp;Fin | 57.80 | Placed     |\n",
       "| 4 | M | 56.00 | Central | 52.00 | Central | Science  | 52.00 | Sci&amp;Tech  | No  | 66.0 | Mkt&amp;HR  | 59.43 | Not Placed |\n",
       "| 5 | M | 85.80 | Central | 73.60 | Central | Commerce | 73.30 | Comm&amp;Mgmt | No  | 96.8 | Mkt&amp;Fin | 55.50 | Placed     |\n",
       "| 6 | M | 55.00 | Others  | 49.80 | Others  | Science  | 67.25 | Sci&amp;Tech  | Yes | 55.0 | Mkt&amp;Fin | 51.58 | Not Placed |\n",
       "\n"
      ],
      "text/plain": [
       "  gender ssc_p ssc_b   hsc_p hsc_b   hsc_s    degree_p degree_t  workex etest_p\n",
       "1 M      67.00 Others  91.00 Others  Commerce 58.00    Sci&Tech  No     55.0   \n",
       "2 M      79.33 Central 78.33 Others  Science  77.48    Sci&Tech  Yes    86.5   \n",
       "3 M      65.00 Central 68.00 Central Arts     64.00    Comm&Mgmt No     75.0   \n",
       "4 M      56.00 Central 52.00 Central Science  52.00    Sci&Tech  No     66.0   \n",
       "5 M      85.80 Central 73.60 Central Commerce 73.30    Comm&Mgmt No     96.8   \n",
       "6 M      55.00 Others  49.80 Others  Science  67.25    Sci&Tech  Yes    55.0   \n",
       "  specialisation mba_p status    \n",
       "1 Mkt&HR         58.80 Placed    \n",
       "2 Mkt&Fin        66.28 Placed    \n",
       "3 Mkt&Fin        57.80 Placed    \n",
       "4 Mkt&HR         59.43 Not Placed\n",
       "5 Mkt&Fin        55.50 Placed    \n",
       "6 Mkt&Fin        51.58 Not Placed"
      ]
     },
     "metadata": {},
     "output_type": "display_data"
    }
   ],
   "source": [
    "df=df[,-ncol(df)] #deleting salary attribute  \n",
    "head(df)"
   ]
  },
  {
   "cell_type": "code",
   "execution_count": 16,
   "id": "13ff22f4",
   "metadata": {
    "scrolled": false
   },
   "outputs": [
    {
     "data": {
      "text/plain": [
       " gender      ssc_p           ssc_b         hsc_p           hsc_b    \n",
       " F: 76   Min.   :40.89   Central:116   Min.   :37.00   Central: 84  \n",
       " M:139   1st Qu.:60.60   Others : 99   1st Qu.:60.90   Others :131  \n",
       "         Median :67.00                 Median :65.00                \n",
       "         Mean   :67.30                 Mean   :66.33                \n",
       "         3rd Qu.:75.70                 3rd Qu.:73.00                \n",
       "         Max.   :89.40                 Max.   :97.70                \n",
       "      hsc_s        degree_p          degree_t   workex       etest_p    \n",
       " Arts    : 11   Min.   :50.00   Comm&Mgmt:145   No :141   Min.   :50.0  \n",
       " Commerce:113   1st Qu.:61.00   Others   : 11   Yes: 74   1st Qu.:60.0  \n",
       " Science : 91   Median :66.00   Sci&Tech : 59             Median :71.0  \n",
       "                Mean   :66.37                             Mean   :72.1  \n",
       "                3rd Qu.:72.00                             3rd Qu.:83.5  \n",
       "                Max.   :91.00                             Max.   :98.0  \n",
       " specialisation     mba_p              status   \n",
       " Mkt&Fin:120    Min.   :51.21   Not Placed: 67  \n",
       " Mkt&HR : 95    1st Qu.:57.95   Placed    :148  \n",
       "                Median :62.00                   \n",
       "                Mean   :62.28                   \n",
       "                3rd Qu.:66.25                   \n",
       "                Max.   :77.89                   "
      ]
     },
     "metadata": {},
     "output_type": "display_data"
    }
   ],
   "source": [
    "summary(df)"
   ]
  },
  {
   "cell_type": "markdown",
   "id": "a713fe3e",
   "metadata": {},
   "source": [
    "### Size and Checking for NULL values"
   ]
  },
  {
   "cell_type": "code",
   "execution_count": 17,
   "id": "f4b3647a",
   "metadata": {
    "scrolled": false
   },
   "outputs": [
    {
     "name": "stdout",
     "output_type": "stream",
     "text": [
      "Size of DataFrame : 215 x 13 \n",
      "No. of NULL values in Dataset :  0"
     ]
    }
   ],
   "source": [
    "cat(\"Size of DataFrame :\",dim(df)[1],'x',dim(df)[2],\"\\n\")\n",
    "cat(\"No. of NULL values in Dataset : \",sum(is.na(df)))"
   ]
  },
  {
   "cell_type": "code",
   "execution_count": 18,
   "id": "09eb7e65",
   "metadata": {},
   "outputs": [
    {
     "data": {
      "text/html": [
       "<table class=\"dataframe\">\n",
       "<caption>A data.frame: 6 × 1</caption>\n",
       "<thead>\n",
       "\t<tr><th></th><th scope=col>df.status</th></tr>\n",
       "\t<tr><th></th><th scope=col>&lt;fct&gt;</th></tr>\n",
       "</thead>\n",
       "<tbody>\n",
       "\t<tr><th scope=row>1</th><td>Placed    </td></tr>\n",
       "\t<tr><th scope=row>2</th><td>Placed    </td></tr>\n",
       "\t<tr><th scope=row>3</th><td>Placed    </td></tr>\n",
       "\t<tr><th scope=row>4</th><td>Not Placed</td></tr>\n",
       "\t<tr><th scope=row>5</th><td>Placed    </td></tr>\n",
       "\t<tr><th scope=row>6</th><td>Not Placed</td></tr>\n",
       "</tbody>\n",
       "</table>\n"
      ],
      "text/latex": [
       "A data.frame: 6 × 1\n",
       "\\begin{tabular}{r|l}\n",
       "  & df.status\\\\\n",
       "  & <fct>\\\\\n",
       "\\hline\n",
       "\t1 & Placed    \\\\\n",
       "\t2 & Placed    \\\\\n",
       "\t3 & Placed    \\\\\n",
       "\t4 & Not Placed\\\\\n",
       "\t5 & Placed    \\\\\n",
       "\t6 & Not Placed\\\\\n",
       "\\end{tabular}\n"
      ],
      "text/markdown": [
       "\n",
       "A data.frame: 6 × 1\n",
       "\n",
       "| <!--/--> | df.status &lt;fct&gt; |\n",
       "|---|---|\n",
       "| 1 | Placed     |\n",
       "| 2 | Placed     |\n",
       "| 3 | Placed     |\n",
       "| 4 | Not Placed |\n",
       "| 5 | Placed     |\n",
       "| 6 | Not Placed |\n",
       "\n"
      ],
      "text/plain": [
       "  df.status \n",
       "1 Placed    \n",
       "2 Placed    \n",
       "3 Placed    \n",
       "4 Not Placed\n",
       "5 Placed    \n",
       "6 Not Placed"
      ]
     },
     "metadata": {},
     "output_type": "display_data"
    }
   ],
   "source": [
    "head(data.frame(df$status))"
   ]
  },
  {
   "cell_type": "markdown",
   "id": "59b5d712",
   "metadata": {},
   "source": [
    "### Correlation between the features"
   ]
  },
  {
   "cell_type": "code",
   "execution_count": 19,
   "id": "cbdab8b9",
   "metadata": {
    "scrolled": false
   },
   "outputs": [
    {
     "data": {
      "text/html": [
       "<table class=\"dataframe\">\n",
       "<caption>A matrix: 5 × 5 of type dbl</caption>\n",
       "<thead>\n",
       "\t<tr><th></th><th scope=col>ssc_p</th><th scope=col>hsc_p</th><th scope=col>degree_p</th><th scope=col>etest_p</th><th scope=col>mba_p</th></tr>\n",
       "</thead>\n",
       "<tbody>\n",
       "\t<tr><th scope=row>ssc_p</th><td>1.0000000</td><td>0.5114721</td><td>0.5384040</td><td>0.2619927</td><td>0.3884776</td></tr>\n",
       "\t<tr><th scope=row>hsc_p</th><td>0.5114721</td><td>1.0000000</td><td>0.4342058</td><td>0.2451129</td><td>0.3548226</td></tr>\n",
       "\t<tr><th scope=row>degree_p</th><td>0.5384040</td><td>0.4342058</td><td>1.0000000</td><td>0.2244702</td><td>0.4023638</td></tr>\n",
       "\t<tr><th scope=row>etest_p</th><td>0.2619927</td><td>0.2451129</td><td>0.2244702</td><td>1.0000000</td><td>0.2180547</td></tr>\n",
       "\t<tr><th scope=row>mba_p</th><td>0.3884776</td><td>0.3548226</td><td>0.4023638</td><td>0.2180547</td><td>1.0000000</td></tr>\n",
       "</tbody>\n",
       "</table>\n"
      ],
      "text/latex": [
       "A matrix: 5 × 5 of type dbl\n",
       "\\begin{tabular}{r|lllll}\n",
       "  & ssc\\_p & hsc\\_p & degree\\_p & etest\\_p & mba\\_p\\\\\n",
       "\\hline\n",
       "\tssc\\_p & 1.0000000 & 0.5114721 & 0.5384040 & 0.2619927 & 0.3884776\\\\\n",
       "\thsc\\_p & 0.5114721 & 1.0000000 & 0.4342058 & 0.2451129 & 0.3548226\\\\\n",
       "\tdegree\\_p & 0.5384040 & 0.4342058 & 1.0000000 & 0.2244702 & 0.4023638\\\\\n",
       "\tetest\\_p & 0.2619927 & 0.2451129 & 0.2244702 & 1.0000000 & 0.2180547\\\\\n",
       "\tmba\\_p & 0.3884776 & 0.3548226 & 0.4023638 & 0.2180547 & 1.0000000\\\\\n",
       "\\end{tabular}\n"
      ],
      "text/markdown": [
       "\n",
       "A matrix: 5 × 5 of type dbl\n",
       "\n",
       "| <!--/--> | ssc_p | hsc_p | degree_p | etest_p | mba_p |\n",
       "|---|---|---|---|---|---|\n",
       "| ssc_p | 1.0000000 | 0.5114721 | 0.5384040 | 0.2619927 | 0.3884776 |\n",
       "| hsc_p | 0.5114721 | 1.0000000 | 0.4342058 | 0.2451129 | 0.3548226 |\n",
       "| degree_p | 0.5384040 | 0.4342058 | 1.0000000 | 0.2244702 | 0.4023638 |\n",
       "| etest_p | 0.2619927 | 0.2451129 | 0.2244702 | 1.0000000 | 0.2180547 |\n",
       "| mba_p | 0.3884776 | 0.3548226 | 0.4023638 | 0.2180547 | 1.0000000 |\n",
       "\n"
      ],
      "text/plain": [
       "         ssc_p     hsc_p     degree_p  etest_p   mba_p    \n",
       "ssc_p    1.0000000 0.5114721 0.5384040 0.2619927 0.3884776\n",
       "hsc_p    0.5114721 1.0000000 0.4342058 0.2451129 0.3548226\n",
       "degree_p 0.5384040 0.4342058 1.0000000 0.2244702 0.4023638\n",
       "etest_p  0.2619927 0.2451129 0.2244702 1.0000000 0.2180547\n",
       "mba_p    0.3884776 0.3548226 0.4023638 0.2180547 1.0000000"
      ]
     },
     "metadata": {},
     "output_type": "display_data"
    }
   ],
   "source": [
    "chrDT<-list()\n",
    "intDT<-list()\n",
    "for(i in seq(ncol(df)))\n",
    "{\n",
    "    if(typeof(df[,i])==\"integer\")\n",
    "    {\n",
    "        chrDT<-append(chrDT,i,after=length(chrDT))\n",
    "    }\n",
    "    else{\n",
    "       intDT<-append(intDT,i,after=length(intDT))\n",
    "    }\n",
    "}\n",
    "\n",
    "corel<-cor(df[,unlist(intDT)], method = \"pearson\", use = \"complete.obs\")\n",
    "corel"
   ]
  },
  {
   "cell_type": "code",
   "execution_count": 20,
   "id": "1a547754",
   "metadata": {
    "scrolled": true
   },
   "outputs": [
    {
     "data": {
      "image/png": "[encoded data removed]",
      "text/plain": [
       "Plot with title \"\""
      ]
     },
     "metadata": {
      "image/png": {
       "height": 420,
       "width": 420
      }
     },
     "output_type": "display_data"
    }
   ],
   "source": [
    "corrplot(corel, order = 'AOE')"
   ]
  },
  {
   "cell_type": "markdown",
   "id": "2959861b",
   "metadata": {},
   "source": [
    "<li> All attributes have positive correlation but not in huge margin. So, we can conclude that these are independent variables"
   ]
  },
  {
   "cell_type": "markdown",
   "id": "29d56cdb",
   "metadata": {},
   "source": [
    "### Description of Placed data points"
   ]
  },
  {
   "cell_type": "code",
   "execution_count": 21,
   "id": "59411376",
   "metadata": {
    "scrolled": true
   },
   "outputs": [
    {
     "data": {
      "text/html": [
       "<table class=\"dataframe\">\n",
       "<caption>A psych: 5 × 13</caption>\n",
       "<thead>\n",
       "\t<tr><th></th><th scope=col>vars</th><th scope=col>n</th><th scope=col>mean</th><th scope=col>sd</th><th scope=col>median</th><th scope=col>trimmed</th><th scope=col>mad</th><th scope=col>min</th><th scope=col>max</th><th scope=col>range</th><th scope=col>skew</th><th scope=col>kurtosis</th><th scope=col>se</th></tr>\n",
       "\t<tr><th></th><th scope=col>&lt;int&gt;</th><th scope=col>&lt;dbl&gt;</th><th scope=col>&lt;dbl&gt;</th><th scope=col>&lt;dbl&gt;</th><th scope=col>&lt;dbl&gt;</th><th scope=col>&lt;dbl&gt;</th><th scope=col>&lt;dbl&gt;</th><th scope=col>&lt;dbl&gt;</th><th scope=col>&lt;dbl&gt;</th><th scope=col>&lt;dbl&gt;</th><th scope=col>&lt;dbl&gt;</th><th scope=col>&lt;dbl&gt;</th><th scope=col>&lt;dbl&gt;</th></tr>\n",
       "</thead>\n",
       "<tbody>\n",
       "\t<tr><th scope=row>ssc_p</th><td>1</td><td>148</td><td>71.72149</td><td> 8.715445</td><td>72.500</td><td>71.78592</td><td>10.474569</td><td>49.00</td><td>89.40</td><td>40.40</td><td>-0.06000429</td><td>-0.7654162</td><td>0.7164052</td></tr>\n",
       "\t<tr><th scope=row>hsc_p</th><td>2</td><td>148</td><td>69.92655</td><td> 9.329268</td><td>68.000</td><td>69.03400</td><td> 8.895600</td><td>50.83</td><td>97.70</td><td>46.87</td><td> 0.75155303</td><td> 0.1558520</td><td>0.7668611</td></tr>\n",
       "\t<tr><th scope=row>degree_p</th><td>3</td><td>148</td><td>68.74054</td><td> 6.518087</td><td>68.000</td><td>68.57975</td><td> 5.930400</td><td>56.00</td><td>91.00</td><td>35.00</td><td> 0.39791948</td><td> 0.2786817</td><td>0.5357835</td></tr>\n",
       "\t<tr><th scope=row>etest_p</th><td>4</td><td>148</td><td>73.23804</td><td>13.729333</td><td>72.000</td><td>72.91958</td><td>17.791200</td><td>50.00</td><td>98.00</td><td>48.00</td><td> 0.15045695</td><td>-1.2453877</td><td>1.1285442</td></tr>\n",
       "\t<tr><th scope=row>mba_p</th><td>5</td><td>148</td><td>62.57939</td><td> 5.884583</td><td>62.245</td><td>62.35817</td><td> 6.693939</td><td>52.38</td><td>77.89</td><td>25.51</td><td> 0.32755739</td><td>-0.6443355</td><td>0.4837097</td></tr>\n",
       "</tbody>\n",
       "</table>\n"
      ],
      "text/latex": [
       "A psych: 5 × 13\n",
       "\\begin{tabular}{r|lllllllllllll}\n",
       "  & vars & n & mean & sd & median & trimmed & mad & min & max & range & skew & kurtosis & se\\\\\n",
       "  & <int> & <dbl> & <dbl> & <dbl> & <dbl> & <dbl> & <dbl> & <dbl> & <dbl> & <dbl> & <dbl> & <dbl> & <dbl>\\\\\n",
       "\\hline\n",
       "\tssc\\_p & 1 & 148 & 71.72149 &  8.715445 & 72.500 & 71.78592 & 10.474569 & 49.00 & 89.40 & 40.40 & -0.06000429 & -0.7654162 & 0.7164052\\\\\n",
       "\thsc\\_p & 2 & 148 & 69.92655 &  9.329268 & 68.000 & 69.03400 &  8.895600 & 50.83 & 97.70 & 46.87 &  0.75155303 &  0.1558520 & 0.7668611\\\\\n",
       "\tdegree\\_p & 3 & 148 & 68.74054 &  6.518087 & 68.000 & 68.57975 &  5.930400 & 56.00 & 91.00 & 35.00 &  0.39791948 &  0.2786817 & 0.5357835\\\\\n",
       "\tetest\\_p & 4 & 148 & 73.23804 & 13.729333 & 72.000 & 72.91958 & 17.791200 & 50.00 & 98.00 & 48.00 &  0.15045695 & -1.2453877 & 1.1285442\\\\\n",
       "\tmba\\_p & 5 & 148 & 62.57939 &  5.884583 & 62.245 & 62.35817 &  6.693939 & 52.38 & 77.89 & 25.51 &  0.32755739 & -0.6443355 & 0.4837097\\\\\n",
       "\\end{tabular}\n"
      ],
      "text/markdown": [
       "\n",
       "A psych: 5 × 13\n",
       "\n",
       "| <!--/--> | vars &lt;int&gt; | n &lt;dbl&gt; | mean &lt;dbl&gt; | sd &lt;dbl&gt; | median &lt;dbl&gt; | trimmed &lt;dbl&gt; | mad &lt;dbl&gt; | min &lt;dbl&gt; | max &lt;dbl&gt; | range &lt;dbl&gt; | skew &lt;dbl&gt; | kurtosis &lt;dbl&gt; | se &lt;dbl&gt; |\n",
       "|---|---|---|---|---|---|---|---|---|---|---|---|---|---|\n",
       "| ssc_p | 1 | 148 | 71.72149 |  8.715445 | 72.500 | 71.78592 | 10.474569 | 49.00 | 89.40 | 40.40 | -0.06000429 | -0.7654162 | 0.7164052 |\n",
       "| hsc_p | 2 | 148 | 69.92655 |  9.329268 | 68.000 | 69.03400 |  8.895600 | 50.83 | 97.70 | 46.87 |  0.75155303 |  0.1558520 | 0.7668611 |\n",
       "| degree_p | 3 | 148 | 68.74054 |  6.518087 | 68.000 | 68.57975 |  5.930400 | 56.00 | 91.00 | 35.00 |  0.39791948 |  0.2786817 | 0.5357835 |\n",
       "| etest_p | 4 | 148 | 73.23804 | 13.729333 | 72.000 | 72.91958 | 17.791200 | 50.00 | 98.00 | 48.00 |  0.15045695 | -1.2453877 | 1.1285442 |\n",
       "| mba_p | 5 | 148 | 62.57939 |  5.884583 | 62.245 | 62.35817 |  6.693939 | 52.38 | 77.89 | 25.51 |  0.32755739 | -0.6443355 | 0.4837097 |\n",
       "\n"
      ],
      "text/plain": [
       "         vars n   mean     sd        median trimmed  mad       min   max  \n",
       "ssc_p    1    148 71.72149  8.715445 72.500 71.78592 10.474569 49.00 89.40\n",
       "hsc_p    2    148 69.92655  9.329268 68.000 69.03400  8.895600 50.83 97.70\n",
       "degree_p 3    148 68.74054  6.518087 68.000 68.57975  5.930400 56.00 91.00\n",
       "etest_p  4    148 73.23804 13.729333 72.000 72.91958 17.791200 50.00 98.00\n",
       "mba_p    5    148 62.57939  5.884583 62.245 62.35817  6.693939 52.38 77.89\n",
       "         range skew        kurtosis   se       \n",
       "ssc_p    40.40 -0.06000429 -0.7654162 0.7164052\n",
       "hsc_p    46.87  0.75155303  0.1558520 0.7668611\n",
       "degree_p 35.00  0.39791948  0.2786817 0.5357835\n",
       "etest_p  48.00  0.15045695 -1.2453877 1.1285442\n",
       "mba_p    25.51  0.32755739 -0.6443355 0.4837097"
      ]
     },
     "metadata": {},
     "output_type": "display_data"
    }
   ],
   "source": [
    "describe(df[df$status=='Placed',][,unlist(intDT)])"
   ]
  },
  {
   "cell_type": "markdown",
   "id": "b52d3829",
   "metadata": {},
   "source": [
    "### Description of Not Placed data points"
   ]
  },
  {
   "cell_type": "code",
   "execution_count": 22,
   "id": "f39863ff",
   "metadata": {
    "scrolled": false
   },
   "outputs": [
    {
     "data": {
      "text/html": [
       "<table class=\"dataframe\">\n",
       "<caption>A psych: 5 × 13</caption>\n",
       "<thead>\n",
       "\t<tr><th></th><th scope=col>vars</th><th scope=col>n</th><th scope=col>mean</th><th scope=col>sd</th><th scope=col>median</th><th scope=col>trimmed</th><th scope=col>mad</th><th scope=col>min</th><th scope=col>max</th><th scope=col>range</th><th scope=col>skew</th><th scope=col>kurtosis</th><th scope=col>se</th></tr>\n",
       "\t<tr><th></th><th scope=col>&lt;int&gt;</th><th scope=col>&lt;dbl&gt;</th><th scope=col>&lt;dbl&gt;</th><th scope=col>&lt;dbl&gt;</th><th scope=col>&lt;dbl&gt;</th><th scope=col>&lt;dbl&gt;</th><th scope=col>&lt;dbl&gt;</th><th scope=col>&lt;dbl&gt;</th><th scope=col>&lt;dbl&gt;</th><th scope=col>&lt;dbl&gt;</th><th scope=col>&lt;dbl&gt;</th><th scope=col>&lt;dbl&gt;</th><th scope=col>&lt;dbl&gt;</th></tr>\n",
       "</thead>\n",
       "<tbody>\n",
       "\t<tr><th scope=row>ssc_p</th><td>1</td><td>67</td><td>57.54403</td><td> 8.394246</td><td>56.28</td><td>57.39400</td><td> 8.480472</td><td>40.89</td><td>77.80</td><td>36.91</td><td> 0.19840265</td><td>-0.4863799</td><td>1.0255204</td></tr>\n",
       "\t<tr><th scope=row>hsc_p</th><td>2</td><td>67</td><td>58.39552</td><td> 9.914090</td><td>60.33</td><td>58.42855</td><td> 9.888942</td><td>37.00</td><td>82.00</td><td>45.00</td><td>-0.03406898</td><td>-0.5122989</td><td>1.2111989</td></tr>\n",
       "\t<tr><th scope=row>degree_p</th><td>3</td><td>67</td><td>61.13418</td><td> 6.365825</td><td>61.00</td><td>60.72345</td><td> 5.930400</td><td>50.00</td><td>79.00</td><td>29.00</td><td> 0.55718333</td><td> 0.2169192</td><td>0.7777094</td></tr>\n",
       "\t<tr><th scope=row>etest_p</th><td>4</td><td>67</td><td>69.58791</td><td>11.930687</td><td>67.00</td><td>68.83636</td><td>11.860800</td><td>50.00</td><td>97.00</td><td>47.00</td><td> 0.52317065</td><td>-0.6678661</td><td>1.4575653</td></tr>\n",
       "\t<tr><th scope=row>mba_p</th><td>5</td><td>67</td><td>61.61284</td><td> 5.705689</td><td>60.69</td><td>61.47764</td><td> 6.004530</td><td>51.21</td><td>75.71</td><td>24.50</td><td> 0.24287438</td><td>-0.3347438</td><td>0.6970608</td></tr>\n",
       "</tbody>\n",
       "</table>\n"
      ],
      "text/latex": [
       "A psych: 5 × 13\n",
       "\\begin{tabular}{r|lllllllllllll}\n",
       "  & vars & n & mean & sd & median & trimmed & mad & min & max & range & skew & kurtosis & se\\\\\n",
       "  & <int> & <dbl> & <dbl> & <dbl> & <dbl> & <dbl> & <dbl> & <dbl> & <dbl> & <dbl> & <dbl> & <dbl> & <dbl>\\\\\n",
       "\\hline\n",
       "\tssc\\_p & 1 & 67 & 57.54403 &  8.394246 & 56.28 & 57.39400 &  8.480472 & 40.89 & 77.80 & 36.91 &  0.19840265 & -0.4863799 & 1.0255204\\\\\n",
       "\thsc\\_p & 2 & 67 & 58.39552 &  9.914090 & 60.33 & 58.42855 &  9.888942 & 37.00 & 82.00 & 45.00 & -0.03406898 & -0.5122989 & 1.2111989\\\\\n",
       "\tdegree\\_p & 3 & 67 & 61.13418 &  6.365825 & 61.00 & 60.72345 &  5.930400 & 50.00 & 79.00 & 29.00 &  0.55718333 &  0.2169192 & 0.7777094\\\\\n",
       "\tetest\\_p & 4 & 67 & 69.58791 & 11.930687 & 67.00 & 68.83636 & 11.860800 & 50.00 & 97.00 & 47.00 &  0.52317065 & -0.6678661 & 1.4575653\\\\\n",
       "\tmba\\_p & 5 & 67 & 61.61284 &  5.705689 & 60.69 & 61.47764 &  6.004530 & 51.21 & 75.71 & 24.50 &  0.24287438 & -0.3347438 & 0.6970608\\\\\n",
       "\\end{tabular}\n"
      ],
      "text/markdown": [
       "\n",
       "A psych: 5 × 13\n",
       "\n",
       "| <!--/--> | vars &lt;int&gt; | n &lt;dbl&gt; | mean &lt;dbl&gt; | sd &lt;dbl&gt; | median &lt;dbl&gt; | trimmed &lt;dbl&gt; | mad &lt;dbl&gt; | min &lt;dbl&gt; | max &lt;dbl&gt; | range &lt;dbl&gt; | skew &lt;dbl&gt; | kurtosis &lt;dbl&gt; | se &lt;dbl&gt; |\n",
       "|---|---|---|---|---|---|---|---|---|---|---|---|---|---|\n",
       "| ssc_p | 1 | 67 | 57.54403 |  8.394246 | 56.28 | 57.39400 |  8.480472 | 40.89 | 77.80 | 36.91 |  0.19840265 | -0.4863799 | 1.0255204 |\n",
       "| hsc_p | 2 | 67 | 58.39552 |  9.914090 | 60.33 | 58.42855 |  9.888942 | 37.00 | 82.00 | 45.00 | -0.03406898 | -0.5122989 | 1.2111989 |\n",
       "| degree_p | 3 | 67 | 61.13418 |  6.365825 | 61.00 | 60.72345 |  5.930400 | 50.00 | 79.00 | 29.00 |  0.55718333 |  0.2169192 | 0.7777094 |\n",
       "| etest_p | 4 | 67 | 69.58791 | 11.930687 | 67.00 | 68.83636 | 11.860800 | 50.00 | 97.00 | 47.00 |  0.52317065 | -0.6678661 | 1.4575653 |\n",
       "| mba_p | 5 | 67 | 61.61284 |  5.705689 | 60.69 | 61.47764 |  6.004530 | 51.21 | 75.71 | 24.50 |  0.24287438 | -0.3347438 | 0.6970608 |\n",
       "\n"
      ],
      "text/plain": [
       "         vars n  mean     sd        median trimmed  mad       min   max   range\n",
       "ssc_p    1    67 57.54403  8.394246 56.28  57.39400  8.480472 40.89 77.80 36.91\n",
       "hsc_p    2    67 58.39552  9.914090 60.33  58.42855  9.888942 37.00 82.00 45.00\n",
       "degree_p 3    67 61.13418  6.365825 61.00  60.72345  5.930400 50.00 79.00 29.00\n",
       "etest_p  4    67 69.58791 11.930687 67.00  68.83636 11.860800 50.00 97.00 47.00\n",
       "mba_p    5    67 61.61284  5.705689 60.69  61.47764  6.004530 51.21 75.71 24.50\n",
       "         skew        kurtosis   se       \n",
       "ssc_p     0.19840265 -0.4863799 1.0255204\n",
       "hsc_p    -0.03406898 -0.5122989 1.2111989\n",
       "degree_p  0.55718333  0.2169192 0.7777094\n",
       "etest_p   0.52317065 -0.6678661 1.4575653\n",
       "mba_p     0.24287438 -0.3347438 0.6970608"
      ]
     },
     "metadata": {},
     "output_type": "display_data"
    }
   ],
   "source": [
    "describe(df[df$status=='Not Placed',][,unlist(intDT)])"
   ]
  },
  {
   "cell_type": "markdown",
   "id": "e10b9b56",
   "metadata": {},
   "source": [
    "## Data Analysis and Visualization"
   ]
  },
  {
   "cell_type": "markdown",
   "id": "07ac3fda",
   "metadata": {},
   "source": [
    "### Prediction Class distribution"
   ]
  },
  {
   "cell_type": "code",
   "execution_count": 23,
   "id": "3f352d1e",
   "metadata": {
    "scrolled": true
   },
   "outputs": [
    {
     "data": {
      "image/png": "[encoded data removed]",
      "text/plain": [
       "Plot with title \"Student Placements\""
      ]
     },
     "metadata": {
      "image/png": {
       "height": 420,
       "width": 420
      }
     },
     "output_type": "display_data"
    }
   ],
   "source": [
    "barplot(table(df$status), main = \"Student Placements\",\n",
    "        xlab=\"No. of Placed Students\",ylab=\"No.of Students\",col=c('red','#0000AA'),ylim=c(0,200))\n",
    "legend(\"topleft\",c(\"Not Placed\",\"Placed\"),fill = c('red','#0000AA'))\n",
    "val<-c(nrow(df[df$status==\"Not Placed\",]),nrow(df[df$status==\"Placed\",]))\n",
    "text(val+10,labels =val,adj=c(2,0),cex=2)"
   ]
  },
  {
   "cell_type": "markdown",
   "id": "ee19aa8a",
   "metadata": {},
   "source": [
    "<li> from above graph we can conclude that there is imbalance in prediction class attribute which may affect in model accuracy"
   ]
  },
  {
   "cell_type": "code",
   "execution_count": 24,
   "id": "67092ecb",
   "metadata": {
    "scrolled": false
   },
   "outputs": [
    {
     "name": "stdout",
     "output_type": "stream",
     "text": [
      "Prediction Class Datatype :  factor"
     ]
    }
   ],
   "source": [
    "cat(\"Prediction Class Datatype : \",class(df$status))"
   ]
  },
  {
   "cell_type": "markdown",
   "id": "81367f5b",
   "metadata": {},
   "source": [
    "### Gender data distribution"
   ]
  },
  {
   "cell_type": "code",
   "execution_count": 25,
   "id": "60e0c089",
   "metadata": {
    "scrolled": false
   },
   "outputs": [
    {
     "data": {
      "image/png": "[encoded data removed]",
      "text/plain": [
       "Plot with title \"Placed Students Gender\""
      ]
     },
     "metadata": {
      "image/png": {
       "height": 420,
       "width": 420
      }
     },
     "output_type": "display_data"
    }
   ],
   "source": [
    "par(mfrow=c(1,2))\n",
    "barplot(table(df$gender),main=\"Students Gender\", col=c('pink','navy'),ylim=c(0,200))\n",
    "barplot(table(df$gender[df$status=='Placed']),main=\"Placed Students Gender\", col=c('pink','navy'),ylim=c(0,200))"
   ]
  },
  {
   "cell_type": "markdown",
   "id": "8b232eea",
   "metadata": {},
   "source": [
    "<li> There is very little or none difference in placement recruitment based on gender"
   ]
  },
  {
   "cell_type": "markdown",
   "id": "a8f85c51",
   "metadata": {},
   "source": [
    "### SSC Board data distribution"
   ]
  },
  {
   "cell_type": "code",
   "execution_count": 26,
   "id": "56fb5066",
   "metadata": {
    "scrolled": false
   },
   "outputs": [
    {
     "data": {
      "image/png": "[encoded data removed]",
      "text/plain": [
       "Plot with title \"SSC Board Placed Students\""
      ]
     },
     "metadata": {
      "image/png": {
       "height": 420,
       "width": 420
      }
     },
     "output_type": "display_data"
    }
   ],
   "source": [
    "par(mfrow=c(1,2))\n",
    "\n",
    "barplot(table(df$ssc_b), main = \"SSC Board\",\n",
    "        xlab=\"Levels of Board\", ylab=\"No.of Students\",col =rainbow(2),ylim=c(0,200))\n",
    "legend(\"topleft\",c(\"Central\",\"Others\"),fill = rainbow(2))\n",
    "val<-c(nrow(df[df$ssc_b==\"Central\",]),nrow(df[df$ssc_b==\"Others\",]))\n",
    "text(val+10,labels =val,adj=c(1,0),cex=2)\n",
    "\n",
    "barplot(table(df$ssc_b[df$status =='Placed']), main = \"SSC Board Placed Students\",\n",
    "        xlab=\"Levels of Board\", ylab=\"No.of Students\",col =rainbow(2),ylim=c(0,200))\n",
    "legend(\"topleft\",c(\"Central\",\"Others\"),fill = rainbow(2))\n",
    "val<-c(\n",
    "  nrow(df[df$status =='Placed',][as.data.frame(df$ssc_b[df$status =='Placed'])=='Central',]),\n",
    "  nrow(df[df$status =='Placed',][as.data.frame(df$ssc_b[df$status =='Placed'])=='Others',])\n",
    ")\n",
    "text(val+10,labels =val,adj=c(1,0),cex=2)\n",
    "\n"
   ]
  },
  {
   "cell_type": "markdown",
   "id": "21892df1",
   "metadata": {},
   "source": [
    "<li> In student placement board secondary education don't play major role"
   ]
  },
  {
   "cell_type": "markdown",
   "id": "03f06fde",
   "metadata": {},
   "source": [
    "### HSC Board data distribution"
   ]
  },
  {
   "cell_type": "code",
   "execution_count": 27,
   "id": "90f287b1",
   "metadata": {
    "scrolled": false
   },
   "outputs": [
    {
     "data": {
      "image/png": "[encoded data removed]",
      "text/plain": [
       "Plot with title \"HSC Board Placed Students\""
      ]
     },
     "metadata": {
      "image/png": {
       "height": 420,
       "width": 420
      }
     },
     "output_type": "display_data"
    }
   ],
   "source": [
    "par(mfrow=c(1,2))\n",
    "\n",
    "x<-barplot(table(df$hsc_b), main = \"HSC Board\",\n",
    "        xlab=\"Levels of Board\", ylab=\"No.of Students\",col =rainbow(2),ylim=c(0,250))\n",
    "legend(\"topleft\",c(\"Central\",\"Others\"),fill = rainbow(2))\n",
    "val<-c(nrow(df[df$hsc_b==\"Central\",]),nrow(df[df$hsc_b==\"Others\",]))\n",
    "text(val+10,labels =val,adj=c(1,0),cex=2)\n",
    "\n",
    "barplot(table(df$hsc_b[df$status =='Placed']), main = \"HSC Board Placed Students\",\n",
    "        xlab=\"Levels of Board\", ylab=\"No.of Students\",col =rainbow(2),ylim=c(0,250))\n",
    "legend(\"topleft\",c(\"Central\",\"Others\"),fill = rainbow(2))\n",
    "val<-c(\n",
    "  nrow(df[df$status =='Placed',][as.data.frame(df$hsc_b[df$status =='Placed'])=='Central',]),\n",
    "  nrow(df[df$status =='Placed',][as.data.frame(df$hsc_b[df$status =='Placed'])=='Others',])\n",
    ")\n",
    "text(val+10,labels =val,adj=c(1,0),cex=2)\n"
   ]
  },
  {
   "cell_type": "markdown",
   "id": "ee177142",
   "metadata": {},
   "source": [
    "<li> when we compare ssc board and hsc board there is huge switch from central to others"
   ]
  },
  {
   "cell_type": "markdown",
   "id": "61b9764a",
   "metadata": {},
   "source": [
    "### SSC & HSC Board student pass percentage "
   ]
  },
  {
   "cell_type": "code",
   "execution_count": 28,
   "id": "97b6a441",
   "metadata": {
    "scrolled": false
   },
   "outputs": [
    {
     "data": {
      "image/png": "[encoded data removed]",
      "text/plain": [
       "Plot with title \"HSC Pass percentages\""
      ]
     },
     "metadata": {
      "image/png": {
       "height": 420,
       "width": 420
      }
     },
     "output_type": "display_data"
    }
   ],
   "source": [
    "par(mfrow=c(1,2))\n",
    "# par( mai=c(0.2,0.2,0.2,0.2))\n",
    "# par(fig=c(0,0.5,0.5,1))\n",
    "hist(df$ssc_p,col=rainbow(39),new=TRUE,xlab='percentages',ylab='no. of students',main='SSC Pass percentages',ylim=c(0,70))\n",
    "#par(fig=c(0.5,1,0.5,1), new=TRUE)\n",
    "hist(df$hsc_p,col=rainbow(39),new=TRUE,xlab='percentages',ylab='no. of students',main='HSC Pass percentages',ylim=c(0,70))"
   ]
  },
  {
   "cell_type": "markdown",
   "id": "065b48a2",
   "metadata": {},
   "source": [
    "### Branch data distribution "
   ]
  },
  {
   "cell_type": "code",
   "execution_count": 29,
   "id": "b49b2b2c",
   "metadata": {
    "scrolled": false
   },
   "outputs": [
    {
     "data": {
      "image/png": "[encoded data removed]",
      "text/plain": [
       "Plot with title \"Branches Placed\""
      ]
     },
     "metadata": {
      "image/png": {
       "height": 420,
       "width": 420
      }
     },
     "output_type": "display_data"
    }
   ],
   "source": [
    "par(mfrow=c(1,2))#, mar=c(4,4,4,1), oma=c(0.5,0.5,0.5,0))\n",
    "\n",
    "barplot(table(df$degree_t), main = \"Branches\",\n",
    "     xlab=\"Types of Branches\", ylab=\"No.of Students\",col =rainbow(3),ylim=c(0,280))\n",
    "legend(\"topleft\",c(\"Comm&Mgmt\",\"Others\",\"Sci&Tech\"),fill = rainbow(3))\n",
    "val<-c(nrow(df[df$degree_t==\"Comm&Mgmt\",]),nrow(df[df$degree_t==\"Others\",]),nrow(df[df$degree_t==\"Sci&Tech\",]))\n",
    "text(val+10,labels =val,adj=c(1,0),cex=2)\n",
    "\n",
    "barplot(table(df$degree_t[df$status=='Placed']), main = \"Branches Placed\",\n",
    "     xlab=\"Types of Branches\", ylab=\"No.of Students\",col =rainbow(3),ylim=c(0,280))\n",
    "legend(\"topleft\",c(\"Comm&Mgmt\",\"Others\",\"Sci&Tech\"),fill = rainbow(3))\n",
    "val<-c(nrow(df[df$status=='Placed',][as.data.frame(df$degree_t[df$status =='Placed'])==\"Comm&Mgmt\",]),\n",
    "       nrow(df[df$status=='Placed',][as.data.frame(df$degree_t[df$status =='Placed'])==\"Others\",]),\n",
    "       nrow(df[df$status=='Placed',][as.data.frame(df$degree_t[df$status =='Placed'])==\"Sci&Tech\",])\n",
    "      )\n",
    "text(val+10,labels =val,adj=c(1,0),cex=2)\n"
   ]
  },
  {
   "cell_type": "markdown",
   "id": "bb129666",
   "metadata": {},
   "source": [
    "### Work Experience data distribution "
   ]
  },
  {
   "cell_type": "code",
   "execution_count": 30,
   "id": "f0003003",
   "metadata": {
    "scrolled": false
   },
   "outputs": [
    {
     "data": {
      "image/png": "[encoded data removed]",
      "text/plain": [
       "Plot with title \"Work Experience\""
      ]
     },
     "metadata": {
      "image/png": {
       "height": 420,
       "width": 420
      }
     },
     "output_type": "display_data"
    },
    {
     "data": {
      "image/png": "[encoded data removed]",
      "text/plain": [
       "Plot with title \"Work Experience Not Placed\""
      ]
     },
     "metadata": {
      "image/png": {
       "height": 420,
       "width": 420
      }
     },
     "output_type": "display_data"
    }
   ],
   "source": [
    "barplot(table(df$workex),main='Work Experience',col=c('red','blue'),xlab=\"Having experience\", ylab=\"No.of Students\",ylim=c(0,180))\n",
    "val<-c(nrow(df[df$workex==\"No\",]),nrow(df[df$workex==\"Yes\",]))\n",
    "text(val+10,labels =val,adj=c(1,0),cex=2)\n",
    "par(mfrow=c(1,2))\n",
    "barplot(table(df$workex[df$status=='Placed']),main='Work Experience Placed',col=c('red','blue'),xlab=\"Having experience\", ylab=\"No.of Students\",ylim=c(0,180))\n",
    "val<-c(length(df$workex[df$status=='Placed'][df$workex[df$status=='Placed']=='No']),length(df$workex[df$status=='Placed'][df$workex[df$status=='Placed']=='Yes']))\n",
    "text(val+5,labels =val,adj=c(1,0),cex=2)\n",
    "barplot(table(df$workex[df$status=='Not Placed']),main='Work Experience Not Placed',col=c('red','blue'),xlab=\"Having experience\", ylab=\"No.of Students\",ylim=c(0,180))\n",
    "val<-c(length(df$workex[df$status=='Not Placed'][df$workex[df$status=='Not Placed']=='No']),length(df$workex[df$status=='Not Placed'][df$workex[df$status=='Not Placed']=='Yes']))\n",
    "text(val+5,labels =val,adj=c(1,0),cex=2)"
   ]
  },
  {
   "cell_type": "markdown",
   "id": "6c86dfa0",
   "metadata": {},
   "source": [
    "<li> ratio students having work experience and getting placed is more than the ratio students not having work experience and getting placed."
   ]
  },
  {
   "cell_type": "markdown",
   "id": "2a7344a9",
   "metadata": {},
   "source": [
    "### Employee Readiness Test scores "
   ]
  },
  {
   "cell_type": "code",
   "execution_count": 31,
   "id": "ad786bca",
   "metadata": {
    "scrolled": false
   },
   "outputs": [
    {
     "data": {
      "image/png": "[encoded data removed]",
      "text/plain": [
       "Plot with title \"Etest performance of\n",
       " Not Placed data\""
      ]
     },
     "metadata": {
      "image/png": {
       "height": 420,
       "width": 420
      }
     },
     "output_type": "display_data"
    }
   ],
   "source": [
    "par(mfrow=c(1,2))\n",
    "\n",
    "hist(df$etest_p[df$status=='Placed'],col=rainbow(10),new=TRUE,ylim=c(0,30),main='Etest performance of \\nPlaced data',xlab='scores',ylab='no. students')\n",
    "hist(df$etest_p[df$status=='Not Placed'],col=rainbow(10),new=TRUE,ylim=c(0,30),main='Etest performance of\\n Not Placed data',xlab='scores',ylab='no. students')\n"
   ]
  },
  {
   "cell_type": "markdown",
   "id": "2c886843",
   "metadata": {},
   "source": [
    "<h4>Data interpretation </h4>\n",
    "<ul>\n",
    "<li> By all the graphs we can conclude that all attributes are independent and all together combined to give meaningful results\n",
    "<li> for this dataset naive bayes is perfect suitable but due to imbalance there might be hickups in testing performance.\n",
    "</ul>"
   ]
  },
  {
   "cell_type": "markdown",
   "id": "71fc55db",
   "metadata": {},
   "source": [
    "# Naive Bayes Classifier Training and Testing"
   ]
  },
  {
   "cell_type": "markdown",
   "id": "046fea55",
   "metadata": {},
   "source": [
    "Naive Bayes is a classification and prediction algorithm based on Bayes Theorem. Bayes Theorem\n",
    "\n",
    "\n",
    "<img style=\"align:left;width:250px;height:70px;\" src=\"posteriorprob.png\">\n",
    "<ul>\n",
    "<li>P(A|B)  -  Probability of occurrence of event A given the event B is true   ie. Posterior Probability\n",
    "<li>P(A)  - Probabilities of the occurrence of event A ie. Class prior Probability\n",
    "<li>P(B) - Probabilities of the occurrence of event B ie. Evidence \n",
    "<li>P(B|A)  - Probability of the occurrence of event B given the event A is true ie.Likelihood\n",
    "   </ul>\n",
    "  \n",
    "\tNaive Bayes algorithm based on Bayes’ theorem with the assumption of independence between every pair of features. "
   ]
  },
  {
   "cell_type": "raw",
   "id": "e2619121",
   "metadata": {},
   "source": [
    "# for(i in 1:100){\n",
    "# set.seed(i)  \n",
    "# ind<-sample(2,nrow(df),replace=TRUE,prob=c(0.8,0.2))\n",
    "# train_cl<-df[ind==1,]\n",
    "# test_cl<-df[ind==2,]\n",
    "# grid <- data.frame(fL=c(0,0.5,1.0), usekernel = TRUE, adjust=c(0,0.5,1.0))\n",
    "# classifier_cl <- naiveBayes(status ~ ., data = train_cl, tuneGrid=grid)\n",
    "# y_pred <- predict(classifier_cl, newdata = test_cl,interval = 'confidence')\n",
    "# acc<-accuracy(test_cl$status, y_pred)\n",
    "# if(acc>95)\n",
    "# {\n",
    "#     print(i)\n",
    "#     break\n",
    "# }\n",
    "# }\n",
    "# cat('Accuracy',acc)"
   ]
  },
  {
   "cell_type": "raw",
   "id": "b9416a44",
   "metadata": {},
   "source": [
    "#seeds=>39,237,285,332,393"
   ]
  },
  {
   "cell_type": "markdown",
   "id": "fbc25d87",
   "metadata": {},
   "source": [
    "## Training Naive Bayes model"
   ]
  },
  {
   "cell_type": "code",
   "execution_count": 32,
   "id": "2406e2fe",
   "metadata": {
    "scrolled": true
   },
   "outputs": [
    {
     "data": {
      "text/html": [
       "<table class=\"dataframe\">\n",
       "<caption>A data.frame: 6 × 13</caption>\n",
       "<thead>\n",
       "\t<tr><th></th><th scope=col>gender</th><th scope=col>ssc_p</th><th scope=col>ssc_b</th><th scope=col>hsc_p</th><th scope=col>hsc_b</th><th scope=col>hsc_s</th><th scope=col>degree_p</th><th scope=col>degree_t</th><th scope=col>workex</th><th scope=col>etest_p</th><th scope=col>specialisation</th><th scope=col>mba_p</th><th scope=col>status</th></tr>\n",
       "\t<tr><th></th><th scope=col>&lt;fct&gt;</th><th scope=col>&lt;dbl&gt;</th><th scope=col>&lt;fct&gt;</th><th scope=col>&lt;dbl&gt;</th><th scope=col>&lt;fct&gt;</th><th scope=col>&lt;fct&gt;</th><th scope=col>&lt;dbl&gt;</th><th scope=col>&lt;fct&gt;</th><th scope=col>&lt;fct&gt;</th><th scope=col>&lt;dbl&gt;</th><th scope=col>&lt;fct&gt;</th><th scope=col>&lt;dbl&gt;</th><th scope=col>&lt;fct&gt;</th></tr>\n",
       "</thead>\n",
       "<tbody>\n",
       "\t<tr><th scope=row>1</th><td>M</td><td>67.00</td><td>Others </td><td>91.00</td><td>Others </td><td>Commerce</td><td>58.00</td><td>Sci&amp;Tech </td><td>No </td><td>55.00</td><td>Mkt&amp;HR </td><td>58.80</td><td><span style=white-space:pre-wrap>Placed    </span></td></tr>\n",
       "\t<tr><th scope=row>2</th><td>M</td><td>79.33</td><td>Central</td><td>78.33</td><td>Others </td><td>Science </td><td>77.48</td><td>Sci&amp;Tech </td><td>Yes</td><td>86.50</td><td>Mkt&amp;Fin</td><td>66.28</td><td><span style=white-space:pre-wrap>Placed    </span></td></tr>\n",
       "\t<tr><th scope=row>3</th><td>M</td><td>65.00</td><td>Central</td><td>68.00</td><td>Central</td><td><span style=white-space:pre-wrap>Arts    </span></td><td>64.00</td><td>Comm&amp;Mgmt</td><td>No </td><td>75.00</td><td>Mkt&amp;Fin</td><td>57.80</td><td><span style=white-space:pre-wrap>Placed    </span></td></tr>\n",
       "\t<tr><th scope=row>5</th><td>M</td><td>85.80</td><td>Central</td><td>73.60</td><td>Central</td><td>Commerce</td><td>73.30</td><td>Comm&amp;Mgmt</td><td>No </td><td>96.80</td><td>Mkt&amp;Fin</td><td>55.50</td><td><span style=white-space:pre-wrap>Placed    </span></td></tr>\n",
       "\t<tr><th scope=row>7</th><td>F</td><td>46.00</td><td>Others </td><td>49.20</td><td>Others </td><td>Commerce</td><td>79.00</td><td>Comm&amp;Mgmt</td><td>No </td><td>74.28</td><td>Mkt&amp;Fin</td><td>53.29</td><td>Not Placed</td></tr>\n",
       "\t<tr><th scope=row>8</th><td>M</td><td>82.00</td><td>Central</td><td>64.00</td><td>Central</td><td>Science </td><td>66.00</td><td>Sci&amp;Tech </td><td>Yes</td><td>67.00</td><td>Mkt&amp;Fin</td><td>62.14</td><td><span style=white-space:pre-wrap>Placed    </span></td></tr>\n",
       "</tbody>\n",
       "</table>\n"
      ],
      "text/latex": [
       "A data.frame: 6 × 13\n",
       "\\begin{tabular}{r|lllllllllllll}\n",
       "  & gender & ssc\\_p & ssc\\_b & hsc\\_p & hsc\\_b & hsc\\_s & degree\\_p & degree\\_t & workex & etest\\_p & specialisation & mba\\_p & status\\\\\n",
       "  & <fct> & <dbl> & <fct> & <dbl> & <fct> & <fct> & <dbl> & <fct> & <fct> & <dbl> & <fct> & <dbl> & <fct>\\\\\n",
       "\\hline\n",
       "\t1 & M & 67.00 & Others  & 91.00 & Others  & Commerce & 58.00 & Sci\\&Tech  & No  & 55.00 & Mkt\\&HR  & 58.80 & Placed    \\\\\n",
       "\t2 & M & 79.33 & Central & 78.33 & Others  & Science  & 77.48 & Sci\\&Tech  & Yes & 86.50 & Mkt\\&Fin & 66.28 & Placed    \\\\\n",
       "\t3 & M & 65.00 & Central & 68.00 & Central & Arts     & 64.00 & Comm\\&Mgmt & No  & 75.00 & Mkt\\&Fin & 57.80 & Placed    \\\\\n",
       "\t5 & M & 85.80 & Central & 73.60 & Central & Commerce & 73.30 & Comm\\&Mgmt & No  & 96.80 & Mkt\\&Fin & 55.50 & Placed    \\\\\n",
       "\t7 & F & 46.00 & Others  & 49.20 & Others  & Commerce & 79.00 & Comm\\&Mgmt & No  & 74.28 & Mkt\\&Fin & 53.29 & Not Placed\\\\\n",
       "\t8 & M & 82.00 & Central & 64.00 & Central & Science  & 66.00 & Sci\\&Tech  & Yes & 67.00 & Mkt\\&Fin & 62.14 & Placed    \\\\\n",
       "\\end{tabular}\n"
      ],
      "text/markdown": [
       "\n",
       "A data.frame: 6 × 13\n",
       "\n",
       "| <!--/--> | gender &lt;fct&gt; | ssc_p &lt;dbl&gt; | ssc_b &lt;fct&gt; | hsc_p &lt;dbl&gt; | hsc_b &lt;fct&gt; | hsc_s &lt;fct&gt; | degree_p &lt;dbl&gt; | degree_t &lt;fct&gt; | workex &lt;fct&gt; | etest_p &lt;dbl&gt; | specialisation &lt;fct&gt; | mba_p &lt;dbl&gt; | status &lt;fct&gt; |\n",
       "|---|---|---|---|---|---|---|---|---|---|---|---|---|---|\n",
       "| 1 | M | 67.00 | Others  | 91.00 | Others  | Commerce | 58.00 | Sci&amp;Tech  | No  | 55.00 | Mkt&amp;HR  | 58.80 | Placed     |\n",
       "| 2 | M | 79.33 | Central | 78.33 | Others  | Science  | 77.48 | Sci&amp;Tech  | Yes | 86.50 | Mkt&amp;Fin | 66.28 | Placed     |\n",
       "| 3 | M | 65.00 | Central | 68.00 | Central | Arts     | 64.00 | Comm&amp;Mgmt | No  | 75.00 | Mkt&amp;Fin | 57.80 | Placed     |\n",
       "| 5 | M | 85.80 | Central | 73.60 | Central | Commerce | 73.30 | Comm&amp;Mgmt | No  | 96.80 | Mkt&amp;Fin | 55.50 | Placed     |\n",
       "| 7 | F | 46.00 | Others  | 49.20 | Others  | Commerce | 79.00 | Comm&amp;Mgmt | No  | 74.28 | Mkt&amp;Fin | 53.29 | Not Placed |\n",
       "| 8 | M | 82.00 | Central | 64.00 | Central | Science  | 66.00 | Sci&amp;Tech  | Yes | 67.00 | Mkt&amp;Fin | 62.14 | Placed     |\n",
       "\n"
      ],
      "text/plain": [
       "  gender ssc_p ssc_b   hsc_p hsc_b   hsc_s    degree_p degree_t  workex etest_p\n",
       "1 M      67.00 Others  91.00 Others  Commerce 58.00    Sci&Tech  No     55.00  \n",
       "2 M      79.33 Central 78.33 Others  Science  77.48    Sci&Tech  Yes    86.50  \n",
       "3 M      65.00 Central 68.00 Central Arts     64.00    Comm&Mgmt No     75.00  \n",
       "5 M      85.80 Central 73.60 Central Commerce 73.30    Comm&Mgmt No     96.80  \n",
       "7 F      46.00 Others  49.20 Others  Commerce 79.00    Comm&Mgmt No     74.28  \n",
       "8 M      82.00 Central 64.00 Central Science  66.00    Sci&Tech  Yes    67.00  \n",
       "  specialisation mba_p status    \n",
       "1 Mkt&HR         58.80 Placed    \n",
       "2 Mkt&Fin        66.28 Placed    \n",
       "3 Mkt&Fin        57.80 Placed    \n",
       "5 Mkt&Fin        55.50 Placed    \n",
       "7 Mkt&Fin        53.29 Not Placed\n",
       "8 Mkt&Fin        62.14 Placed    "
      ]
     },
     "metadata": {},
     "output_type": "display_data"
    }
   ],
   "source": [
    "#set.seed(237)  \n",
    "ind<-sample(2,nrow(df),replace=TRUE,prob=c(0.8,0.2))\n",
    "train_cl<-df[ind==1,]\n",
    "head(train_cl)"
   ]
  },
  {
   "cell_type": "code",
   "execution_count": 33,
   "id": "0667933f",
   "metadata": {
    "scrolled": false
   },
   "outputs": [
    {
     "data": {
      "text/html": [
       "<table class=\"dataframe\">\n",
       "<caption>A data.frame: 6 × 13</caption>\n",
       "<thead>\n",
       "\t<tr><th></th><th scope=col>gender</th><th scope=col>ssc_p</th><th scope=col>ssc_b</th><th scope=col>hsc_p</th><th scope=col>hsc_b</th><th scope=col>hsc_s</th><th scope=col>degree_p</th><th scope=col>degree_t</th><th scope=col>workex</th><th scope=col>etest_p</th><th scope=col>specialisation</th><th scope=col>mba_p</th><th scope=col>status</th></tr>\n",
       "\t<tr><th></th><th scope=col>&lt;fct&gt;</th><th scope=col>&lt;dbl&gt;</th><th scope=col>&lt;fct&gt;</th><th scope=col>&lt;dbl&gt;</th><th scope=col>&lt;fct&gt;</th><th scope=col>&lt;fct&gt;</th><th scope=col>&lt;dbl&gt;</th><th scope=col>&lt;fct&gt;</th><th scope=col>&lt;fct&gt;</th><th scope=col>&lt;dbl&gt;</th><th scope=col>&lt;fct&gt;</th><th scope=col>&lt;dbl&gt;</th><th scope=col>&lt;fct&gt;</th></tr>\n",
       "</thead>\n",
       "<tbody>\n",
       "\t<tr><th scope=row>4</th><td>M</td><td>56</td><td>Central</td><td>52.0</td><td>Central</td><td>Science </td><td>52.00</td><td>Sci&amp;Tech </td><td>No </td><td>66</td><td>Mkt&amp;HR </td><td>59.43</td><td>Not Placed</td></tr>\n",
       "\t<tr><th scope=row>6</th><td>M</td><td>55</td><td>Others </td><td>49.8</td><td>Others </td><td>Science </td><td>67.25</td><td>Sci&amp;Tech </td><td>Yes</td><td>55</td><td>Mkt&amp;Fin</td><td>51.58</td><td>Not Placed</td></tr>\n",
       "\t<tr><th scope=row>10</th><td>M</td><td>58</td><td>Central</td><td>70.0</td><td>Central</td><td>Commerce</td><td>61.00</td><td>Comm&amp;Mgmt</td><td>No </td><td>54</td><td>Mkt&amp;Fin</td><td>52.21</td><td>Not Placed</td></tr>\n",
       "\t<tr><th scope=row>11</th><td>M</td><td>58</td><td>Central</td><td>61.0</td><td>Central</td><td>Commerce</td><td>60.00</td><td>Comm&amp;Mgmt</td><td>Yes</td><td>62</td><td>Mkt&amp;HR </td><td>60.85</td><td><span style=white-space:pre-wrap>Placed    </span></td></tr>\n",
       "\t<tr><th scope=row>15</th><td>M</td><td>62</td><td>Central</td><td>47.0</td><td>Central</td><td>Commerce</td><td>50.00</td><td>Comm&amp;Mgmt</td><td>No </td><td>76</td><td>Mkt&amp;HR </td><td>54.96</td><td>Not Placed</td></tr>\n",
       "\t<tr><th scope=row>16</th><td>F</td><td>65</td><td>Central</td><td>75.0</td><td>Central</td><td>Commerce</td><td>69.00</td><td>Comm&amp;Mgmt</td><td>Yes</td><td>72</td><td>Mkt&amp;Fin</td><td>64.66</td><td><span style=white-space:pre-wrap>Placed    </span></td></tr>\n",
       "</tbody>\n",
       "</table>\n"
      ],
      "text/latex": [
       "A data.frame: 6 × 13\n",
       "\\begin{tabular}{r|lllllllllllll}\n",
       "  & gender & ssc\\_p & ssc\\_b & hsc\\_p & hsc\\_b & hsc\\_s & degree\\_p & degree\\_t & workex & etest\\_p & specialisation & mba\\_p & status\\\\\n",
       "  & <fct> & <dbl> & <fct> & <dbl> & <fct> & <fct> & <dbl> & <fct> & <fct> & <dbl> & <fct> & <dbl> & <fct>\\\\\n",
       "\\hline\n",
       "\t4 & M & 56 & Central & 52.0 & Central & Science  & 52.00 & Sci\\&Tech  & No  & 66 & Mkt\\&HR  & 59.43 & Not Placed\\\\\n",
       "\t6 & M & 55 & Others  & 49.8 & Others  & Science  & 67.25 & Sci\\&Tech  & Yes & 55 & Mkt\\&Fin & 51.58 & Not Placed\\\\\n",
       "\t10 & M & 58 & Central & 70.0 & Central & Commerce & 61.00 & Comm\\&Mgmt & No  & 54 & Mkt\\&Fin & 52.21 & Not Placed\\\\\n",
       "\t11 & M & 58 & Central & 61.0 & Central & Commerce & 60.00 & Comm\\&Mgmt & Yes & 62 & Mkt\\&HR  & 60.85 & Placed    \\\\\n",
       "\t15 & M & 62 & Central & 47.0 & Central & Commerce & 50.00 & Comm\\&Mgmt & No  & 76 & Mkt\\&HR  & 54.96 & Not Placed\\\\\n",
       "\t16 & F & 65 & Central & 75.0 & Central & Commerce & 69.00 & Comm\\&Mgmt & Yes & 72 & Mkt\\&Fin & 64.66 & Placed    \\\\\n",
       "\\end{tabular}\n"
      ],
      "text/markdown": [
       "\n",
       "A data.frame: 6 × 13\n",
       "\n",
       "| <!--/--> | gender &lt;fct&gt; | ssc_p &lt;dbl&gt; | ssc_b &lt;fct&gt; | hsc_p &lt;dbl&gt; | hsc_b &lt;fct&gt; | hsc_s &lt;fct&gt; | degree_p &lt;dbl&gt; | degree_t &lt;fct&gt; | workex &lt;fct&gt; | etest_p &lt;dbl&gt; | specialisation &lt;fct&gt; | mba_p &lt;dbl&gt; | status &lt;fct&gt; |\n",
       "|---|---|---|---|---|---|---|---|---|---|---|---|---|---|\n",
       "| 4 | M | 56 | Central | 52.0 | Central | Science  | 52.00 | Sci&amp;Tech  | No  | 66 | Mkt&amp;HR  | 59.43 | Not Placed |\n",
       "| 6 | M | 55 | Others  | 49.8 | Others  | Science  | 67.25 | Sci&amp;Tech  | Yes | 55 | Mkt&amp;Fin | 51.58 | Not Placed |\n",
       "| 10 | M | 58 | Central | 70.0 | Central | Commerce | 61.00 | Comm&amp;Mgmt | No  | 54 | Mkt&amp;Fin | 52.21 | Not Placed |\n",
       "| 11 | M | 58 | Central | 61.0 | Central | Commerce | 60.00 | Comm&amp;Mgmt | Yes | 62 | Mkt&amp;HR  | 60.85 | Placed     |\n",
       "| 15 | M | 62 | Central | 47.0 | Central | Commerce | 50.00 | Comm&amp;Mgmt | No  | 76 | Mkt&amp;HR  | 54.96 | Not Placed |\n",
       "| 16 | F | 65 | Central | 75.0 | Central | Commerce | 69.00 | Comm&amp;Mgmt | Yes | 72 | Mkt&amp;Fin | 64.66 | Placed     |\n",
       "\n"
      ],
      "text/plain": [
       "   gender ssc_p ssc_b   hsc_p hsc_b   hsc_s    degree_p degree_t  workex\n",
       "4  M      56    Central 52.0  Central Science  52.00    Sci&Tech  No    \n",
       "6  M      55    Others  49.8  Others  Science  67.25    Sci&Tech  Yes   \n",
       "10 M      58    Central 70.0  Central Commerce 61.00    Comm&Mgmt No    \n",
       "11 M      58    Central 61.0  Central Commerce 60.00    Comm&Mgmt Yes   \n",
       "15 M      62    Central 47.0  Central Commerce 50.00    Comm&Mgmt No    \n",
       "16 F      65    Central 75.0  Central Commerce 69.00    Comm&Mgmt Yes   \n",
       "   etest_p specialisation mba_p status    \n",
       "4  66      Mkt&HR         59.43 Not Placed\n",
       "6  55      Mkt&Fin        51.58 Not Placed\n",
       "10 54      Mkt&Fin        52.21 Not Placed\n",
       "11 62      Mkt&HR         60.85 Placed    \n",
       "15 76      Mkt&HR         54.96 Not Placed\n",
       "16 72      Mkt&Fin        64.66 Placed    "
      ]
     },
     "metadata": {},
     "output_type": "display_data"
    }
   ],
   "source": [
    "test_cl<-df[ind==2,]\n",
    "head(test_cl)"
   ]
  },
  {
   "cell_type": "code",
   "execution_count": 34,
   "id": "4336aae4",
   "metadata": {
    "scrolled": true
   },
   "outputs": [
    {
     "data": {
      "text/plain": [
       "$tables\n",
       "\n",
       "--------------------------------------------------------------------------------- \n",
       " ::: gender (Bernoulli) \n",
       "--------------------------------------------------------------------------------- \n",
       "      \n",
       "gender Not Placed    Placed\n",
       "     F  0.4716981 0.3277311\n",
       "     M  0.5283019 0.6722689\n",
       "\n",
       "--------------------------------------------------------------------------------- \n",
       " ::: ssc_p (Gaussian) \n",
       "--------------------------------------------------------------------------------- \n",
       "      \n",
       "ssc_p  Not Placed    Placed\n",
       "  mean  58.059434 71.658992\n",
       "  sd     8.917005  8.579787\n",
       "\n",
       "--------------------------------------------------------------------------------- \n",
       " ::: ssc_b (Bernoulli) \n",
       "--------------------------------------------------------------------------------- \n",
       "         \n",
       "ssc_b     Not Placed    Placed\n",
       "  Central  0.5283019 0.5798319\n",
       "  Others   0.4716981 0.4201681\n",
       "\n",
       "--------------------------------------------------------------------------------- \n",
       " ::: hsc_p (Gaussian) \n",
       "--------------------------------------------------------------------------------- \n",
       "      \n",
       "hsc_p  Not Placed    Placed\n",
       "  mean  58.775472 70.125882\n",
       "  sd     9.175946  8.951290\n",
       "\n",
       "--------------------------------------------------------------------------------- \n",
       " ::: hsc_b (Bernoulli) \n",
       "--------------------------------------------------------------------------------- \n",
       "         \n",
       "hsc_b     Not Placed    Placed\n",
       "  Central  0.3584906 0.4285714\n",
       "  Others   0.6415094 0.5714286\n",
       "\n",
       "--------------------------------------------------------------------------------- \n",
       " ::: hsc_s (Categorical) \n",
       "--------------------------------------------------------------------------------- \n",
       "          \n",
       "hsc_s      Not Placed     Placed\n",
       "  Arts     0.05660377 0.05042017\n",
       "  Commerce 0.47169811 0.51260504\n",
       "  Science  0.47169811 0.43697479\n",
       "\n",
       "--------------------------------------------------------------------------------- \n",
       " ::: degree_p (Gaussian) \n",
       "--------------------------------------------------------------------------------- \n",
       "        \n",
       "degree_p Not Placed    Placed\n",
       "    mean  61.255472 68.698739\n",
       "    sd     6.299925  6.452062\n",
       "\n",
       "--------------------------------------------------------------------------------- \n",
       " ::: degree_t (Categorical) \n",
       "--------------------------------------------------------------------------------- \n",
       "           \n",
       "degree_t    Not Placed     Placed\n",
       "  Comm&Mgmt 0.64150943 0.66386555\n",
       "  Others    0.09433962 0.04201681\n",
       "  Sci&Tech  0.26415094 0.29411765\n",
       "\n",
       "--------------------------------------------------------------------------------- \n",
       " ::: workex (Bernoulli) \n",
       "--------------------------------------------------------------------------------- \n",
       "      \n",
       "workex Not Placed    Placed\n",
       "   No   0.8301887 0.5294118\n",
       "   Yes  0.1698113 0.4705882\n",
       "\n",
       "--------------------------------------------------------------------------------- \n",
       " ::: etest_p (Gaussian) \n",
       "--------------------------------------------------------------------------------- \n",
       "       \n",
       "etest_p Not Placed   Placed\n",
       "   mean   70.22849 73.12513\n",
       "   sd     11.80221 13.61867\n",
       "\n",
       "--------------------------------------------------------------------------------- \n",
       " ::: specialisation (Bernoulli) \n",
       "--------------------------------------------------------------------------------- \n",
       "              \n",
       "specialisation Not Placed    Placed\n",
       "       Mkt&Fin  0.3207547 0.6806723\n",
       "       Mkt&HR   0.6792453 0.3193277\n",
       "\n",
       "--------------------------------------------------------------------------------- \n",
       " ::: mba_p (Gaussian) \n",
       "--------------------------------------------------------------------------------- \n",
       "      \n",
       "mba_p  Not Placed    Placed\n",
       "  mean  62.557170 62.599412\n",
       "  sd     5.541205  5.713172\n",
       "\n",
       "---------------------------------------------------------------------------------"
      ]
     },
     "metadata": {},
     "output_type": "display_data"
    }
   ],
   "source": [
    "grid <- data.frame(fL=c(0,0.5,1.0), usekernel = TRUE, adjust=c(0,0.5,1.0))\n",
    "classifier_cl <- naive_bayes(status ~ ., data = train_cl, tuneGrid=grid)\n",
    "classifier_cl[4]"
   ]
  },
  {
   "cell_type": "code",
   "execution_count": 35,
   "id": "ef9e10f1",
   "metadata": {
    "scrolled": true
   },
   "outputs": [
    {
     "data": {
      "image/png": "[encoded data removed]",
      "text/plain": [
       "Plot with title \"\""
      ]
     },
     "metadata": {
      "image/png": {
       "height": 420,
       "width": 420
      }
     },
     "output_type": "display_data"
    },
    {
     "data": {
      "image/png": "[encoded data removed]",
      "text/plain": [
       "plot without title"
      ]
     },
     "metadata": {
      "image/png": {
       "height": 420,
       "width": 420
      }
     },
     "output_type": "display_data"
    },
    {
     "data": {
      "image/png": "[encoded data removed]",
      "text/plain": [
       "Plot with title \"\""
      ]
     },
     "metadata": {
      "image/png": {
       "height": 420,
       "width": 420
      }
     },
     "output_type": "display_data"
    },
    {
     "data": {
      "image/png": "[encoded data removed]",
      "text/plain": [
       "plot without title"
      ]
     },
     "metadata": {
      "image/png": {
       "height": 420,
       "width": 420
      }
     },
     "output_type": "display_data"
    },
    {
     "data": {
      "image/png": "[encoded data removed]",
      "text/plain": [
       "Plot with title \"\""
      ]
     },
     "metadata": {
      "image/png": {
       "height": 420,
       "width": 420
      }
     },
     "output_type": "display_data"
    },
    {
     "data": {
      "image/png": "[encoded data removed]",
      "text/plain": [
       "Plot with title \"\""
      ]
     },
     "metadata": {
      "image/png": {
       "height": 420,
       "width": 420
      }
     },
     "output_type": "display_data"
    },
    {
     "data": {
      "image/png": "[encoded data removed]",
      "text/plain": [
       "plot without title"
      ]
     },
     "metadata": {
      "image/png": {
       "height": 420,
       "width": 420
      }
     },
     "output_type": "display_data"
    },
    {
     "data": {
      "image/png": "[encoded data removed]",
      "text/plain": [
       "Plot with title \"\""
      ]
     },
     "metadata": {
      "image/png": {
       "height": 420,
       "width": 420
      }
     },
     "output_type": "display_data"
    },
    {
     "data": {
      "image/png": "[encoded data removed]",
      "text/plain": [
       "Plot with title \"\""
      ]
     },
     "metadata": {
      "image/png": {
       "height": 420,
       "width": 420
      }
     },
     "output_type": "display_data"
    },
    {
     "data": {
      "image/png": "[encoded data removed]",
      "text/plain": [
       "plot without title"
      ]
     },
     "metadata": {
      "image/png": {
       "height": 420,
       "width": 420
      }
     },
     "output_type": "display_data"
    },
    {
     "data": {
      "image/png": "[encoded data removed]",
      "text/plain": [
       "Plot with title \"\""
      ]
     },
     "metadata": {
      "image/png": {
       "height": 420,
       "width": 420
      }
     },
     "output_type": "display_data"
    },
    {
     "data": {
      "image/png": "[encoded data removed]",
      "text/plain": [
       "plot without title"
      ]
     },
     "metadata": {
      "image/png": {
       "height": 420,
       "width": 420
      }
     },
     "output_type": "display_data"
    }
   ],
   "source": [
    "plot(classifier_cl)"
   ]
  },
  {
   "cell_type": "raw",
   "id": "34d55460",
   "metadata": {},
   "source": [
    "#plot(classifier_cl, prob = \"conditional\")"
   ]
  },
  {
   "cell_type": "markdown",
   "id": "36af993d",
   "metadata": {},
   "source": [
    "## Model Validation"
   ]
  },
  {
   "cell_type": "code",
   "execution_count": 36,
   "id": "f687277b",
   "metadata": {
    "scrolled": true
   },
   "outputs": [
    {
     "data": {
      "text/html": [
       "<style>\n",
       ".list-inline {list-style: none; margin:0; padding: 0}\n",
       ".list-inline>li {display: inline-block}\n",
       ".list-inline>li:not(:last-child)::after {content: \"\\00b7\"; padding: 0 .5ex}\n",
       "</style>\n",
       "<ol class=list-inline><li>Placed</li><li>Placed</li><li>Placed</li><li>Placed</li><li>Not Placed</li><li>Placed</li><li>Placed</li><li>Placed</li><li>Not Placed</li><li>Placed</li><li>Placed</li><li>Not Placed</li><li>Not Placed</li><li>Placed</li><li>Not Placed</li><li>Placed</li><li>Placed</li><li>Not Placed</li><li>Placed</li><li>Not Placed</li><li>Placed</li><li>Placed</li><li>Not Placed</li><li>Placed</li><li>Placed</li><li>Not Placed</li><li>Placed</li><li>Not Placed</li><li>Placed</li><li>Placed</li><li>Placed</li><li>Placed</li><li>Placed</li><li>Placed</li><li>Placed</li><li>Placed</li><li>Not Placed</li><li>Placed</li><li>Not Placed</li><li>Not Placed</li><li>Not Placed</li><li>Placed</li><li>Placed</li><li>Placed</li><li>Placed</li><li>Placed</li><li>Placed</li><li>Placed</li><li>Not Placed</li><li>Placed</li><li>Not Placed</li><li>Placed</li><li>Placed</li><li>Placed</li><li>Placed</li><li>Placed</li><li>Placed</li><li>Placed</li><li>Placed</li><li>Placed</li><li>Placed</li><li>Placed</li><li>Placed</li><li>Placed</li><li>Placed</li><li>Placed</li><li>Not Placed</li><li>Placed</li><li>Placed</li><li>Placed</li><li>Not Placed</li><li>Placed</li><li>Placed</li><li>Placed</li><li>Placed</li><li>Not Placed</li><li>Placed</li><li>Placed</li><li>Placed</li><li>Placed</li><li>Not Placed</li><li>Not Placed</li><li>Placed</li><li>Not Placed</li><li>Placed</li><li>Not Placed</li><li>Placed</li><li>Placed</li><li>Placed</li><li>Placed</li><li>Placed</li><li>Placed</li><li>Placed</li><li>Not Placed</li><li>Placed</li><li>Placed</li><li>Placed</li><li>Placed</li><li>Placed</li><li>Placed</li><li>Placed</li><li>Placed</li><li>Placed</li><li>Placed</li><li>Placed</li><li>Not Placed</li><li>Placed</li><li>Placed</li><li>Placed</li><li>Placed</li><li>Not Placed</li><li>Placed</li><li>Placed</li><li>Not Placed</li><li>Placed</li><li>Placed</li><li>Not Placed</li><li>Placed</li><li>Placed</li><li>Placed</li><li>Not Placed</li><li>Not Placed</li><li>Not Placed</li><li>Placed</li><li>Placed</li><li>Placed</li><li>Placed</li><li>Placed</li><li>Placed</li><li>Not Placed</li><li>Placed</li><li>Not Placed</li><li>Not Placed</li><li>Not Placed</li><li>Placed</li><li>Not Placed</li><li>Placed</li><li>Not Placed</li><li>Not Placed</li><li>Placed</li><li>Not Placed</li><li>Placed</li><li>Placed</li><li>Not Placed</li><li>Not Placed</li><li>Not Placed</li><li>Placed</li><li>Not Placed</li><li>Placed</li><li>Not Placed</li><li>Placed</li><li>Placed</li><li>Placed</li><li>Not Placed</li><li>Not Placed</li><li>Placed</li><li>Placed</li><li>Placed</li><li>Placed</li><li>Not Placed</li><li>Not Placed</li><li>Placed</li><li>Placed</li><li>Not Placed</li><li>Not Placed</li><li>Placed</li><li>Not Placed</li><li>Placed</li><li>Placed</li><li>Placed</li><li>Not Placed</li><li>Not Placed</li></ol>\n",
       "\n",
       "<details>\n",
       "\t<summary style=display:list-item;cursor:pointer>\n",
       "\t\t<strong>Levels</strong>:\n",
       "\t</summary>\n",
       "\t<style>\n",
       "\t.list-inline {list-style: none; margin:0; padding: 0}\n",
       "\t.list-inline>li {display: inline-block}\n",
       "\t.list-inline>li:not(:last-child)::after {content: \"\\00b7\"; padding: 0 .5ex}\n",
       "\t</style>\n",
       "\t<ol class=list-inline><li>'Not Placed'</li><li>'Placed'</li></ol>\n",
       "</details>"
      ],
      "text/latex": [
       "\\begin{enumerate*}\n",
       "\\item Placed\n",
       "\\item Placed\n",
       "\\item Placed\n",
       "\\item Placed\n",
       "\\item Not Placed\n",
       "\\item Placed\n",
       "\\item Placed\n",
       "\\item Placed\n",
       "\\item Not Placed\n",
       "\\item Placed\n",
       "\\item Placed\n",
       "\\item Not Placed\n",
       "\\item Not Placed\n",
       "\\item Placed\n",
       "\\item Not Placed\n",
       "\\item Placed\n",
       "\\item Placed\n",
       "\\item Not Placed\n",
       "\\item Placed\n",
       "\\item Not Placed\n",
       "\\item Placed\n",
       "\\item Placed\n",
       "\\item Not Placed\n",
       "\\item Placed\n",
       "\\item Placed\n",
       "\\item Not Placed\n",
       "\\item Placed\n",
       "\\item Not Placed\n",
       "\\item Placed\n",
       "\\item Placed\n",
       "\\item Placed\n",
       "\\item Placed\n",
       "\\item Placed\n",
       "\\item Placed\n",
       "\\item Placed\n",
       "\\item Placed\n",
       "\\item Not Placed\n",
       "\\item Placed\n",
       "\\item Not Placed\n",
       "\\item Not Placed\n",
       "\\item Not Placed\n",
       "\\item Placed\n",
       "\\item Placed\n",
       "\\item Placed\n",
       "\\item Placed\n",
       "\\item Placed\n",
       "\\item Placed\n",
       "\\item Placed\n",
       "\\item Not Placed\n",
       "\\item Placed\n",
       "\\item Not Placed\n",
       "\\item Placed\n",
       "\\item Placed\n",
       "\\item Placed\n",
       "\\item Placed\n",
       "\\item Placed\n",
       "\\item Placed\n",
       "\\item Placed\n",
       "\\item Placed\n",
       "\\item Placed\n",
       "\\item Placed\n",
       "\\item Placed\n",
       "\\item Placed\n",
       "\\item Placed\n",
       "\\item Placed\n",
       "\\item Placed\n",
       "\\item Not Placed\n",
       "\\item Placed\n",
       "\\item Placed\n",
       "\\item Placed\n",
       "\\item Not Placed\n",
       "\\item Placed\n",
       "\\item Placed\n",
       "\\item Placed\n",
       "\\item Placed\n",
       "\\item Not Placed\n",
       "\\item Placed\n",
       "\\item Placed\n",
       "\\item Placed\n",
       "\\item Placed\n",
       "\\item Not Placed\n",
       "\\item Not Placed\n",
       "\\item Placed\n",
       "\\item Not Placed\n",
       "\\item Placed\n",
       "\\item Not Placed\n",
       "\\item Placed\n",
       "\\item Placed\n",
       "\\item Placed\n",
       "\\item Placed\n",
       "\\item Placed\n",
       "\\item Placed\n",
       "\\item Placed\n",
       "\\item Not Placed\n",
       "\\item Placed\n",
       "\\item Placed\n",
       "\\item Placed\n",
       "\\item Placed\n",
       "\\item Placed\n",
       "\\item Placed\n",
       "\\item Placed\n",
       "\\item Placed\n",
       "\\item Placed\n",
       "\\item Placed\n",
       "\\item Placed\n",
       "\\item Not Placed\n",
       "\\item Placed\n",
       "\\item Placed\n",
       "\\item Placed\n",
       "\\item Placed\n",
       "\\item Not Placed\n",
       "\\item Placed\n",
       "\\item Placed\n",
       "\\item Not Placed\n",
       "\\item Placed\n",
       "\\item Placed\n",
       "\\item Not Placed\n",
       "\\item Placed\n",
       "\\item Placed\n",
       "\\item Placed\n",
       "\\item Not Placed\n",
       "\\item Not Placed\n",
       "\\item Not Placed\n",
       "\\item Placed\n",
       "\\item Placed\n",
       "\\item Placed\n",
       "\\item Placed\n",
       "\\item Placed\n",
       "\\item Placed\n",
       "\\item Not Placed\n",
       "\\item Placed\n",
       "\\item Not Placed\n",
       "\\item Not Placed\n",
       "\\item Not Placed\n",
       "\\item Placed\n",
       "\\item Not Placed\n",
       "\\item Placed\n",
       "\\item Not Placed\n",
       "\\item Not Placed\n",
       "\\item Placed\n",
       "\\item Not Placed\n",
       "\\item Placed\n",
       "\\item Placed\n",
       "\\item Not Placed\n",
       "\\item Not Placed\n",
       "\\item Not Placed\n",
       "\\item Placed\n",
       "\\item Not Placed\n",
       "\\item Placed\n",
       "\\item Not Placed\n",
       "\\item Placed\n",
       "\\item Placed\n",
       "\\item Placed\n",
       "\\item Not Placed\n",
       "\\item Not Placed\n",
       "\\item Placed\n",
       "\\item Placed\n",
       "\\item Placed\n",
       "\\item Placed\n",
       "\\item Not Placed\n",
       "\\item Not Placed\n",
       "\\item Placed\n",
       "\\item Placed\n",
       "\\item Not Placed\n",
       "\\item Not Placed\n",
       "\\item Placed\n",
       "\\item Not Placed\n",
       "\\item Placed\n",
       "\\item Placed\n",
       "\\item Placed\n",
       "\\item Not Placed\n",
       "\\item Not Placed\n",
       "\\end{enumerate*}\n",
       "\n",
       "\\emph{Levels}: \\begin{enumerate*}\n",
       "\\item 'Not Placed'\n",
       "\\item 'Placed'\n",
       "\\end{enumerate*}\n"
      ],
      "text/markdown": [
       "1. Placed\n",
       "2. Placed\n",
       "3. Placed\n",
       "4. Placed\n",
       "5. Not Placed\n",
       "6. Placed\n",
       "7. Placed\n",
       "8. Placed\n",
       "9. Not Placed\n",
       "10. Placed\n",
       "11. Placed\n",
       "12. Not Placed\n",
       "13. Not Placed\n",
       "14. Placed\n",
       "15. Not Placed\n",
       "16. Placed\n",
       "17. Placed\n",
       "18. Not Placed\n",
       "19. Placed\n",
       "20. Not Placed\n",
       "21. Placed\n",
       "22. Placed\n",
       "23. Not Placed\n",
       "24. Placed\n",
       "25. Placed\n",
       "26. Not Placed\n",
       "27. Placed\n",
       "28. Not Placed\n",
       "29. Placed\n",
       "30. Placed\n",
       "31. Placed\n",
       "32. Placed\n",
       "33. Placed\n",
       "34. Placed\n",
       "35. Placed\n",
       "36. Placed\n",
       "37. Not Placed\n",
       "38. Placed\n",
       "39. Not Placed\n",
       "40. Not Placed\n",
       "41. Not Placed\n",
       "42. Placed\n",
       "43. Placed\n",
       "44. Placed\n",
       "45. Placed\n",
       "46. Placed\n",
       "47. Placed\n",
       "48. Placed\n",
       "49. Not Placed\n",
       "50. Placed\n",
       "51. Not Placed\n",
       "52. Placed\n",
       "53. Placed\n",
       "54. Placed\n",
       "55. Placed\n",
       "56. Placed\n",
       "57. Placed\n",
       "58. Placed\n",
       "59. Placed\n",
       "60. Placed\n",
       "61. Placed\n",
       "62. Placed\n",
       "63. Placed\n",
       "64. Placed\n",
       "65. Placed\n",
       "66. Placed\n",
       "67. Not Placed\n",
       "68. Placed\n",
       "69. Placed\n",
       "70. Placed\n",
       "71. Not Placed\n",
       "72. Placed\n",
       "73. Placed\n",
       "74. Placed\n",
       "75. Placed\n",
       "76. Not Placed\n",
       "77. Placed\n",
       "78. Placed\n",
       "79. Placed\n",
       "80. Placed\n",
       "81. Not Placed\n",
       "82. Not Placed\n",
       "83. Placed\n",
       "84. Not Placed\n",
       "85. Placed\n",
       "86. Not Placed\n",
       "87. Placed\n",
       "88. Placed\n",
       "89. Placed\n",
       "90. Placed\n",
       "91. Placed\n",
       "92. Placed\n",
       "93. Placed\n",
       "94. Not Placed\n",
       "95. Placed\n",
       "96. Placed\n",
       "97. Placed\n",
       "98. Placed\n",
       "99. Placed\n",
       "100. Placed\n",
       "101. Placed\n",
       "102. Placed\n",
       "103. Placed\n",
       "104. Placed\n",
       "105. Placed\n",
       "106. Not Placed\n",
       "107. Placed\n",
       "108. Placed\n",
       "109. Placed\n",
       "110. Placed\n",
       "111. Not Placed\n",
       "112. Placed\n",
       "113. Placed\n",
       "114. Not Placed\n",
       "115. Placed\n",
       "116. Placed\n",
       "117. Not Placed\n",
       "118. Placed\n",
       "119. Placed\n",
       "120. Placed\n",
       "121. Not Placed\n",
       "122. Not Placed\n",
       "123. Not Placed\n",
       "124. Placed\n",
       "125. Placed\n",
       "126. Placed\n",
       "127. Placed\n",
       "128. Placed\n",
       "129. Placed\n",
       "130. Not Placed\n",
       "131. Placed\n",
       "132. Not Placed\n",
       "133. Not Placed\n",
       "134. Not Placed\n",
       "135. Placed\n",
       "136. Not Placed\n",
       "137. Placed\n",
       "138. Not Placed\n",
       "139. Not Placed\n",
       "140. Placed\n",
       "141. Not Placed\n",
       "142. Placed\n",
       "143. Placed\n",
       "144. Not Placed\n",
       "145. Not Placed\n",
       "146. Not Placed\n",
       "147. Placed\n",
       "148. Not Placed\n",
       "149. Placed\n",
       "150. Not Placed\n",
       "151. Placed\n",
       "152. Placed\n",
       "153. Placed\n",
       "154. Not Placed\n",
       "155. Not Placed\n",
       "156. Placed\n",
       "157. Placed\n",
       "158. Placed\n",
       "159. Placed\n",
       "160. Not Placed\n",
       "161. Not Placed\n",
       "162. Placed\n",
       "163. Placed\n",
       "164. Not Placed\n",
       "165. Not Placed\n",
       "166. Placed\n",
       "167. Not Placed\n",
       "168. Placed\n",
       "169. Placed\n",
       "170. Placed\n",
       "171. Not Placed\n",
       "172. Not Placed\n",
       "\n",
       "\n",
       "\n",
       "**Levels**: 1. 'Not Placed'\n",
       "2. 'Placed'\n",
       "\n",
       "\n"
      ],
      "text/plain": [
       "  [1] Placed     Placed     Placed     Placed     Not Placed Placed    \n",
       "  [7] Placed     Placed     Not Placed Placed     Placed     Not Placed\n",
       " [13] Not Placed Placed     Not Placed Placed     Placed     Not Placed\n",
       " [19] Placed     Not Placed Placed     Placed     Not Placed Placed    \n",
       " [25] Placed     Not Placed Placed     Not Placed Placed     Placed    \n",
       " [31] Placed     Placed     Placed     Placed     Placed     Placed    \n",
       " [37] Not Placed Placed     Not Placed Not Placed Not Placed Placed    \n",
       " [43] Placed     Placed     Placed     Placed     Placed     Placed    \n",
       " [49] Not Placed Placed     Not Placed Placed     Placed     Placed    \n",
       " [55] Placed     Placed     Placed     Placed     Placed     Placed    \n",
       " [61] Placed     Placed     Placed     Placed     Placed     Placed    \n",
       " [67] Not Placed Placed     Placed     Placed     Not Placed Placed    \n",
       " [73] Placed     Placed     Placed     Not Placed Placed     Placed    \n",
       " [79] Placed     Placed     Not Placed Not Placed Placed     Not Placed\n",
       " [85] Placed     Not Placed Placed     Placed     Placed     Placed    \n",
       " [91] Placed     Placed     Placed     Not Placed Placed     Placed    \n",
       " [97] Placed     Placed     Placed     Placed     Placed     Placed    \n",
       "[103] Placed     Placed     Placed     Not Placed Placed     Placed    \n",
       "[109] Placed     Placed     Not Placed Placed     Placed     Not Placed\n",
       "[115] Placed     Placed     Not Placed Placed     Placed     Placed    \n",
       "[121] Not Placed Not Placed Not Placed Placed     Placed     Placed    \n",
       "[127] Placed     Placed     Placed     Not Placed Placed     Not Placed\n",
       "[133] Not Placed Not Placed Placed     Not Placed Placed     Not Placed\n",
       "[139] Not Placed Placed     Not Placed Placed     Placed     Not Placed\n",
       "[145] Not Placed Not Placed Placed     Not Placed Placed     Not Placed\n",
       "[151] Placed     Placed     Placed     Not Placed Not Placed Placed    \n",
       "[157] Placed     Placed     Placed     Not Placed Not Placed Placed    \n",
       "[163] Placed     Not Placed Not Placed Placed     Not Placed Placed    \n",
       "[169] Placed     Placed     Not Placed Not Placed\n",
       "Levels: Not Placed Placed"
      ]
     },
     "metadata": {},
     "output_type": "display_data"
    }
   ],
   "source": [
    "y_pred_vd <- predict(classifier_cl, newdata = train_cl,interval = 'confidence')\n",
    "y_pred_vd"
   ]
  },
  {
   "cell_type": "code",
   "execution_count": 37,
   "id": "cb9e9d7b",
   "metadata": {
    "scrolled": false
   },
   "outputs": [],
   "source": [
    "accuracy<-function(y_act,y_preds)\n",
    "{\n",
    "    cm <- table(y_act,y_preds)\n",
    "    return(sum(diag(cm))/length(y_act)*100)\n",
    "}\n",
    "recall<-function(y_act,y_preds)\n",
    "{\n",
    "    cm <- table(y_act,y_preds)\n",
    "    return((cm[2,2]/(cm[2,2]+cm[1,2]))*100)\n",
    "}\n",
    "precision<-function(y_act,y_preds)\n",
    "{\n",
    "    cm <- table(y_act,y_preds)\n",
    "    return((cm[2,2]/(cm[2,2]+cm[2,1]))*100)\n",
    "}\n",
    "f1_score<-function(y_act,y_preds)\n",
    "{\n",
    "    return((2*precision(y_act,y_preds)*recall(y_act,y_preds))/(precision(y_act,y_preds)+recall(y_act,y_preds)))\n",
    "}"
   ]
  },
  {
   "cell_type": "code",
   "execution_count": 38,
   "id": "2e93cc55",
   "metadata": {
    "scrolled": false
   },
   "outputs": [
    {
     "data": {
      "text/plain": [
       "            y_pred_vd\n",
       "             Not Placed Placed\n",
       "  Not Placed         39     14\n",
       "  Placed             14    105"
      ]
     },
     "metadata": {},
     "output_type": "display_data"
    }
   ],
   "source": [
    "cm <- table(train_cl$status, y_pred_vd)\n",
    "cm"
   ]
  },
  {
   "cell_type": "code",
   "execution_count": 39,
   "id": "4e03c7cd",
   "metadata": {
    "scrolled": false
   },
   "outputs": [
    {
     "name": "stdout",
     "output_type": "stream",
     "text": [
      "Accuracy: 83.72093\n",
      "Recall: 88.23529\n",
      "Precision: 88.23529\n",
      "F1_Score: 88.23529"
     ]
    }
   ],
   "source": [
    "cat('Accuracy:',accuracy(train_cl$status, y_pred_vd))#<-sum(diag(cm))/nrow(test_cl)*100\n",
    "cat('\\nRecall:',recall(train_cl$status, y_pred_vd))\n",
    "cat('\\nPrecision:',precision(train_cl$status, y_pred_vd))\n",
    "cat('\\nF1_Score:',f1_score(train_cl$status, y_pred_vd))"
   ]
  },
  {
   "cell_type": "code",
   "execution_count": 40,
   "id": "a18edfa0",
   "metadata": {
    "scrolled": true
   },
   "outputs": [
    {
     "name": "stdout",
     "output_type": "stream",
     "text": [
      "LogLoss : 0.3285981"
     ]
    }
   ],
   "source": [
    "lbl = LabelEncoder$new()\n",
    "cat('LogLoss :',LogLoss(predict(classifier_cl, newdata = train_cl,type = \"prob\",interval = 'confidence')[,2],lbl$fit_transform(train_cl$status)))"
   ]
  },
  {
   "cell_type": "markdown",
   "id": "8d4665a3",
   "metadata": {},
   "source": [
    "## Performance Testing "
   ]
  },
  {
   "cell_type": "code",
   "execution_count": 41,
   "id": "b339287b",
   "metadata": {
    "scrolled": true
   },
   "outputs": [
    {
     "data": {
      "text/html": [
       "<style>\n",
       ".list-inline {list-style: none; margin:0; padding: 0}\n",
       ".list-inline>li {display: inline-block}\n",
       ".list-inline>li:not(:last-child)::after {content: \"\\00b7\"; padding: 0 .5ex}\n",
       "</style>\n",
       "<ol class=list-inline><li>Not Placed</li><li>Not Placed</li><li>Placed</li><li>Not Placed</li><li>Not Placed</li><li>Placed</li><li>Placed</li><li>Placed</li><li>Placed</li><li>Not Placed</li><li>Not Placed</li><li>Placed</li><li>Placed</li><li>Placed</li><li>Placed</li><li>Placed</li><li>Placed</li><li>Not Placed</li><li>Placed</li><li>Placed</li><li>Placed</li><li>Placed</li><li>Not Placed</li><li>Not Placed</li><li>Placed</li><li>Placed</li><li>Not Placed</li><li>Placed</li><li>Placed</li><li>Placed</li><li>Not Placed</li><li>Placed</li><li>Not Placed</li><li>Not Placed</li><li>Not Placed</li><li>Placed</li><li>Placed</li><li>Not Placed</li><li>Placed</li><li>Placed</li><li>Placed</li><li>Not Placed</li><li>Placed</li></ol>\n",
       "\n",
       "<details>\n",
       "\t<summary style=display:list-item;cursor:pointer>\n",
       "\t\t<strong>Levels</strong>:\n",
       "\t</summary>\n",
       "\t<style>\n",
       "\t.list-inline {list-style: none; margin:0; padding: 0}\n",
       "\t.list-inline>li {display: inline-block}\n",
       "\t.list-inline>li:not(:last-child)::after {content: \"\\00b7\"; padding: 0 .5ex}\n",
       "\t</style>\n",
       "\t<ol class=list-inline><li>'Not Placed'</li><li>'Placed'</li></ol>\n",
       "</details>"
      ],
      "text/latex": [
       "\\begin{enumerate*}\n",
       "\\item Not Placed\n",
       "\\item Not Placed\n",
       "\\item Placed\n",
       "\\item Not Placed\n",
       "\\item Not Placed\n",
       "\\item Placed\n",
       "\\item Placed\n",
       "\\item Placed\n",
       "\\item Placed\n",
       "\\item Not Placed\n",
       "\\item Not Placed\n",
       "\\item Placed\n",
       "\\item Placed\n",
       "\\item Placed\n",
       "\\item Placed\n",
       "\\item Placed\n",
       "\\item Placed\n",
       "\\item Not Placed\n",
       "\\item Placed\n",
       "\\item Placed\n",
       "\\item Placed\n",
       "\\item Placed\n",
       "\\item Not Placed\n",
       "\\item Not Placed\n",
       "\\item Placed\n",
       "\\item Placed\n",
       "\\item Not Placed\n",
       "\\item Placed\n",
       "\\item Placed\n",
       "\\item Placed\n",
       "\\item Not Placed\n",
       "\\item Placed\n",
       "\\item Not Placed\n",
       "\\item Not Placed\n",
       "\\item Not Placed\n",
       "\\item Placed\n",
       "\\item Placed\n",
       "\\item Not Placed\n",
       "\\item Placed\n",
       "\\item Placed\n",
       "\\item Placed\n",
       "\\item Not Placed\n",
       "\\item Placed\n",
       "\\end{enumerate*}\n",
       "\n",
       "\\emph{Levels}: \\begin{enumerate*}\n",
       "\\item 'Not Placed'\n",
       "\\item 'Placed'\n",
       "\\end{enumerate*}\n"
      ],
      "text/markdown": [
       "1. Not Placed\n",
       "2. Not Placed\n",
       "3. Placed\n",
       "4. Not Placed\n",
       "5. Not Placed\n",
       "6. Placed\n",
       "7. Placed\n",
       "8. Placed\n",
       "9. Placed\n",
       "10. Not Placed\n",
       "11. Not Placed\n",
       "12. Placed\n",
       "13. Placed\n",
       "14. Placed\n",
       "15. Placed\n",
       "16. Placed\n",
       "17. Placed\n",
       "18. Not Placed\n",
       "19. Placed\n",
       "20. Placed\n",
       "21. Placed\n",
       "22. Placed\n",
       "23. Not Placed\n",
       "24. Not Placed\n",
       "25. Placed\n",
       "26. Placed\n",
       "27. Not Placed\n",
       "28. Placed\n",
       "29. Placed\n",
       "30. Placed\n",
       "31. Not Placed\n",
       "32. Placed\n",
       "33. Not Placed\n",
       "34. Not Placed\n",
       "35. Not Placed\n",
       "36. Placed\n",
       "37. Placed\n",
       "38. Not Placed\n",
       "39. Placed\n",
       "40. Placed\n",
       "41. Placed\n",
       "42. Not Placed\n",
       "43. Placed\n",
       "\n",
       "\n",
       "\n",
       "**Levels**: 1. 'Not Placed'\n",
       "2. 'Placed'\n",
       "\n",
       "\n"
      ],
      "text/plain": [
       " [1] Not Placed Not Placed Placed     Not Placed Not Placed Placed    \n",
       " [7] Placed     Placed     Placed     Not Placed Not Placed Placed    \n",
       "[13] Placed     Placed     Placed     Placed     Placed     Not Placed\n",
       "[19] Placed     Placed     Placed     Placed     Not Placed Not Placed\n",
       "[25] Placed     Placed     Not Placed Placed     Placed     Placed    \n",
       "[31] Not Placed Placed     Not Placed Not Placed Not Placed Placed    \n",
       "[37] Placed     Not Placed Placed     Placed     Placed     Not Placed\n",
       "[43] Placed    \n",
       "Levels: Not Placed Placed"
      ]
     },
     "metadata": {},
     "output_type": "display_data"
    }
   ],
   "source": [
    "# Predicting on test data'\n",
    "y_pred <- predict(classifier_cl, newdata = test_cl,interval = 'confidence')\n",
    "y_pred"
   ]
  },
  {
   "cell_type": "code",
   "execution_count": 42,
   "id": "2b8c5f97",
   "metadata": {},
   "outputs": [
    {
     "data": {
      "text/plain": [
       "            Predicted\n",
       "             Not Placed Placed\n",
       "  Not Placed         10      4\n",
       "  Placed              6     23"
      ]
     },
     "metadata": {},
     "output_type": "display_data"
    },
    {
     "data": {
      "image/png": "[encoded data removed]",
      "text/plain": [
       "plot without title"
      ]
     },
     "metadata": {
      "image/png": {
       "height": 420,
       "width": 420
      }
     },
     "output_type": "display_data"
    }
   ],
   "source": [
    "Predicted<-y_pred\n",
    "cm <- table(test_cl$status, Predicted)\n",
    "cm\n",
    "fourfoldplot(cm, color = c(\"pink\", \"skyblue\"),conf.level = 0, margin = 2, main = \"Confusion Matrix\")"
   ]
  },
  {
   "cell_type": "code",
   "execution_count": 43,
   "id": "7c20a242",
   "metadata": {
    "scrolled": false
   },
   "outputs": [
    {
     "data": {
      "text/html": [
       "43"
      ],
      "text/latex": [
       "43"
      ],
      "text/markdown": [
       "43"
      ],
      "text/plain": [
       "[1] 43"
      ]
     },
     "metadata": {},
     "output_type": "display_data"
    }
   ],
   "source": [
    "length(test_cl$status)"
   ]
  },
  {
   "cell_type": "markdown",
   "id": "e95b1cbb",
   "metadata": {},
   "source": [
    "#### Testing metrics"
   ]
  },
  {
   "cell_type": "code",
   "execution_count": 44,
   "id": "8d610f76",
   "metadata": {
    "scrolled": false
   },
   "outputs": [
    {
     "name": "stdout",
     "output_type": "stream",
     "text": [
      "Accuracy: 76.74419\n",
      "Recall: 85.18519\n",
      "Precision: 79.31034\n",
      "F1_Score: 82.14286"
     ]
    }
   ],
   "source": [
    "cat('Accuracy:',accuracy(test_cl$status, y_pred))#<-sum(diag(cm))/nrow(test_cl)*100\n",
    "cat('\\nRecall:',recall(test_cl$status, y_pred))\n",
    "cat('\\nPrecision:',precision(test_cl$status, y_pred))\n",
    "cat('\\nF1_Score:',f1_score(test_cl$status, y_pred))"
   ]
  },
  {
   "cell_type": "code",
   "execution_count": 45,
   "id": "b2b2abf1",
   "metadata": {
    "scrolled": false
   },
   "outputs": [
    {
     "data": {
      "text/html": [
       "<table class=\"dataframe\">\n",
       "<caption>A data.frame: 7 × 1</caption>\n",
       "<thead>\n",
       "\t<tr><th></th><th scope=col>overall</th></tr>\n",
       "\t<tr><th></th><th scope=col>&lt;dbl&gt;</th></tr>\n",
       "</thead>\n",
       "<tbody>\n",
       "\t<tr><th scope=row>Accuracy</th><td>0.76744186</td></tr>\n",
       "\t<tr><th scope=row>Kappa</th><td>0.48931116</td></tr>\n",
       "\t<tr><th scope=row>AccuracyLower</th><td>0.61369179</td></tr>\n",
       "\t<tr><th scope=row>AccuracyUpper</th><td>0.88244643</td></tr>\n",
       "\t<tr><th scope=row>AccuracyNull</th><td>0.62790698</td></tr>\n",
       "\t<tr><th scope=row>AccuracyPValue</th><td>0.03814773</td></tr>\n",
       "\t<tr><th scope=row>McnemarPValue</th><td>0.75182963</td></tr>\n",
       "</tbody>\n",
       "</table>\n"
      ],
      "text/latex": [
       "A data.frame: 7 × 1\n",
       "\\begin{tabular}{r|l}\n",
       "  & overall\\\\\n",
       "  & <dbl>\\\\\n",
       "\\hline\n",
       "\tAccuracy & 0.76744186\\\\\n",
       "\tKappa & 0.48931116\\\\\n",
       "\tAccuracyLower & 0.61369179\\\\\n",
       "\tAccuracyUpper & 0.88244643\\\\\n",
       "\tAccuracyNull & 0.62790698\\\\\n",
       "\tAccuracyPValue & 0.03814773\\\\\n",
       "\tMcnemarPValue & 0.75182963\\\\\n",
       "\\end{tabular}\n"
      ],
      "text/markdown": [
       "\n",
       "A data.frame: 7 × 1\n",
       "\n",
       "| <!--/--> | overall &lt;dbl&gt; |\n",
       "|---|---|\n",
       "| Accuracy | 0.76744186 |\n",
       "| Kappa | 0.48931116 |\n",
       "| AccuracyLower | 0.61369179 |\n",
       "| AccuracyUpper | 0.88244643 |\n",
       "| AccuracyNull | 0.62790698 |\n",
       "| AccuracyPValue | 0.03814773 |\n",
       "| McnemarPValue | 0.75182963 |\n",
       "\n"
      ],
      "text/plain": [
       "               overall   \n",
       "Accuracy       0.76744186\n",
       "Kappa          0.48931116\n",
       "AccuracyLower  0.61369179\n",
       "AccuracyUpper  0.88244643\n",
       "AccuracyNull   0.62790698\n",
       "AccuracyPValue 0.03814773\n",
       "McnemarPValue  0.75182963"
      ]
     },
     "metadata": {},
     "output_type": "display_data"
    }
   ],
   "source": [
    "as.data.frame(confusionMatrix(cm, positive = \"Placed\")[3])"
   ]
  },
  {
   "cell_type": "markdown",
   "id": "e72db59d",
   "metadata": {},
   "source": [
    "#### Validation metrics"
   ]
  },
  {
   "cell_type": "code",
   "execution_count": 46,
   "id": "33823655",
   "metadata": {
    "scrolled": true
   },
   "outputs": [
    {
     "data": {
      "text/html": [
       "<table class=\"dataframe\">\n",
       "<caption>A data.frame: 11 × 1</caption>\n",
       "<thead>\n",
       "\t<tr><th></th><th scope=col>byClass</th></tr>\n",
       "\t<tr><th></th><th scope=col>&lt;dbl&gt;</th></tr>\n",
       "</thead>\n",
       "<tbody>\n",
       "\t<tr><th scope=row>Sensitivity</th><td>0.8518519</td></tr>\n",
       "\t<tr><th scope=row>Specificity</th><td>0.6250000</td></tr>\n",
       "\t<tr><th scope=row>Pos Pred Value</th><td>0.7931034</td></tr>\n",
       "\t<tr><th scope=row>Neg Pred Value</th><td>0.7142857</td></tr>\n",
       "\t<tr><th scope=row>Precision</th><td>0.7931034</td></tr>\n",
       "\t<tr><th scope=row>Recall</th><td>0.8518519</td></tr>\n",
       "\t<tr><th scope=row>F1</th><td>0.8214286</td></tr>\n",
       "\t<tr><th scope=row>Prevalence</th><td>0.6279070</td></tr>\n",
       "\t<tr><th scope=row>Detection Rate</th><td>0.5348837</td></tr>\n",
       "\t<tr><th scope=row>Detection Prevalence</th><td>0.6744186</td></tr>\n",
       "\t<tr><th scope=row>Balanced Accuracy</th><td>0.7384259</td></tr>\n",
       "</tbody>\n",
       "</table>\n"
      ],
      "text/latex": [
       "A data.frame: 11 × 1\n",
       "\\begin{tabular}{r|l}\n",
       "  & byClass\\\\\n",
       "  & <dbl>\\\\\n",
       "\\hline\n",
       "\tSensitivity & 0.8518519\\\\\n",
       "\tSpecificity & 0.6250000\\\\\n",
       "\tPos Pred Value & 0.7931034\\\\\n",
       "\tNeg Pred Value & 0.7142857\\\\\n",
       "\tPrecision & 0.7931034\\\\\n",
       "\tRecall & 0.8518519\\\\\n",
       "\tF1 & 0.8214286\\\\\n",
       "\tPrevalence & 0.6279070\\\\\n",
       "\tDetection Rate & 0.5348837\\\\\n",
       "\tDetection Prevalence & 0.6744186\\\\\n",
       "\tBalanced Accuracy & 0.7384259\\\\\n",
       "\\end{tabular}\n"
      ],
      "text/markdown": [
       "\n",
       "A data.frame: 11 × 1\n",
       "\n",
       "| <!--/--> | byClass &lt;dbl&gt; |\n",
       "|---|---|\n",
       "| Sensitivity | 0.8518519 |\n",
       "| Specificity | 0.6250000 |\n",
       "| Pos Pred Value | 0.7931034 |\n",
       "| Neg Pred Value | 0.7142857 |\n",
       "| Precision | 0.7931034 |\n",
       "| Recall | 0.8518519 |\n",
       "| F1 | 0.8214286 |\n",
       "| Prevalence | 0.6279070 |\n",
       "| Detection Rate | 0.5348837 |\n",
       "| Detection Prevalence | 0.6744186 |\n",
       "| Balanced Accuracy | 0.7384259 |\n",
       "\n"
      ],
      "text/plain": [
       "                     byClass  \n",
       "Sensitivity          0.8518519\n",
       "Specificity          0.6250000\n",
       "Pos Pred Value       0.7931034\n",
       "Neg Pred Value       0.7142857\n",
       "Precision            0.7931034\n",
       "Recall               0.8518519\n",
       "F1                   0.8214286\n",
       "Prevalence           0.6279070\n",
       "Detection Rate       0.5348837\n",
       "Detection Prevalence 0.6744186\n",
       "Balanced Accuracy    0.7384259"
      ]
     },
     "metadata": {},
     "output_type": "display_data"
    }
   ],
   "source": [
    "as.data.frame(confusionMatrix(cm, positive = \"Placed\")[4])"
   ]
  },
  {
   "cell_type": "code",
   "execution_count": 47,
   "id": "a5b8be76",
   "metadata": {
    "scrolled": false
   },
   "outputs": [
    {
     "data": {
      "text/plain": [
       "Confusion Matrix and Statistics\n",
       "\n",
       "            Predicted\n",
       "             Not Placed Placed\n",
       "  Not Placed         10      4\n",
       "  Placed              6     23\n",
       "                                          \n",
       "               Accuracy : 0.7674          \n",
       "                 95% CI : (0.6137, 0.8824)\n",
       "    No Information Rate : 0.6279          \n",
       "    P-Value [Acc > NIR] : 0.03815         \n",
       "                                          \n",
       "                  Kappa : 0.4893          \n",
       "                                          \n",
       " Mcnemar's Test P-Value : 0.75183         \n",
       "                                          \n",
       "            Sensitivity : 0.8519          \n",
       "            Specificity : 0.6250          \n",
       "         Pos Pred Value : 0.7931          \n",
       "         Neg Pred Value : 0.7143          \n",
       "             Prevalence : 0.6279          \n",
       "         Detection Rate : 0.5349          \n",
       "   Detection Prevalence : 0.6744          \n",
       "      Balanced Accuracy : 0.7384          \n",
       "                                          \n",
       "       'Positive' Class : Placed          \n",
       "                                          "
      ]
     },
     "metadata": {},
     "output_type": "display_data"
    }
   ],
   "source": [
    "confusionMatrix(cm, positive = \"Placed\")"
   ]
  },
  {
   "cell_type": "code",
   "execution_count": 48,
   "id": "cdc0a090",
   "metadata": {
    "scrolled": true
   },
   "outputs": [
    {
     "name": "stdout",
     "output_type": "stream",
     "text": [
      "LogLoss : 0.4864716"
     ]
    }
   ],
   "source": [
    "lbl = LabelEncoder$new()\n",
    "cat('LogLoss :',LogLoss(predict(classifier_cl, newdata = test_cl,type = \"prob\",interval = 'confidence')[,2],lbl$fit_transform(test_cl$status)))"
   ]
  },
  {
   "cell_type": "code",
   "execution_count": 49,
   "id": "dba48293",
   "metadata": {
    "scrolled": false
   },
   "outputs": [
    {
     "name": "stderr",
     "output_type": "stream",
     "text": [
      "Setting levels: control = 1, case = 2\n",
      "\n",
      "Setting direction: controls < cases\n",
      "\n"
     ]
    },
    {
     "name": "stdout",
     "output_type": "stream",
     "text": [
      "Roc_Auc_Score : 0.7536946"
     ]
    }
   ],
   "source": [
    "cat('Roc_Auc_Score :',auc(as.numeric(test_cl$status), as.numeric(y_pred)))"
   ]
  },
  {
   "cell_type": "code",
   "execution_count": 50,
   "id": "e23c589a",
   "metadata": {
    "scrolled": true
   },
   "outputs": [
    {
     "name": "stderr",
     "output_type": "stream",
     "text": [
      "Setting levels: control = 1, case = 2\n",
      "\n",
      "Setting direction: controls < cases\n",
      "\n"
     ]
    },
    {
     "data": {
      "image/png": "[encoded data removed]",
      "text/plain": [
       "plot without title"
      ]
     },
     "metadata": {
      "image/png": {
       "height": 420,
       "width": 420
      }
     },
     "output_type": "display_data"
    }
   ],
   "source": [
    "\n",
    "pROC_obj <- roc(as.numeric(test_cl$status), as.numeric(y_pred),\n",
    "            smoothed = TRUE,\n",
    "            # arguments for ci\n",
    "            ci=TRUE, ci.alpha=0.9, stratified=FALSE,\n",
    "            # arguments for plot\n",
    "            plot=TRUE, auc.polygon=TRUE, max.auc.polygon=TRUE, grid=TRUE,\n",
    "            print.auc=TRUE, show.thres=TRUE)\n",
    "sens.ci <- ci.se(pROC_obj)\n",
    "plot(sens.ci, type=\"shape\", col=\"lightblue\")\n",
    "plot(sens.ci, type=\"bars\")"
   ]
  },
  {
   "cell_type": "markdown",
   "id": "16b722e0",
   "metadata": {},
   "source": [
    "### K-fold Cross Validation"
   ]
  },
  {
   "cell_type": "markdown",
   "id": "76bb34db",
   "metadata": {},
   "source": [
    "<li> no. of K-folds and K-folds splits"
   ]
  },
  {
   "cell_type": "code",
   "execution_count": 51,
   "id": "7ad0299f",
   "metadata": {},
   "outputs": [],
   "source": [
    "k=5\n",
    "fold<-KFold(df$status, nfolds = k, stratified = TRUE)"
   ]
  },
  {
   "cell_type": "code",
   "execution_count": 52,
   "id": "11ad335f",
   "metadata": {
    "scrolled": true
   },
   "outputs": [
    {
     "name": "stdout",
     "output_type": "stream",
     "text": [
      "Mean Accuracy 83.22844\n",
      "\n",
      "Accuracy Result of Fold 1 : 86.3636363636364 \n",
      "Accuracy Result of Fold 2 : 84.0909090909091 \n",
      "Accuracy Result of Fold 3 : 86.3636363636364 \n",
      "Accuracy Result of Fold 4 : 77.2727272727273 \n",
      "Accuracy Result of Fold 5 : 82.051282051282\n",
      "\n",
      "Mean f1_score 87.71825\n",
      "\n",
      "f1_score Result of Fold 1 : 89.6551724137931 \n",
      "f1_score Result of Fold 2 : 88.135593220339 \n",
      "f1_score Result of Fold 3 : 90.3225806451613 \n",
      "f1_score Result of Fold 4 : 82.7586206896552 \n",
      "f1_score Result of Fold 5 : 87.719298245614"
     ]
    }
   ],
   "source": [
    "mnf1_nb<-list()\n",
    "mnacc_nb<-list()\n",
    "for(i in seq(1:k))\n",
    "{\n",
    "    l=c(seq(1:k))\n",
    "    l<-l[-i]\n",
    "    train<-df[unlist(fold[l]),]\n",
    "    test<-df[unlist(fold[i]),]\n",
    "    grid <- data.frame(fL=c(0,0.5,1.0), usekernel = TRUE, adjust=c(0,0.5,1.0))\n",
    "    classifier_cl <- naiveBayes(status ~ ., data = train, tuneGrid=grid)\n",
    "    y_pred <- predict(classifier_cl, newdata = test,interval = 'confidence')\n",
    "    mnf1_nb<-append(mnf1_nb,f1_score(test$status, y_pred),after=length(mnf1_nb))\n",
    "    mnacc_nb<-append(mnacc_nb,accuracy(test$status, y_pred),after=length(mnacc_nb))\n",
    "}\n",
    "cat('Mean Accuracy',mean(c(unlist(mnacc_nb))))\n",
    "cat('\\n')\n",
    "cat(paste('\\nAccuracy Result of Fold',c(1:5),':',unlist(mnacc_nb)))\n",
    "cat('\\n')\n",
    "cat('\\nMean f1_score',mean(c(unlist(mnf1_nb))))\n",
    "cat('\\n')\n",
    "cat(paste('\\nf1_score Result of Fold',c(1:5),':',unlist(mnf1_nb)))\n"
   ]
  },
  {
   "cell_type": "markdown",
   "id": "913a3f8a",
   "metadata": {},
   "source": [
    "# Comparing with other ML models"
   ]
  },
  {
   "cell_type": "markdown",
   "id": "59d7612d",
   "metadata": {},
   "source": [
    "## Logistic Regression\n",
    "Logistic regression in R Programming is a classification algorithm used to find the probability of event success and event failure. Logistic regression is used when the dependent variable is binary(0/1, True/False, Yes/No) in nature. Logit function is used as a link function in a binomial distribution."
   ]
  },
  {
   "cell_type": "code",
   "execution_count": 53,
   "id": "2e503e19",
   "metadata": {},
   "outputs": [
    {
     "name": "stdout",
     "output_type": "stream",
     "text": [
      "Accuracy: 88.37209"
     ]
    }
   ],
   "source": [
    "ind_lr<-sample(2,nrow(df),replace=TRUE,prob=c(0.8,0.2))\n",
    "train_lr<-df[ind_lr==1,]\n",
    "test_lr<-df[ind_lr==2,]\n",
    "classifier_lr <-glm(status ~ .,data = train_lr,family = \"binomial\")\n",
    "y_pred_lr <- predict(classifier_lr, newdata = test_lr,type = \"response\")\n",
    "y_pred_lr <- ifelse(y_pred_lr >0.5, 1, 0)\n",
    "acc<-accuracy(test_lr$status, y_pred_lr)\n",
    "cat('Accuracy:',acc)"
   ]
  },
  {
   "cell_type": "markdown",
   "id": "700870c4",
   "metadata": {},
   "source": [
    "### k-fold LR"
   ]
  },
  {
   "cell_type": "code",
   "execution_count": 54,
   "id": "7d7e251b",
   "metadata": {
    "scrolled": true
   },
   "outputs": [
    {
     "name": "stdout",
     "output_type": "stream",
     "text": [
      "Mean Accuracy 84.70862\n",
      "\n",
      "Accuracy Result of Fold 1 : 75 \n",
      "Accuracy Result of Fold 2 : 88.6363636363636 \n",
      "Accuracy Result of Fold 3 : 88.6363636363636 \n",
      "Accuracy Result of Fold 4 : 84.0909090909091 \n",
      "Accuracy Result of Fold 5 : 87.1794871794872\n",
      "\n",
      "Mean f1_score 88.69462\n",
      "\n",
      "f1_score Result of Fold 1 : 81.3559322033898 \n",
      "f1_score Result of Fold 2 : 91.2280701754386 \n",
      "f1_score Result of Fold 3 : 91.5254237288135 \n",
      "f1_score Result of Fold 4 : 88.135593220339 \n",
      "f1_score Result of Fold 5 : 91.2280701754386"
     ]
    }
   ],
   "source": [
    "mnf1_lr<-list()\n",
    "mnacc_lr<-list()\n",
    "for(i in seq(1:k))\n",
    "{\n",
    "    l=c(seq(1:k))\n",
    "    l<-l[-i]\n",
    "    train<-df[unlist(fold[l]),]\n",
    "    test<-df[unlist(fold[i]),]\n",
    "    classifier_lr <-glm(status ~ .,data = train,family = \"binomial\")\n",
    "    y <- predict(classifier_lr, newdata = test,interval = 'confidence')\n",
    "    y <- ifelse(y>0.5, 1, 0)\n",
    "    mnf1_lr<-append(mnf1_lr,f1_score(test$status, y),after=length(mnf1_lr))\n",
    "    \n",
    "    mnacc_lr<-append(mnacc_lr,accuracy(test$status, y),after=length(mnacc_lr))\n",
    "}\n",
    "cat('Mean Accuracy',mean(c(unlist(mnacc_lr))))\n",
    "cat('\\n')\n",
    "cat(paste('\\nAccuracy Result of Fold',c(1:5),':',unlist(mnacc_lr)))\n",
    "cat('\\n')\n",
    "cat('\\nMean f1_score',mean(c(unlist(mnf1_lr))))\n",
    "cat('\\n')\n",
    "cat(paste('\\nf1_score Result of Fold',c(1:5),':',unlist(mnf1_lr)))\n"
   ]
  },
  {
   "cell_type": "markdown",
   "id": "8f5034e7",
   "metadata": {},
   "source": [
    "## K-Nearest Neighbours\n",
    "K-NN algorithm assumes the similarity between the new case/data and available cases and put the new case into the category that is most similar to the available categories."
   ]
  },
  {
   "cell_type": "markdown",
   "id": "c589517a",
   "metadata": {},
   "source": [
    "<h3>Label Encoding</h3><br>\n",
    "<li>Label Encoder encodes the categorical data target labels with value between 0 and n_classes-1.\n",
    "<li>Since we have two unique types Label encoder replaces string values to 0 and 1 for binary computation"
   ]
  },
  {
   "cell_type": "code",
   "execution_count": 55,
   "id": "f9226adb",
   "metadata": {},
   "outputs": [
    {
     "data": {
      "text/html": [
       "<table class=\"dataframe\">\n",
       "<caption>A data.frame: 6 × 13</caption>\n",
       "<thead>\n",
       "\t<tr><th></th><th scope=col>gender</th><th scope=col>ssc_p</th><th scope=col>ssc_b</th><th scope=col>hsc_p</th><th scope=col>hsc_b</th><th scope=col>hsc_s</th><th scope=col>degree_p</th><th scope=col>degree_t</th><th scope=col>workex</th><th scope=col>etest_p</th><th scope=col>specialisation</th><th scope=col>mba_p</th><th scope=col>status</th></tr>\n",
       "\t<tr><th></th><th scope=col>&lt;dbl&gt;</th><th scope=col>&lt;dbl&gt;</th><th scope=col>&lt;dbl&gt;</th><th scope=col>&lt;dbl&gt;</th><th scope=col>&lt;dbl&gt;</th><th scope=col>&lt;dbl&gt;</th><th scope=col>&lt;dbl&gt;</th><th scope=col>&lt;dbl&gt;</th><th scope=col>&lt;dbl&gt;</th><th scope=col>&lt;dbl&gt;</th><th scope=col>&lt;dbl&gt;</th><th scope=col>&lt;dbl&gt;</th><th scope=col>&lt;dbl&gt;</th></tr>\n",
       "</thead>\n",
       "<tbody>\n",
       "\t<tr><th scope=row>1</th><td>1</td><td>67.00</td><td>1</td><td>91.00</td><td>1</td><td>1</td><td>58.00</td><td>2</td><td>0</td><td>55.0</td><td>1</td><td>58.80</td><td>1</td></tr>\n",
       "\t<tr><th scope=row>2</th><td>1</td><td>79.33</td><td>0</td><td>78.33</td><td>1</td><td>2</td><td>77.48</td><td>2</td><td>1</td><td>86.5</td><td>0</td><td>66.28</td><td>1</td></tr>\n",
       "\t<tr><th scope=row>3</th><td>1</td><td>65.00</td><td>0</td><td>68.00</td><td>0</td><td>0</td><td>64.00</td><td>0</td><td>0</td><td>75.0</td><td>0</td><td>57.80</td><td>1</td></tr>\n",
       "\t<tr><th scope=row>4</th><td>1</td><td>56.00</td><td>0</td><td>52.00</td><td>0</td><td>2</td><td>52.00</td><td>2</td><td>0</td><td>66.0</td><td>1</td><td>59.43</td><td>0</td></tr>\n",
       "\t<tr><th scope=row>5</th><td>1</td><td>85.80</td><td>0</td><td>73.60</td><td>0</td><td>1</td><td>73.30</td><td>0</td><td>0</td><td>96.8</td><td>0</td><td>55.50</td><td>1</td></tr>\n",
       "\t<tr><th scope=row>6</th><td>1</td><td>55.00</td><td>1</td><td>49.80</td><td>1</td><td>2</td><td>67.25</td><td>2</td><td>1</td><td>55.0</td><td>0</td><td>51.58</td><td>0</td></tr>\n",
       "</tbody>\n",
       "</table>\n"
      ],
      "text/latex": [
       "A data.frame: 6 × 13\n",
       "\\begin{tabular}{r|lllllllllllll}\n",
       "  & gender & ssc\\_p & ssc\\_b & hsc\\_p & hsc\\_b & hsc\\_s & degree\\_p & degree\\_t & workex & etest\\_p & specialisation & mba\\_p & status\\\\\n",
       "  & <dbl> & <dbl> & <dbl> & <dbl> & <dbl> & <dbl> & <dbl> & <dbl> & <dbl> & <dbl> & <dbl> & <dbl> & <dbl>\\\\\n",
       "\\hline\n",
       "\t1 & 1 & 67.00 & 1 & 91.00 & 1 & 1 & 58.00 & 2 & 0 & 55.0 & 1 & 58.80 & 1\\\\\n",
       "\t2 & 1 & 79.33 & 0 & 78.33 & 1 & 2 & 77.48 & 2 & 1 & 86.5 & 0 & 66.28 & 1\\\\\n",
       "\t3 & 1 & 65.00 & 0 & 68.00 & 0 & 0 & 64.00 & 0 & 0 & 75.0 & 0 & 57.80 & 1\\\\\n",
       "\t4 & 1 & 56.00 & 0 & 52.00 & 0 & 2 & 52.00 & 2 & 0 & 66.0 & 1 & 59.43 & 0\\\\\n",
       "\t5 & 1 & 85.80 & 0 & 73.60 & 0 & 1 & 73.30 & 0 & 0 & 96.8 & 0 & 55.50 & 1\\\\\n",
       "\t6 & 1 & 55.00 & 1 & 49.80 & 1 & 2 & 67.25 & 2 & 1 & 55.0 & 0 & 51.58 & 0\\\\\n",
       "\\end{tabular}\n"
      ],
      "text/markdown": [
       "\n",
       "A data.frame: 6 × 13\n",
       "\n",
       "| <!--/--> | gender &lt;dbl&gt; | ssc_p &lt;dbl&gt; | ssc_b &lt;dbl&gt; | hsc_p &lt;dbl&gt; | hsc_b &lt;dbl&gt; | hsc_s &lt;dbl&gt; | degree_p &lt;dbl&gt; | degree_t &lt;dbl&gt; | workex &lt;dbl&gt; | etest_p &lt;dbl&gt; | specialisation &lt;dbl&gt; | mba_p &lt;dbl&gt; | status &lt;dbl&gt; |\n",
       "|---|---|---|---|---|---|---|---|---|---|---|---|---|---|\n",
       "| 1 | 1 | 67.00 | 1 | 91.00 | 1 | 1 | 58.00 | 2 | 0 | 55.0 | 1 | 58.80 | 1 |\n",
       "| 2 | 1 | 79.33 | 0 | 78.33 | 1 | 2 | 77.48 | 2 | 1 | 86.5 | 0 | 66.28 | 1 |\n",
       "| 3 | 1 | 65.00 | 0 | 68.00 | 0 | 0 | 64.00 | 0 | 0 | 75.0 | 0 | 57.80 | 1 |\n",
       "| 4 | 1 | 56.00 | 0 | 52.00 | 0 | 2 | 52.00 | 2 | 0 | 66.0 | 1 | 59.43 | 0 |\n",
       "| 5 | 1 | 85.80 | 0 | 73.60 | 0 | 1 | 73.30 | 0 | 0 | 96.8 | 0 | 55.50 | 1 |\n",
       "| 6 | 1 | 55.00 | 1 | 49.80 | 1 | 2 | 67.25 | 2 | 1 | 55.0 | 0 | 51.58 | 0 |\n",
       "\n"
      ],
      "text/plain": [
       "  gender ssc_p ssc_b hsc_p hsc_b hsc_s degree_p degree_t workex etest_p\n",
       "1 1      67.00 1     91.00 1     1     58.00    2        0      55.0   \n",
       "2 1      79.33 0     78.33 1     2     77.48    2        1      86.5   \n",
       "3 1      65.00 0     68.00 0     0     64.00    0        0      75.0   \n",
       "4 1      56.00 0     52.00 0     2     52.00    2        0      66.0   \n",
       "5 1      85.80 0     73.60 0     1     73.30    0        0      96.8   \n",
       "6 1      55.00 1     49.80 1     2     67.25    2        1      55.0   \n",
       "  specialisation mba_p status\n",
       "1 1              58.80 1     \n",
       "2 0              66.28 1     \n",
       "3 0              57.80 1     \n",
       "4 1              59.43 0     \n",
       "5 0              55.50 1     \n",
       "6 0              51.58 0     "
      ]
     },
     "metadata": {},
     "output_type": "display_data"
    }
   ],
   "source": [
    "lbl = LabelEncoder$new()\n",
    "df_knn=df\n",
    "for(i in chrDT){\n",
    "df_knn[,i]<-lbl$fit_transform(df_knn[,i])\n",
    "}\n",
    "head(df_knn)"
   ]
  },
  {
   "cell_type": "code",
   "execution_count": 56,
   "id": "64152404",
   "metadata": {
    "scrolled": false
   },
   "outputs": [
    {
     "name": "stdout",
     "output_type": "stream",
     "text": [
      "Validation Accuracy: 87.5"
     ]
    }
   ],
   "source": [
    "ind_knn<-sample(2,nrow(df_knn),replace=TRUE,prob=c(0.8,0.2))\n",
    "train_knn<-df_knn[ind_knn==1,]\n",
    "test_knn<-df_knn[ind_knn==2,]\n",
    "train_scale <- scale(train_knn[,1:ncol(df_knn)-1])\n",
    "test_scale <- scale(test_knn[,1:ncol(df_knn)-1])\n",
    "classifier_knn <-knn(train=train_scale,test=test_scale,cl=train_knn$status,k=floor(sqrt(nrow(df_knn))))\n",
    "acc<-accuracy(test_knn$status, classifier_knn)\n",
    "cat(\"Validation Accuracy:\",acc)"
   ]
  },
  {
   "cell_type": "markdown",
   "id": "05fa7996",
   "metadata": {},
   "source": [
    "### kfold of KNN"
   ]
  },
  {
   "cell_type": "code",
   "execution_count": 57,
   "id": "f081b7a7",
   "metadata": {
    "scrolled": false
   },
   "outputs": [
    {
     "name": "stdout",
     "output_type": "stream",
     "text": [
      "Mean Accuracy 81.8648\n",
      "\n",
      "Accuracy Result of Fold 1 : 81.8181818181818 \n",
      "Accuracy Result of Fold 2 : 86.3636363636364 \n",
      "Accuracy Result of Fold 3 : 79.5454545454545 \n",
      "Accuracy Result of Fold 4 : 79.5454545454545 \n",
      "Accuracy Result of Fold 5 : 82.051282051282\n",
      "\n",
      "Mean f1_score 88.08457\n",
      "\n",
      "f1_score Result of Fold 1 : 87.8787878787879 \n",
      "f1_score Result of Fold 2 : 90.9090909090909 \n",
      "f1_score Result of Fold 3 : 86.1538461538462 \n",
      "f1_score Result of Fold 4 : 86.9565217391304 \n",
      "f1_score Result of Fold 5 : 88.5245901639344"
     ]
    }
   ],
   "source": [
    "mnf1_knn<-list()\n",
    "mnacc_knn<-list()\n",
    "for(i in seq(1:k))\n",
    "{\n",
    "    l=c(seq(1:k))\n",
    "    l<-l[-i]\n",
    "    train_knn<-df_knn[unlist(fold[l]),]\n",
    "    test_knn<-df_knn[unlist(fold[i]),]\n",
    "    train_scale <- scale(train_knn[,1:ncol(df_knn)-1])\n",
    "    test_scale <- scale(test_knn[,1:ncol(df_knn)-1])\n",
    "    classifier_knn <-knn(train=train_scale,test=test_scale,cl=train_knn$status,k=floor(sqrt(nrow(df_knn))))\n",
    "    mnf1_knn<-append(mnf1_knn,f1_score(test_knn$status, classifier_knn),after=length(mnf1_knn))\n",
    "    mnacc_knn<-append(mnacc_knn,accuracy(test_knn$status, classifier_knn),after=length(mnacc_knn))\n",
    "}\n",
    "cat('Mean Accuracy',mean(c(unlist(mnacc_knn))))\n",
    "cat('\\n')\n",
    "cat(paste('\\nAccuracy Result of Fold',c(1:5),':',unlist(mnacc_knn)))\n",
    "cat('\\n')\n",
    "cat('\\nMean f1_score',mean(c(unlist(mnf1_knn))))\n",
    "cat('\\n')\n",
    "cat(paste('\\nf1_score Result of Fold',c(1:5),':',unlist(mnf1_knn)))\n"
   ]
  },
  {
   "cell_type": "markdown",
   "id": "6b3addfc",
   "metadata": {},
   "source": [
    " <h1> Random Forest Classifier </h1><br>\n",
    "A Random Forest is a meta estimator that fits a number of decision tree classifiers on various sub-samples of the dataset and uses averaging to improve the predictive accuracy and control over-fitting. \n"
   ]
  },
  {
   "cell_type": "code",
   "execution_count": 58,
   "id": "0fe46f92",
   "metadata": {},
   "outputs": [
    {
     "data": {
      "text/html": [
       "83.7209302325581"
      ],
      "text/latex": [
       "83.7209302325581"
      ],
      "text/markdown": [
       "83.7209302325581"
      ],
      "text/plain": [
       "[1] 83.72093"
      ]
     },
     "metadata": {},
     "output_type": "display_data"
    }
   ],
   "source": [
    "ind_rf<-sample(2,nrow(df),replace=TRUE,prob=c(0.8,0.2))\n",
    "train_rf<-df[ind_rf==1,]\n",
    "test_rf<-df[ind_rf==2,]\n",
    "classifier_rf <-randomForest(status ~ ., data=train_rf, importance=TRUE,proximity=TRUE)\n",
    "y_pred_rf <- predict(classifier_rf, newdata = test_rf,interval = 'confidence')\n",
    "acc<-accuracy(test_rf$status, y_pred_rf)\n",
    "acc"
   ]
  },
  {
   "cell_type": "markdown",
   "id": "dff07c3b",
   "metadata": {},
   "source": [
    "### kfold of RF"
   ]
  },
  {
   "cell_type": "code",
   "execution_count": 59,
   "id": "db56264d",
   "metadata": {
    "scrolled": false
   },
   "outputs": [
    {
     "name": "stdout",
     "output_type": "stream",
     "text": [
      "Mean Accuracy 87.94872\n",
      "\n",
      "Accuracy Result of Fold 1 : 88.6363636363636 \n",
      "Accuracy Result of Fold 2 : 86.3636363636364 \n",
      "Accuracy Result of Fold 3 : 90.9090909090909 \n",
      "Accuracy Result of Fold 4 : 84.0909090909091 \n",
      "Accuracy Result of Fold 5 : 89.7435897435898\n",
      "\n",
      "Mean f1_score 91.60714\n",
      "\n",
      "f1_score Result of Fold 1 : 92.063492063492 \n",
      "f1_score Result of Fold 2 : 90 \n",
      "f1_score Result of Fold 3 : 93.75 \n",
      "f1_score Result of Fold 4 : 88.8888888888889 \n",
      "f1_score Result of Fold 5 : 93.3333333333333"
     ]
    }
   ],
   "source": [
    "mnf1_rf<-list()\n",
    "mnacc_rf<-list()\n",
    "for(i in seq(1:k))\n",
    "{\n",
    "    l=c(seq(1:k))\n",
    "    l<-l[-i]\n",
    "    train<-df[unlist(fold[l]),]\n",
    "    test<-df[unlist(fold[i]),]\n",
    "    classifier_rf <-randomForest(status ~ ., data=train, importance=TRUE,proximity=TRUE)\n",
    "    y <- predict(classifier_rf, newdata = test,interval = 'confidence')\n",
    "    mnf1_rf<-append(mnf1_rf,f1_score(test$status, y),after=length(mnf1_rf))\n",
    "    mnacc_rf<-append(mnacc_rf,accuracy(test$status, y),after=length(mnacc_rf))\n",
    "}\n",
    "cat('Mean Accuracy',mean(c(unlist(mnacc_rf))))\n",
    "cat('\\n')\n",
    "cat(paste('\\nAccuracy Result of Fold',c(1:5),':',unlist(mnacc_rf)))\n",
    "cat('\\n')\n",
    "cat('\\nMean f1_score',mean(c(unlist(mnf1_rf))))\n",
    "cat('\\n')\n",
    "cat(paste('\\nf1_score Result of Fold',c(1:5),':',unlist(mnf1_rf)))\n"
   ]
  },
  {
   "cell_type": "markdown",
   "id": "9f433424",
   "metadata": {},
   "source": [
    "## Support Vector Machine \n",
    "SVMs can efficiently perform a non-linear classification using what is called the kernel trick, implicitly mapping their inputs into high-dimensional feature spaces."
   ]
  },
  {
   "cell_type": "code",
   "execution_count": 60,
   "id": "10f56b41",
   "metadata": {},
   "outputs": [
    {
     "data": {
      "text/html": [
       "89.4736842105263"
      ],
      "text/latex": [
       "89.4736842105263"
      ],
      "text/markdown": [
       "89.4736842105263"
      ],
      "text/plain": [
       "[1] 89.47368"
      ]
     },
     "metadata": {},
     "output_type": "display_data"
    }
   ],
   "source": [
    "ind_svm<-sample(2,nrow(df),replace=TRUE,prob=c(0.8,0.2))\n",
    "train_svm<-df[ind_svm==1,]\n",
    "test_svm<-df[ind_svm==2,]\n",
    "classifier_svm = svm(status ~ ., data=train_svm,type = 'C-classification',kernel = 'linear')\n",
    "y_pred_svm <- predict(classifier_svm, newdata = test_svm,interval = 'confidence')\n",
    "acc<-accuracy(test_svm$status, y_pred_svm)\n",
    "acc"
   ]
  },
  {
   "cell_type": "code",
   "execution_count": 61,
   "id": "049bff72",
   "metadata": {
    "scrolled": true
   },
   "outputs": [
    {
     "name": "stdout",
     "output_type": "stream",
     "text": [
      "Mean Accuracy 89.37063\n",
      "\n",
      "Accuracy Result of Fold 1 : 81.8181818181818 \n",
      "Accuracy Result of Fold 2 : 88.6363636363636 \n",
      "Accuracy Result of Fold 3 : 95.4545454545455 \n",
      "Accuracy Result of Fold 4 : 88.6363636363636 \n",
      "Accuracy Result of Fold 5 : 92.3076923076923\n",
      "\n",
      "Mean f1_score 92.40148\n",
      "\n",
      "f1_score Result of Fold 1 : 87.0967741935484 \n",
      "f1_score Result of Fold 2 : 91.5254237288135 \n",
      "f1_score Result of Fold 3 : 96.6666666666667 \n",
      "f1_score Result of Fold 4 : 91.8032786885246 \n",
      "f1_score Result of Fold 5 : 94.9152542372881"
     ]
    }
   ],
   "source": [
    "k=5\n",
    "#fold<-KFold(df$status, nfolds = k, stratified = TRUE)\n",
    "mnf1_svm<-list()\n",
    "mnacc_svm<-list()\n",
    "for(i in seq(1:k))\n",
    "{\n",
    "    l=c(seq(1:k))\n",
    "    l<-l[-i]\n",
    "    train<-df[unlist(fold[l]),]\n",
    "    test<-df[unlist(fold[i]),]\n",
    "    classifier_svm = svm(status ~ ., data=train_svm,type = 'C-classification',kernel = 'linear')\n",
    "    y <- predict(classifier_svm, newdata = test,interval = 'confidence')\n",
    "    mnf1_svm<-append(mnf1_svm,f1_score(test$status, y),after=length(mnf1_svm))\n",
    "    mnacc_svm<-append(mnacc_svm,accuracy(test$status, y),after=length(mnacc_svm))\n",
    "}\n",
    "cat('Mean Accuracy',mean(c(unlist(mnacc_svm))))\n",
    "cat('\\n')\n",
    "cat(paste('\\nAccuracy Result of Fold',c(1:k),':',unlist(mnacc_svm)))\n",
    "cat('\\n')\n",
    "cat('\\nMean f1_score',mean(c(unlist(mnf1_svm))))\n",
    "cat('\\n')\n",
    "cat(paste('\\nf1_score Result of Fold',c(1:k),':',unlist(mnf1_svm)))\n"
   ]
  },
  {
   "cell_type": "markdown",
   "id": "4953a409",
   "metadata": {},
   "source": [
    "## Models Comparision"
   ]
  },
  {
   "cell_type": "code",
   "execution_count": 62,
   "id": "b043abf3",
   "metadata": {
    "scrolled": false
   },
   "outputs": [
    {
     "data": {
      "image/png": "[encoded data removed]",
      "text/plain": [
       "plot without title"
      ]
     },
     "metadata": {
      "image/png": {
       "height": 420,
       "width": 420
      }
     },
     "output_type": "display_data"
    }
   ],
   "source": [
    "par(mfrow=c(2,2))\n",
    "fourfoldplot(table(test_lr$status,y_pred_lr), color = c(\"pink\", \"skyblue\"),conf.level = 0, margin = 2, main = \"Logistic Regression \")\n",
    "fourfoldplot(table(test_knn$status,classifier_knn), color = c(\"pink\", \"skyblue\"),conf.level = 0, margin = 2, main = \"K-NN \")\n",
    "fourfoldplot(table(test_rf$status,y_pred_rf), color = c(\"pink\", \"skyblue\"),conf.level = 0, margin = 2, main = \"Random Forest\")\n",
    "fourfoldplot(table(test_svm$status,y_pred_svm), color = c(\"pink\", \"skyblue\"),conf.level = 0, margin = 2, main = \"SVM\")\n"
   ]
  },
  {
   "cell_type": "code",
   "execution_count": 63,
   "id": "8f073a75",
   "metadata": {},
   "outputs": [
    {
     "data": {
      "text/html": [
       "<table class=\"dataframe\">\n",
       "<caption>A data.frame: 5 × 7</caption>\n",
       "<thead>\n",
       "\t<tr><th scope=col>Algorithm</th><th scope=col>Min_Accuracy</th><th scope=col>Max_Accuracy</th><th scope=col>Min_F1score</th><th scope=col>Max_F1score</th><th scope=col>KFold_Accuracy</th><th scope=col>KFold_F1score</th></tr>\n",
       "\t<tr><th scope=col>&lt;chr&gt;</th><th scope=col>&lt;dbl&gt;</th><th scope=col>&lt;dbl&gt;</th><th scope=col>&lt;dbl&gt;</th><th scope=col>&lt;dbl&gt;</th><th scope=col>&lt;dbl&gt;</th><th scope=col>&lt;dbl&gt;</th></tr>\n",
       "</thead>\n",
       "<tbody>\n",
       "\t<tr><td>Naive Bayes           </td><td>77.27273</td><td>90.32258</td><td>82.75862</td><td>86.36364</td><td>83.22844</td><td>87.71825</td></tr>\n",
       "\t<tr><td>Logistic Regression   </td><td>75.00000</td><td>91.52542</td><td>81.35593</td><td>88.63636</td><td>84.70862</td><td>88.69462</td></tr>\n",
       "\t<tr><td>K-Nearest Neighbours  </td><td>79.54545</td><td>90.90909</td><td>86.15385</td><td>86.36364</td><td>81.86480</td><td>88.08457</td></tr>\n",
       "\t<tr><td>Random Forest         </td><td>84.09091</td><td>93.75000</td><td>88.88889</td><td>90.90909</td><td>87.94872</td><td>91.60714</td></tr>\n",
       "\t<tr><td>Support Vector Machine</td><td>81.81818</td><td>96.66667</td><td>87.09677</td><td>95.45455</td><td>89.37063</td><td>92.40148</td></tr>\n",
       "</tbody>\n",
       "</table>\n"
      ],
      "text/latex": [
       "A data.frame: 5 × 7\n",
       "\\begin{tabular}{lllllll}\n",
       " Algorithm & Min\\_Accuracy & Max\\_Accuracy & Min\\_F1score & Max\\_F1score & KFold\\_Accuracy & KFold\\_F1score\\\\\n",
       " <chr> & <dbl> & <dbl> & <dbl> & <dbl> & <dbl> & <dbl>\\\\\n",
       "\\hline\n",
       "\t Naive Bayes            & 77.27273 & 90.32258 & 82.75862 & 86.36364 & 83.22844 & 87.71825\\\\\n",
       "\t Logistic Regression    & 75.00000 & 91.52542 & 81.35593 & 88.63636 & 84.70862 & 88.69462\\\\\n",
       "\t K-Nearest Neighbours   & 79.54545 & 90.90909 & 86.15385 & 86.36364 & 81.86480 & 88.08457\\\\\n",
       "\t Random Forest          & 84.09091 & 93.75000 & 88.88889 & 90.90909 & 87.94872 & 91.60714\\\\\n",
       "\t Support Vector Machine & 81.81818 & 96.66667 & 87.09677 & 95.45455 & 89.37063 & 92.40148\\\\\n",
       "\\end{tabular}\n"
      ],
      "text/markdown": [
       "\n",
       "A data.frame: 5 × 7\n",
       "\n",
       "| Algorithm &lt;chr&gt; | Min_Accuracy &lt;dbl&gt; | Max_Accuracy &lt;dbl&gt; | Min_F1score &lt;dbl&gt; | Max_F1score &lt;dbl&gt; | KFold_Accuracy &lt;dbl&gt; | KFold_F1score &lt;dbl&gt; |\n",
       "|---|---|---|---|---|---|---|\n",
       "| Naive Bayes            | 77.27273 | 90.32258 | 82.75862 | 86.36364 | 83.22844 | 87.71825 |\n",
       "| Logistic Regression    | 75.00000 | 91.52542 | 81.35593 | 88.63636 | 84.70862 | 88.69462 |\n",
       "| K-Nearest Neighbours   | 79.54545 | 90.90909 | 86.15385 | 86.36364 | 81.86480 | 88.08457 |\n",
       "| Random Forest          | 84.09091 | 93.75000 | 88.88889 | 90.90909 | 87.94872 | 91.60714 |\n",
       "| Support Vector Machine | 81.81818 | 96.66667 | 87.09677 | 95.45455 | 89.37063 | 92.40148 |\n",
       "\n"
      ],
      "text/plain": [
       "  Algorithm              Min_Accuracy Max_Accuracy Min_F1score Max_F1score\n",
       "1 Naive Bayes            77.27273     90.32258     82.75862    86.36364   \n",
       "2 Logistic Regression    75.00000     91.52542     81.35593    88.63636   \n",
       "3 K-Nearest Neighbours   79.54545     90.90909     86.15385    86.36364   \n",
       "4 Random Forest          84.09091     93.75000     88.88889    90.90909   \n",
       "5 Support Vector Machine 81.81818     96.66667     87.09677    95.45455   \n",
       "  KFold_Accuracy KFold_F1score\n",
       "1 83.22844       87.71825     \n",
       "2 84.70862       88.69462     \n",
       "3 81.86480       88.08457     \n",
       "4 87.94872       91.60714     \n",
       "5 89.37063       92.40148     "
      ]
     },
     "metadata": {},
     "output_type": "display_data"
    }
   ],
   "source": [
    "kacc=c(mean(c(unlist(mnacc_nb))),mean(c(unlist(mnacc_lr))),mean(c(unlist(mnacc_knn))),mean(c(unlist(mnacc_rf))),mean(c(unlist(mnacc_svm))))\n",
    "kf1=c(mean(c(unlist(mnf1_nb))),mean(c(unlist(mnf1_lr))),mean(c(unlist(mnf1_knn))),mean(c(unlist(mnf1_rf))),mean(c(unlist(mnf1_svm))))\n",
    "accmax=c(max(unlist(mnacc_nb)),max(unlist(mnacc_lr)),max(unlist(mnacc_knn)),max(unlist(mnacc_rf)),max(unlist(mnacc_svm)))\n",
    "accmin=c(min(unlist(mnacc_nb)),min(unlist(mnacc_lr)),min(unlist(mnacc_knn)),min(unlist(mnacc_rf)),min(unlist(mnacc_svm)))\n",
    "f1max=c(max(unlist(mnf1_nb)),max(unlist(mnf1_lr)),max(unlist(mnf1_knn)),max(unlist(mnf1_rf)),max(unlist(mnf1_svm)))\n",
    "f1min=c(min(unlist(mnf1_nb)),min(unlist(mnf1_lr)),min(unlist(mnf1_knn)),min(unlist(mnf1_rf)),min(unlist(mnf1_svm)))\n",
    "model_df=data.frame(Algorithm=c('Naive Bayes','Logistic Regression','K-Nearest Neighbours','Random Forest',\"Support Vector Machine\"),Min_Accuracy=accmin,Max_Accuracy=f1max,Min_F1score=f1min,Max_F1score=accmax,KFold_Accuracy=kacc,KFold_F1score=kf1)\n",
    "\n",
    "model_df"
   ]
  },
  {
   "cell_type": "code",
   "execution_count": 64,
   "id": "5482cf16",
   "metadata": {
    "scrolled": false
   },
   "outputs": [
    {
     "data": {
      "image/png": "[encoded data removed]",
      "text/plain": [
       "Plot with title \"Max_F1score\""
      ]
     },
     "metadata": {
      "image/png": {
       "height": 420,
       "width": 420
      }
     },
     "output_type": "display_data"
    }
   ],
   "source": [
    "par(mfrow=c(2,2))\n",
    "fn<-function(x){\n",
    "    return (format(round(x, 2), nsmall = 2))\n",
    "}\n",
    "labs=c('NB','LR','K-NN','RF','SVM')\n",
    "barplot(model_df$Min_Accuracy,ylim=c(50,120),names.arg=labs,col=rainbow(5), log=\"y\",main='Min_Accuracy')\n",
    "text(model_df$Min_Accuracy,labels =sapply(model_df$Min_Accuracy,fn),pos=3,cex=1)\n",
    "\n",
    "barplot(model_df$Max_Accuracy,ylim=c(50,120),names.arg=labs,col=rainbow(5), log=\"y\",main='Max_Accuracy')\n",
    "text(model_df$Max_Accuracy,labels =sapply(model_df$Max_Accuracy,fn),pos=3,cex=1)\n",
    "\n",
    "barplot(model_df$Min_F1score,ylim=c(50,120),names.arg=labs,col=rainbow(5), log=\"y\",main='Min_F1score')\n",
    "text(model_df$Min_F1score,labels =sapply(model_df$Min_F1score,fn),pos=3,cex=1)\n",
    "\n",
    "barplot(model_df$Max_F1score,ylim=c(50,120),names.arg=labs,col=rainbow(5), log=\"y\",main='Max_F1score')\n",
    "text(model_df$Max_F1score,labels =sapply(model_df$Max_F1score,fn),pos=3,cex=1)"
   ]
  },
  {
   "cell_type": "code",
   "execution_count": 65,
   "id": "3b8f4cd7",
   "metadata": {},
   "outputs": [
    {
     "data": {
      "image/png": "[encoded data removed]",
      "text/plain": [
       "Plot with title \"Accuracy Comparison\""
      ]
     },
     "metadata": {
      "image/png": {
       "height": 420,
       "width": 420
      }
     },
     "output_type": "display_data"
    },
    {
     "data": {
      "image/png": "[encoded data removed]",
      "text/plain": [
       "Plot with title \"F1-Score Comparison\""
      ]
     },
     "metadata": {
      "image/png": {
       "height": 420,
       "width": 420
      }
     },
     "output_type": "display_data"
    }
   ],
   "source": [
    "plot(model_df$Min_Accuracy,type = \"o\",col='red',ylim=c(75,100),lwd=2.0, xaxt = \"n\",main='Accuracy Comparison')\n",
    "axis(1, at=1:5, labels=labs)\n",
    "lines(model_df$Max_Accuracy, type = \"o\", col = \"blue\",lwd=2.0)\n",
    "legend(\"topleft\",c(\"Min Accuracy\",\"Max Accuracy\"),fill = c('red','blue'))\n",
    "\n",
    "plot(model_df$Min_F1score,type = \"o\",col='red',ylim=c(75,100),lwd=2.0, xaxt = \"n\",main='F1-Score Comparison')\n",
    "axis(1, at=1:5, labels=labs)\n",
    "lines(model_df$Max_F1score, type = \"o\", col = \"blue\",lwd=2.0)\n",
    "legend(\"topleft\",c(\"Min F1-score\",\" Max F1-score\"),fill = c('red','blue'))"
   ]
  },
  {
   "cell_type": "code",
   "execution_count": 66,
   "id": "2f9da1ff",
   "metadata": {
    "scrolled": false
   },
   "outputs": [
    {
     "data": {
      "image/png": "[encoded data removed]",
      "text/plain": [
       "Plot with title \"K-Fold Accuracy and F1-Score Comparison\""
      ]
     },
     "metadata": {
      "image/png": {
       "height": 420,
       "width": 420
      }
     },
     "output_type": "display_data"
    }
   ],
   "source": [
    "plot(model_df$KFold_Accuracy,type = \"o\",col='red',ylim=c(80,95),lwd=2.0, xaxt = \"n\",main='K-Fold Accuracy and F1-Score Comparison')\n",
    "axis(1, at=1:5, labels=labs)\n",
    "lines(model_df$KFold_F1score, type = \"o\", col = \"blue\",lwd=2.0)\n",
    "legend(\"topleft\",c(\"Accuracy\",\"F1-score\"),fill = c('red','blue'))"
   ]
  },
  {
   "cell_type": "code",
   "execution_count": 67,
   "id": "58c4cca5",
   "metadata": {
    "scrolled": false
   },
   "outputs": [
    {
     "data": {
      "image/png": "[encoded data removed]",
      "text/plain": [
       "Plot with title \"Kfold Validation Accuracies\""
      ]
     },
     "metadata": {
      "image/png": {
       "height": 420,
       "width": 420
      }
     },
     "output_type": "display_data"
    }
   ],
   "source": [
    "plot(unlist(mnacc_nb),type = \"o\",col='red',ylim=c(70,100),lwd=2.0, xaxt = \"n\",main='Kfold Validation Accuracies',xlab='K-folds',ylab='percentages')\n",
    "axis(1, at=1:5, labels=c(1:5))\n",
    "lines(unlist(mnacc_lr), type = \"o\", col = \"blue\",lwd=2.0)\n",
    "lines(unlist(mnacc_knn), type = \"o\", col = \"green\",lwd=2.0)\n",
    "lines(unlist(mnacc_rf), type = \"o\", col = \"navy\",lwd=2.0)\n",
    "lines(unlist(mnacc_svm), type = \"o\", col = \"cyan\",lwd=2.0)\n",
    "legend(\"topleft\",c('NB','LR','K-NN','RF','SVM'),fill = c('red','blue',\"green\",\"navy\",\"cyan\"))\n"
   ]
  },
  {
   "cell_type": "code",
   "execution_count": 68,
   "id": "a3395351",
   "metadata": {},
   "outputs": [
    {
     "data": {
      "image/png": "[encoded data removed]",
      "text/plain": [
       "Plot with title \"Kfolds validation F1-scores\""
      ]
     },
     "metadata": {
      "image/png": {
       "height": 420,
       "width": 420
      }
     },
     "output_type": "display_data"
    }
   ],
   "source": [
    "plot(unlist(mnf1_nb),type = \"o\",col='red',ylim=c(70,100),lwd=2.0, xaxt = \"n\",main='Kfolds validation F1-scores',xlab='K-folds',ylab='percentages')\n",
    "axis(1, at=1:5, labels=c(1:5))\n",
    "lines(unlist(mnf1_lr), type = \"o\", col = \"blue\",lwd=2.0)\n",
    "lines(unlist(mnf1_knn), type = \"o\", col = \"green\",lwd=2.0)\n",
    "lines(unlist(mnf1_rf), type = \"o\", col = \"navy\",lwd=2.0)\n",
    "lines(unlist(mnf1_svm), type = \"o\", col = \"cyan\",lwd=2.0)\n",
    "legend(\"topleft\",c('NB','LR','K-NN','RF','SVM'),fill = c('red','blue',\"green\",\"navy\",\"cyan\"))"
   ]
  },
  {
   "cell_type": "markdown",
   "id": "f9d140bd",
   "metadata": {},
   "source": [
    "# Random Sampling Experiment\n",
    "Random sampling, or probability sampling, is a sampling method that allows for the randomization of sample selection, i.e., each sample has the same probability as other samples to be selected to serve as a representation of an entire population."
   ]
  },
  {
   "cell_type": "code",
   "execution_count": 148,
   "id": "8cbf5b41",
   "metadata": {
    "scrolled": true
   },
   "outputs": [
    {
     "name": "stdout",
     "output_type": "stream",
     "text": [
      "Validation Loss: 0.3951125 \n",
      "Testing Loss: 0.2921759[1] 100\n"
     ]
    }
   ],
   "source": [
    "for(i in 1:500)\n",
    "{\n",
    "    ind<-sample(2,nrow(df),replace=TRUE,prob=c(0.8,0.2))\n",
    "    train<-df[ind==1,]\n",
    "    test<-df[ind==2,]\n",
    "    grid <- data.frame(fL=c(0,0.5,1.0), usekernel = TRUE, adjust=c(0,0.5,1.0))\n",
    "    classifier<- naive_bayes(status ~ ., data = train, tuneGrid=grid)\n",
    "    y_pred <- predict(classifier, newdata = test,interval = 'confidence')\n",
    "    acc=accuracy(test$status,y_pred)\n",
    "    if(acc==100)\n",
    "        break\n",
    "    loss_vd<-LogLoss(predict(classifier, newdata = train,type = \"prob\",interval = 'confidence')[,2],lbl$fit_transform(train$status))\n",
    "    loss_ts<-LogLoss(predict(classifier, newdata = test,type = \"prob\",interval = 'confidence')[,2],lbl$fit_transform(test$status))\n",
    "    if(loss_ts<=0.149 )\n",
    "        break\n",
    "}\n",
    "\n",
    "cat('Validation Loss:',loss_vd,\"\\nTesting Loss:\",loss_ts)\n",
    "print(acc)"
   ]
  },
  {
   "cell_type": "code",
   "execution_count": 149,
   "id": "60384ee7",
   "metadata": {
    "scrolled": true
   },
   "outputs": [
    {
     "data": {
      "text/html": [
       "<style>\n",
       ".list-inline {list-style: none; margin:0; padding: 0}\n",
       ".list-inline>li {display: inline-block}\n",
       ".list-inline>li:not(:last-child)::after {content: \"\\00b7\"; padding: 0 .5ex}\n",
       "</style>\n",
       "<ol class=list-inline><li>1</li><li>2</li><li>1</li><li>1</li><li>1</li><li>2</li><li>2</li><li>1</li><li>2</li><li>1</li><li>1</li><li>1</li><li>1</li><li>1</li><li>2</li><li>1</li><li>1</li><li>1</li><li>2</li><li>1</li><li>1</li><li>1</li><li>1</li><li>1</li><li>1</li><li>1</li><li>1</li><li>1</li><li>1</li><li>1</li><li>2</li><li>1</li><li>1</li><li>1</li><li>2</li><li>1</li><li>1</li><li>1</li><li>1</li><li>2</li><li>1</li><li>1</li><li>1</li><li>1</li><li>1</li><li>1</li><li>1</li><li>1</li><li>1</li><li>1</li><li>1</li><li>2</li><li>1</li><li>1</li><li>1</li><li>1</li><li>1</li><li>1</li><li>1</li><li>1</li><li>1</li><li>1</li><li>2</li><li>1</li><li>1</li><li>1</li><li>1</li><li>1</li><li>2</li><li>1</li><li>1</li><li>1</li><li>1</li><li>2</li><li>1</li><li>1</li><li>1</li><li>1</li><li>1</li><li>1</li><li>1</li><li>1</li><li>1</li><li>1</li><li>2</li><li>1</li><li>1</li><li>1</li><li>2</li><li>1</li><li>1</li><li>1</li><li>2</li><li>1</li><li>1</li><li>1</li><li>1</li><li>1</li><li>2</li><li>1</li><li>1</li><li>1</li><li>1</li><li>1</li><li>1</li><li>1</li><li>1</li><li>1</li><li>2</li><li>1</li><li>1</li><li>1</li><li>1</li><li>1</li><li>1</li><li>1</li><li>1</li><li>1</li><li>1</li><li>1</li><li>1</li><li>1</li><li>1</li><li>1</li><li>1</li><li>1</li><li>1</li><li>1</li><li>1</li><li>2</li><li>1</li><li>1</li><li>1</li><li>1</li><li>2</li><li>1</li><li>1</li><li>1</li><li>1</li><li>1</li><li>2</li><li>1</li><li>1</li><li>2</li><li>1</li><li>1</li><li>1</li><li>1</li><li>1</li><li>2</li><li>1</li><li>1</li><li>1</li><li>1</li><li>1</li><li>2</li><li>1</li><li>1</li><li>1</li><li>1</li><li>1</li><li>1</li><li>1</li><li>1</li><li>1</li><li>1</li><li>1</li><li>1</li><li>1</li><li>2</li><li>1</li><li>1</li><li>1</li><li>1</li><li>1</li><li>1</li><li>1</li><li>2</li><li>2</li><li>1</li><li>1</li><li>2</li><li>1</li><li>1</li><li>1</li><li>1</li><li>2</li><li>2</li><li>1</li><li>1</li><li>1</li><li>1</li><li>1</li><li>1</li><li>1</li><li>1</li><li>1</li><li>1</li><li>1</li><li>1</li><li>1</li><li>1</li><li>1</li><li>1</li><li>1</li><li>1</li><li>1</li><li>1</li><li>1</li><li>2</li><li>1</li><li>1</li><li>1</li><li>1</li><li>1</li></ol>\n"
      ],
      "text/latex": [
       "\\begin{enumerate*}\n",
       "\\item 1\n",
       "\\item 2\n",
       "\\item 1\n",
       "\\item 1\n",
       "\\item 1\n",
       "\\item 2\n",
       "\\item 2\n",
       "\\item 1\n",
       "\\item 2\n",
       "\\item 1\n",
       "\\item 1\n",
       "\\item 1\n",
       "\\item 1\n",
       "\\item 1\n",
       "\\item 2\n",
       "\\item 1\n",
       "\\item 1\n",
       "\\item 1\n",
       "\\item 2\n",
       "\\item 1\n",
       "\\item 1\n",
       "\\item 1\n",
       "\\item 1\n",
       "\\item 1\n",
       "\\item 1\n",
       "\\item 1\n",
       "\\item 1\n",
       "\\item 1\n",
       "\\item 1\n",
       "\\item 1\n",
       "\\item 2\n",
       "\\item 1\n",
       "\\item 1\n",
       "\\item 1\n",
       "\\item 2\n",
       "\\item 1\n",
       "\\item 1\n",
       "\\item 1\n",
       "\\item 1\n",
       "\\item 2\n",
       "\\item 1\n",
       "\\item 1\n",
       "\\item 1\n",
       "\\item 1\n",
       "\\item 1\n",
       "\\item 1\n",
       "\\item 1\n",
       "\\item 1\n",
       "\\item 1\n",
       "\\item 1\n",
       "\\item 1\n",
       "\\item 2\n",
       "\\item 1\n",
       "\\item 1\n",
       "\\item 1\n",
       "\\item 1\n",
       "\\item 1\n",
       "\\item 1\n",
       "\\item 1\n",
       "\\item 1\n",
       "\\item 1\n",
       "\\item 1\n",
       "\\item 2\n",
       "\\item 1\n",
       "\\item 1\n",
       "\\item 1\n",
       "\\item 1\n",
       "\\item 1\n",
       "\\item 2\n",
       "\\item 1\n",
       "\\item 1\n",
       "\\item 1\n",
       "\\item 1\n",
       "\\item 2\n",
       "\\item 1\n",
       "\\item 1\n",
       "\\item 1\n",
       "\\item 1\n",
       "\\item 1\n",
       "\\item 1\n",
       "\\item 1\n",
       "\\item 1\n",
       "\\item 1\n",
       "\\item 1\n",
       "\\item 2\n",
       "\\item 1\n",
       "\\item 1\n",
       "\\item 1\n",
       "\\item 2\n",
       "\\item 1\n",
       "\\item 1\n",
       "\\item 1\n",
       "\\item 2\n",
       "\\item 1\n",
       "\\item 1\n",
       "\\item 1\n",
       "\\item 1\n",
       "\\item 1\n",
       "\\item 2\n",
       "\\item 1\n",
       "\\item 1\n",
       "\\item 1\n",
       "\\item 1\n",
       "\\item 1\n",
       "\\item 1\n",
       "\\item 1\n",
       "\\item 1\n",
       "\\item 1\n",
       "\\item 2\n",
       "\\item 1\n",
       "\\item 1\n",
       "\\item 1\n",
       "\\item 1\n",
       "\\item 1\n",
       "\\item 1\n",
       "\\item 1\n",
       "\\item 1\n",
       "\\item 1\n",
       "\\item 1\n",
       "\\item 1\n",
       "\\item 1\n",
       "\\item 1\n",
       "\\item 1\n",
       "\\item 1\n",
       "\\item 1\n",
       "\\item 1\n",
       "\\item 1\n",
       "\\item 1\n",
       "\\item 1\n",
       "\\item 2\n",
       "\\item 1\n",
       "\\item 1\n",
       "\\item 1\n",
       "\\item 1\n",
       "\\item 2\n",
       "\\item 1\n",
       "\\item 1\n",
       "\\item 1\n",
       "\\item 1\n",
       "\\item 1\n",
       "\\item 2\n",
       "\\item 1\n",
       "\\item 1\n",
       "\\item 2\n",
       "\\item 1\n",
       "\\item 1\n",
       "\\item 1\n",
       "\\item 1\n",
       "\\item 1\n",
       "\\item 2\n",
       "\\item 1\n",
       "\\item 1\n",
       "\\item 1\n",
       "\\item 1\n",
       "\\item 1\n",
       "\\item 2\n",
       "\\item 1\n",
       "\\item 1\n",
       "\\item 1\n",
       "\\item 1\n",
       "\\item 1\n",
       "\\item 1\n",
       "\\item 1\n",
       "\\item 1\n",
       "\\item 1\n",
       "\\item 1\n",
       "\\item 1\n",
       "\\item 1\n",
       "\\item 1\n",
       "\\item 2\n",
       "\\item 1\n",
       "\\item 1\n",
       "\\item 1\n",
       "\\item 1\n",
       "\\item 1\n",
       "\\item 1\n",
       "\\item 1\n",
       "\\item 2\n",
       "\\item 2\n",
       "\\item 1\n",
       "\\item 1\n",
       "\\item 2\n",
       "\\item 1\n",
       "\\item 1\n",
       "\\item 1\n",
       "\\item 1\n",
       "\\item 2\n",
       "\\item 2\n",
       "\\item 1\n",
       "\\item 1\n",
       "\\item 1\n",
       "\\item 1\n",
       "\\item 1\n",
       "\\item 1\n",
       "\\item 1\n",
       "\\item 1\n",
       "\\item 1\n",
       "\\item 1\n",
       "\\item 1\n",
       "\\item 1\n",
       "\\item 1\n",
       "\\item 1\n",
       "\\item 1\n",
       "\\item 1\n",
       "\\item 1\n",
       "\\item 1\n",
       "\\item 1\n",
       "\\item 1\n",
       "\\item 1\n",
       "\\item 2\n",
       "\\item 1\n",
       "\\item 1\n",
       "\\item 1\n",
       "\\item 1\n",
       "\\item 1\n",
       "\\end{enumerate*}\n"
      ],
      "text/markdown": [
       "1. 1\n",
       "2. 2\n",
       "3. 1\n",
       "4. 1\n",
       "5. 1\n",
       "6. 2\n",
       "7. 2\n",
       "8. 1\n",
       "9. 2\n",
       "10. 1\n",
       "11. 1\n",
       "12. 1\n",
       "13. 1\n",
       "14. 1\n",
       "15. 2\n",
       "16. 1\n",
       "17. 1\n",
       "18. 1\n",
       "19. 2\n",
       "20. 1\n",
       "21. 1\n",
       "22. 1\n",
       "23. 1\n",
       "24. 1\n",
       "25. 1\n",
       "26. 1\n",
       "27. 1\n",
       "28. 1\n",
       "29. 1\n",
       "30. 1\n",
       "31. 2\n",
       "32. 1\n",
       "33. 1\n",
       "34. 1\n",
       "35. 2\n",
       "36. 1\n",
       "37. 1\n",
       "38. 1\n",
       "39. 1\n",
       "40. 2\n",
       "41. 1\n",
       "42. 1\n",
       "43. 1\n",
       "44. 1\n",
       "45. 1\n",
       "46. 1\n",
       "47. 1\n",
       "48. 1\n",
       "49. 1\n",
       "50. 1\n",
       "51. 1\n",
       "52. 2\n",
       "53. 1\n",
       "54. 1\n",
       "55. 1\n",
       "56. 1\n",
       "57. 1\n",
       "58. 1\n",
       "59. 1\n",
       "60. 1\n",
       "61. 1\n",
       "62. 1\n",
       "63. 2\n",
       "64. 1\n",
       "65. 1\n",
       "66. 1\n",
       "67. 1\n",
       "68. 1\n",
       "69. 2\n",
       "70. 1\n",
       "71. 1\n",
       "72. 1\n",
       "73. 1\n",
       "74. 2\n",
       "75. 1\n",
       "76. 1\n",
       "77. 1\n",
       "78. 1\n",
       "79. 1\n",
       "80. 1\n",
       "81. 1\n",
       "82. 1\n",
       "83. 1\n",
       "84. 1\n",
       "85. 2\n",
       "86. 1\n",
       "87. 1\n",
       "88. 1\n",
       "89. 2\n",
       "90. 1\n",
       "91. 1\n",
       "92. 1\n",
       "93. 2\n",
       "94. 1\n",
       "95. 1\n",
       "96. 1\n",
       "97. 1\n",
       "98. 1\n",
       "99. 2\n",
       "100. 1\n",
       "101. 1\n",
       "102. 1\n",
       "103. 1\n",
       "104. 1\n",
       "105. 1\n",
       "106. 1\n",
       "107. 1\n",
       "108. 1\n",
       "109. 2\n",
       "110. 1\n",
       "111. 1\n",
       "112. 1\n",
       "113. 1\n",
       "114. 1\n",
       "115. 1\n",
       "116. 1\n",
       "117. 1\n",
       "118. 1\n",
       "119. 1\n",
       "120. 1\n",
       "121. 1\n",
       "122. 1\n",
       "123. 1\n",
       "124. 1\n",
       "125. 1\n",
       "126. 1\n",
       "127. 1\n",
       "128. 1\n",
       "129. 1\n",
       "130. 2\n",
       "131. 1\n",
       "132. 1\n",
       "133. 1\n",
       "134. 1\n",
       "135. 2\n",
       "136. 1\n",
       "137. 1\n",
       "138. 1\n",
       "139. 1\n",
       "140. 1\n",
       "141. 2\n",
       "142. 1\n",
       "143. 1\n",
       "144. 2\n",
       "145. 1\n",
       "146. 1\n",
       "147. 1\n",
       "148. 1\n",
       "149. 1\n",
       "150. 2\n",
       "151. 1\n",
       "152. 1\n",
       "153. 1\n",
       "154. 1\n",
       "155. 1\n",
       "156. 2\n",
       "157. 1\n",
       "158. 1\n",
       "159. 1\n",
       "160. 1\n",
       "161. 1\n",
       "162. 1\n",
       "163. 1\n",
       "164. 1\n",
       "165. 1\n",
       "166. 1\n",
       "167. 1\n",
       "168. 1\n",
       "169. 1\n",
       "170. 2\n",
       "171. 1\n",
       "172. 1\n",
       "173. 1\n",
       "174. 1\n",
       "175. 1\n",
       "176. 1\n",
       "177. 1\n",
       "178. 2\n",
       "179. 2\n",
       "180. 1\n",
       "181. 1\n",
       "182. 2\n",
       "183. 1\n",
       "184. 1\n",
       "185. 1\n",
       "186. 1\n",
       "187. 2\n",
       "188. 2\n",
       "189. 1\n",
       "190. 1\n",
       "191. 1\n",
       "192. 1\n",
       "193. 1\n",
       "194. 1\n",
       "195. 1\n",
       "196. 1\n",
       "197. 1\n",
       "198. 1\n",
       "199. 1\n",
       "200. 1\n",
       "201. 1\n",
       "202. 1\n",
       "203. 1\n",
       "204. 1\n",
       "205. 1\n",
       "206. 1\n",
       "207. 1\n",
       "208. 1\n",
       "209. 1\n",
       "210. 2\n",
       "211. 1\n",
       "212. 1\n",
       "213. 1\n",
       "214. 1\n",
       "215. 1\n",
       "\n",
       "\n"
      ],
      "text/plain": [
       "  [1] 1 2 1 1 1 2 2 1 2 1 1 1 1 1 2 1 1 1 2 1 1 1 1 1 1 1 1 1 1 1 2 1 1 1 2 1 1\n",
       " [38] 1 1 2 1 1 1 1 1 1 1 1 1 1 1 2 1 1 1 1 1 1 1 1 1 1 2 1 1 1 1 1 2 1 1 1 1 2\n",
       " [75] 1 1 1 1 1 1 1 1 1 1 2 1 1 1 2 1 1 1 2 1 1 1 1 1 2 1 1 1 1 1 1 1 1 1 2 1 1\n",
       "[112] 1 1 1 1 1 1 1 1 1 1 1 1 1 1 1 1 1 1 2 1 1 1 1 2 1 1 1 1 1 2 1 1 2 1 1 1 1\n",
       "[149] 1 2 1 1 1 1 1 2 1 1 1 1 1 1 1 1 1 1 1 1 1 2 1 1 1 1 1 1 1 2 2 1 1 2 1 1 1\n",
       "[186] 1 2 2 1 1 1 1 1 1 1 1 1 1 1 1 1 1 1 1 1 1 1 1 1 2 1 1 1 1 1"
      ]
     },
     "metadata": {},
     "output_type": "display_data"
    },
    {
     "data": {
      "text/html": [
       "<ol>\n",
       "\t<li>1</li>\n",
       "\t<li>2</li>\n",
       "\t<li>1</li>\n",
       "\t<li>1</li>\n",
       "\t<li>1</li>\n",
       "\t<li>2</li>\n",
       "\t<li>2</li>\n",
       "\t<li>1</li>\n",
       "\t<li>2</li>\n",
       "\t<li>1</li>\n",
       "\t<li>1</li>\n",
       "\t<li>1</li>\n",
       "\t<li>1</li>\n",
       "\t<li>1</li>\n",
       "\t<li>2</li>\n",
       "\t<li>1</li>\n",
       "\t<li>1</li>\n",
       "\t<li>1</li>\n",
       "\t<li>2</li>\n",
       "\t<li>1</li>\n",
       "\t<li>1</li>\n",
       "\t<li>1</li>\n",
       "\t<li>1</li>\n",
       "\t<li>1</li>\n",
       "\t<li>1</li>\n",
       "\t<li>1</li>\n",
       "\t<li>1</li>\n",
       "\t<li>1</li>\n",
       "\t<li>1</li>\n",
       "\t<li>1</li>\n",
       "\t<li>2</li>\n",
       "\t<li>1</li>\n",
       "\t<li>1</li>\n",
       "\t<li>1</li>\n",
       "\t<li>2</li>\n",
       "\t<li>1</li>\n",
       "\t<li>1</li>\n",
       "\t<li>1</li>\n",
       "\t<li>1</li>\n",
       "\t<li>2</li>\n",
       "\t<li>1</li>\n",
       "\t<li>1</li>\n",
       "\t<li>1</li>\n",
       "\t<li>1</li>\n",
       "\t<li>1</li>\n",
       "\t<li>1</li>\n",
       "\t<li>1</li>\n",
       "\t<li>1</li>\n",
       "\t<li>1</li>\n",
       "\t<li>1</li>\n",
       "\t<li>1</li>\n",
       "\t<li>2</li>\n",
       "\t<li>1</li>\n",
       "\t<li>1</li>\n",
       "\t<li>1</li>\n",
       "\t<li>1</li>\n",
       "\t<li>1</li>\n",
       "\t<li>1</li>\n",
       "\t<li>1</li>\n",
       "\t<li>1</li>\n",
       "\t<li>1</li>\n",
       "\t<li>1</li>\n",
       "\t<li>2</li>\n",
       "\t<li>1</li>\n",
       "\t<li>1</li>\n",
       "\t<li>1</li>\n",
       "\t<li>1</li>\n",
       "\t<li>1</li>\n",
       "\t<li>2</li>\n",
       "\t<li>1</li>\n",
       "\t<li>1</li>\n",
       "\t<li>1</li>\n",
       "\t<li>1</li>\n",
       "\t<li>2</li>\n",
       "\t<li>1</li>\n",
       "\t<li>1</li>\n",
       "\t<li>1</li>\n",
       "\t<li>1</li>\n",
       "\t<li>1</li>\n",
       "\t<li>1</li>\n",
       "\t<li>1</li>\n",
       "\t<li>1</li>\n",
       "\t<li>1</li>\n",
       "\t<li>1</li>\n",
       "\t<li>2</li>\n",
       "\t<li>1</li>\n",
       "\t<li>1</li>\n",
       "\t<li>1</li>\n",
       "\t<li>2</li>\n",
       "\t<li>1</li>\n",
       "\t<li>1</li>\n",
       "\t<li>1</li>\n",
       "\t<li>2</li>\n",
       "\t<li>1</li>\n",
       "\t<li>1</li>\n",
       "\t<li>1</li>\n",
       "\t<li>1</li>\n",
       "\t<li>1</li>\n",
       "\t<li>2</li>\n",
       "\t<li>1</li>\n",
       "\t<li>1</li>\n",
       "\t<li>1</li>\n",
       "\t<li>1</li>\n",
       "\t<li>1</li>\n",
       "\t<li>1</li>\n",
       "\t<li>1</li>\n",
       "\t<li>1</li>\n",
       "\t<li>1</li>\n",
       "\t<li>2</li>\n",
       "\t<li>1</li>\n",
       "\t<li>1</li>\n",
       "\t<li>1</li>\n",
       "\t<li>1</li>\n",
       "\t<li>1</li>\n",
       "\t<li>1</li>\n",
       "\t<li>1</li>\n",
       "\t<li>1</li>\n",
       "\t<li>1</li>\n",
       "\t<li>1</li>\n",
       "\t<li>1</li>\n",
       "\t<li>1</li>\n",
       "\t<li>1</li>\n",
       "\t<li>1</li>\n",
       "\t<li>1</li>\n",
       "\t<li>1</li>\n",
       "\t<li>1</li>\n",
       "\t<li>1</li>\n",
       "\t<li>1</li>\n",
       "\t<li>1</li>\n",
       "\t<li>2</li>\n",
       "\t<li>1</li>\n",
       "\t<li>1</li>\n",
       "\t<li>1</li>\n",
       "\t<li>1</li>\n",
       "\t<li>2</li>\n",
       "\t<li>1</li>\n",
       "\t<li>1</li>\n",
       "\t<li>1</li>\n",
       "\t<li>1</li>\n",
       "\t<li>1</li>\n",
       "\t<li>2</li>\n",
       "\t<li>1</li>\n",
       "\t<li>1</li>\n",
       "\t<li>2</li>\n",
       "\t<li>1</li>\n",
       "\t<li>1</li>\n",
       "\t<li>1</li>\n",
       "\t<li>1</li>\n",
       "\t<li>1</li>\n",
       "\t<li>2</li>\n",
       "\t<li>1</li>\n",
       "\t<li>1</li>\n",
       "\t<li>1</li>\n",
       "\t<li>1</li>\n",
       "\t<li>1</li>\n",
       "\t<li>2</li>\n",
       "\t<li>1</li>\n",
       "\t<li>1</li>\n",
       "\t<li>1</li>\n",
       "\t<li>1</li>\n",
       "\t<li>1</li>\n",
       "\t<li>1</li>\n",
       "\t<li>1</li>\n",
       "\t<li>1</li>\n",
       "\t<li>1</li>\n",
       "\t<li>1</li>\n",
       "\t<li>1</li>\n",
       "\t<li>1</li>\n",
       "\t<li>1</li>\n",
       "\t<li>2</li>\n",
       "\t<li>1</li>\n",
       "\t<li>1</li>\n",
       "\t<li>1</li>\n",
       "\t<li>1</li>\n",
       "\t<li>1</li>\n",
       "\t<li>1</li>\n",
       "\t<li>1</li>\n",
       "\t<li>2</li>\n",
       "\t<li>2</li>\n",
       "\t<li>1</li>\n",
       "\t<li>1</li>\n",
       "\t<li>2</li>\n",
       "\t<li>1</li>\n",
       "\t<li>1</li>\n",
       "\t<li>1</li>\n",
       "\t<li>1</li>\n",
       "\t<li>2</li>\n",
       "\t<li>2</li>\n",
       "\t<li>1</li>\n",
       "\t<li>1</li>\n",
       "\t<li>1</li>\n",
       "\t<li>1</li>\n",
       "\t<li>1</li>\n",
       "\t<li>1</li>\n",
       "\t<li>1</li>\n",
       "\t<li>1</li>\n",
       "\t<li>1</li>\n",
       "\t<li>1</li>\n",
       "\t<li>1</li>\n",
       "\t<li>1</li>\n",
       "\t<li>1</li>\n",
       "\t<li>1</li>\n",
       "\t<li>1</li>\n",
       "\t<li>1</li>\n",
       "\t<li>1</li>\n",
       "\t<li>1</li>\n",
       "\t<li>1</li>\n",
       "\t<li>1</li>\n",
       "\t<li>1</li>\n",
       "\t<li>2</li>\n",
       "\t<li>1</li>\n",
       "\t<li>1</li>\n",
       "\t<li>1</li>\n",
       "\t<li>1</li>\n",
       "\t<li>1</li>\n",
       "</ol>\n"
      ],
      "text/latex": [
       "\\begin{enumerate}\n",
       "\\item 1\n",
       "\\item 2\n",
       "\\item 1\n",
       "\\item 1\n",
       "\\item 1\n",
       "\\item 2\n",
       "\\item 2\n",
       "\\item 1\n",
       "\\item 2\n",
       "\\item 1\n",
       "\\item 1\n",
       "\\item 1\n",
       "\\item 1\n",
       "\\item 1\n",
       "\\item 2\n",
       "\\item 1\n",
       "\\item 1\n",
       "\\item 1\n",
       "\\item 2\n",
       "\\item 1\n",
       "\\item 1\n",
       "\\item 1\n",
       "\\item 1\n",
       "\\item 1\n",
       "\\item 1\n",
       "\\item 1\n",
       "\\item 1\n",
       "\\item 1\n",
       "\\item 1\n",
       "\\item 1\n",
       "\\item 2\n",
       "\\item 1\n",
       "\\item 1\n",
       "\\item 1\n",
       "\\item 2\n",
       "\\item 1\n",
       "\\item 1\n",
       "\\item 1\n",
       "\\item 1\n",
       "\\item 2\n",
       "\\item 1\n",
       "\\item 1\n",
       "\\item 1\n",
       "\\item 1\n",
       "\\item 1\n",
       "\\item 1\n",
       "\\item 1\n",
       "\\item 1\n",
       "\\item 1\n",
       "\\item 1\n",
       "\\item 1\n",
       "\\item 2\n",
       "\\item 1\n",
       "\\item 1\n",
       "\\item 1\n",
       "\\item 1\n",
       "\\item 1\n",
       "\\item 1\n",
       "\\item 1\n",
       "\\item 1\n",
       "\\item 1\n",
       "\\item 1\n",
       "\\item 2\n",
       "\\item 1\n",
       "\\item 1\n",
       "\\item 1\n",
       "\\item 1\n",
       "\\item 1\n",
       "\\item 2\n",
       "\\item 1\n",
       "\\item 1\n",
       "\\item 1\n",
       "\\item 1\n",
       "\\item 2\n",
       "\\item 1\n",
       "\\item 1\n",
       "\\item 1\n",
       "\\item 1\n",
       "\\item 1\n",
       "\\item 1\n",
       "\\item 1\n",
       "\\item 1\n",
       "\\item 1\n",
       "\\item 1\n",
       "\\item 2\n",
       "\\item 1\n",
       "\\item 1\n",
       "\\item 1\n",
       "\\item 2\n",
       "\\item 1\n",
       "\\item 1\n",
       "\\item 1\n",
       "\\item 2\n",
       "\\item 1\n",
       "\\item 1\n",
       "\\item 1\n",
       "\\item 1\n",
       "\\item 1\n",
       "\\item 2\n",
       "\\item 1\n",
       "\\item 1\n",
       "\\item 1\n",
       "\\item 1\n",
       "\\item 1\n",
       "\\item 1\n",
       "\\item 1\n",
       "\\item 1\n",
       "\\item 1\n",
       "\\item 2\n",
       "\\item 1\n",
       "\\item 1\n",
       "\\item 1\n",
       "\\item 1\n",
       "\\item 1\n",
       "\\item 1\n",
       "\\item 1\n",
       "\\item 1\n",
       "\\item 1\n",
       "\\item 1\n",
       "\\item 1\n",
       "\\item 1\n",
       "\\item 1\n",
       "\\item 1\n",
       "\\item 1\n",
       "\\item 1\n",
       "\\item 1\n",
       "\\item 1\n",
       "\\item 1\n",
       "\\item 1\n",
       "\\item 2\n",
       "\\item 1\n",
       "\\item 1\n",
       "\\item 1\n",
       "\\item 1\n",
       "\\item 2\n",
       "\\item 1\n",
       "\\item 1\n",
       "\\item 1\n",
       "\\item 1\n",
       "\\item 1\n",
       "\\item 2\n",
       "\\item 1\n",
       "\\item 1\n",
       "\\item 2\n",
       "\\item 1\n",
       "\\item 1\n",
       "\\item 1\n",
       "\\item 1\n",
       "\\item 1\n",
       "\\item 2\n",
       "\\item 1\n",
       "\\item 1\n",
       "\\item 1\n",
       "\\item 1\n",
       "\\item 1\n",
       "\\item 2\n",
       "\\item 1\n",
       "\\item 1\n",
       "\\item 1\n",
       "\\item 1\n",
       "\\item 1\n",
       "\\item 1\n",
       "\\item 1\n",
       "\\item 1\n",
       "\\item 1\n",
       "\\item 1\n",
       "\\item 1\n",
       "\\item 1\n",
       "\\item 1\n",
       "\\item 2\n",
       "\\item 1\n",
       "\\item 1\n",
       "\\item 1\n",
       "\\item 1\n",
       "\\item 1\n",
       "\\item 1\n",
       "\\item 1\n",
       "\\item 2\n",
       "\\item 2\n",
       "\\item 1\n",
       "\\item 1\n",
       "\\item 2\n",
       "\\item 1\n",
       "\\item 1\n",
       "\\item 1\n",
       "\\item 1\n",
       "\\item 2\n",
       "\\item 2\n",
       "\\item 1\n",
       "\\item 1\n",
       "\\item 1\n",
       "\\item 1\n",
       "\\item 1\n",
       "\\item 1\n",
       "\\item 1\n",
       "\\item 1\n",
       "\\item 1\n",
       "\\item 1\n",
       "\\item 1\n",
       "\\item 1\n",
       "\\item 1\n",
       "\\item 1\n",
       "\\item 1\n",
       "\\item 1\n",
       "\\item 1\n",
       "\\item 1\n",
       "\\item 1\n",
       "\\item 1\n",
       "\\item 1\n",
       "\\item 2\n",
       "\\item 1\n",
       "\\item 1\n",
       "\\item 1\n",
       "\\item 1\n",
       "\\item 1\n",
       "\\end{enumerate}\n"
      ],
      "text/markdown": [
       "1. 1\n",
       "2. 2\n",
       "3. 1\n",
       "4. 1\n",
       "5. 1\n",
       "6. 2\n",
       "7. 2\n",
       "8. 1\n",
       "9. 2\n",
       "10. 1\n",
       "11. 1\n",
       "12. 1\n",
       "13. 1\n",
       "14. 1\n",
       "15. 2\n",
       "16. 1\n",
       "17. 1\n",
       "18. 1\n",
       "19. 2\n",
       "20. 1\n",
       "21. 1\n",
       "22. 1\n",
       "23. 1\n",
       "24. 1\n",
       "25. 1\n",
       "26. 1\n",
       "27. 1\n",
       "28. 1\n",
       "29. 1\n",
       "30. 1\n",
       "31. 2\n",
       "32. 1\n",
       "33. 1\n",
       "34. 1\n",
       "35. 2\n",
       "36. 1\n",
       "37. 1\n",
       "38. 1\n",
       "39. 1\n",
       "40. 2\n",
       "41. 1\n",
       "42. 1\n",
       "43. 1\n",
       "44. 1\n",
       "45. 1\n",
       "46. 1\n",
       "47. 1\n",
       "48. 1\n",
       "49. 1\n",
       "50. 1\n",
       "51. 1\n",
       "52. 2\n",
       "53. 1\n",
       "54. 1\n",
       "55. 1\n",
       "56. 1\n",
       "57. 1\n",
       "58. 1\n",
       "59. 1\n",
       "60. 1\n",
       "61. 1\n",
       "62. 1\n",
       "63. 2\n",
       "64. 1\n",
       "65. 1\n",
       "66. 1\n",
       "67. 1\n",
       "68. 1\n",
       "69. 2\n",
       "70. 1\n",
       "71. 1\n",
       "72. 1\n",
       "73. 1\n",
       "74. 2\n",
       "75. 1\n",
       "76. 1\n",
       "77. 1\n",
       "78. 1\n",
       "79. 1\n",
       "80. 1\n",
       "81. 1\n",
       "82. 1\n",
       "83. 1\n",
       "84. 1\n",
       "85. 2\n",
       "86. 1\n",
       "87. 1\n",
       "88. 1\n",
       "89. 2\n",
       "90. 1\n",
       "91. 1\n",
       "92. 1\n",
       "93. 2\n",
       "94. 1\n",
       "95. 1\n",
       "96. 1\n",
       "97. 1\n",
       "98. 1\n",
       "99. 2\n",
       "100. 1\n",
       "101. 1\n",
       "102. 1\n",
       "103. 1\n",
       "104. 1\n",
       "105. 1\n",
       "106. 1\n",
       "107. 1\n",
       "108. 1\n",
       "109. 2\n",
       "110. 1\n",
       "111. 1\n",
       "112. 1\n",
       "113. 1\n",
       "114. 1\n",
       "115. 1\n",
       "116. 1\n",
       "117. 1\n",
       "118. 1\n",
       "119. 1\n",
       "120. 1\n",
       "121. 1\n",
       "122. 1\n",
       "123. 1\n",
       "124. 1\n",
       "125. 1\n",
       "126. 1\n",
       "127. 1\n",
       "128. 1\n",
       "129. 1\n",
       "130. 2\n",
       "131. 1\n",
       "132. 1\n",
       "133. 1\n",
       "134. 1\n",
       "135. 2\n",
       "136. 1\n",
       "137. 1\n",
       "138. 1\n",
       "139. 1\n",
       "140. 1\n",
       "141. 2\n",
       "142. 1\n",
       "143. 1\n",
       "144. 2\n",
       "145. 1\n",
       "146. 1\n",
       "147. 1\n",
       "148. 1\n",
       "149. 1\n",
       "150. 2\n",
       "151. 1\n",
       "152. 1\n",
       "153. 1\n",
       "154. 1\n",
       "155. 1\n",
       "156. 2\n",
       "157. 1\n",
       "158. 1\n",
       "159. 1\n",
       "160. 1\n",
       "161. 1\n",
       "162. 1\n",
       "163. 1\n",
       "164. 1\n",
       "165. 1\n",
       "166. 1\n",
       "167. 1\n",
       "168. 1\n",
       "169. 1\n",
       "170. 2\n",
       "171. 1\n",
       "172. 1\n",
       "173. 1\n",
       "174. 1\n",
       "175. 1\n",
       "176. 1\n",
       "177. 1\n",
       "178. 2\n",
       "179. 2\n",
       "180. 1\n",
       "181. 1\n",
       "182. 2\n",
       "183. 1\n",
       "184. 1\n",
       "185. 1\n",
       "186. 1\n",
       "187. 2\n",
       "188. 2\n",
       "189. 1\n",
       "190. 1\n",
       "191. 1\n",
       "192. 1\n",
       "193. 1\n",
       "194. 1\n",
       "195. 1\n",
       "196. 1\n",
       "197. 1\n",
       "198. 1\n",
       "199. 1\n",
       "200. 1\n",
       "201. 1\n",
       "202. 1\n",
       "203. 1\n",
       "204. 1\n",
       "205. 1\n",
       "206. 1\n",
       "207. 1\n",
       "208. 1\n",
       "209. 1\n",
       "210. 2\n",
       "211. 1\n",
       "212. 1\n",
       "213. 1\n",
       "214. 1\n",
       "215. 1\n",
       "\n",
       "\n"
      ],
      "text/plain": [
       "[[1]]\n",
       "[1] 1\n",
       "\n",
       "[[2]]\n",
       "[1] 2\n",
       "\n",
       "[[3]]\n",
       "[1] 1\n",
       "\n",
       "[[4]]\n",
       "[1] 1\n",
       "\n",
       "[[5]]\n",
       "[1] 1\n",
       "\n",
       "[[6]]\n",
       "[1] 2\n",
       "\n",
       "[[7]]\n",
       "[1] 2\n",
       "\n",
       "[[8]]\n",
       "[1] 1\n",
       "\n",
       "[[9]]\n",
       "[1] 2\n",
       "\n",
       "[[10]]\n",
       "[1] 1\n",
       "\n",
       "[[11]]\n",
       "[1] 1\n",
       "\n",
       "[[12]]\n",
       "[1] 1\n",
       "\n",
       "[[13]]\n",
       "[1] 1\n",
       "\n",
       "[[14]]\n",
       "[1] 1\n",
       "\n",
       "[[15]]\n",
       "[1] 2\n",
       "\n",
       "[[16]]\n",
       "[1] 1\n",
       "\n",
       "[[17]]\n",
       "[1] 1\n",
       "\n",
       "[[18]]\n",
       "[1] 1\n",
       "\n",
       "[[19]]\n",
       "[1] 2\n",
       "\n",
       "[[20]]\n",
       "[1] 1\n",
       "\n",
       "[[21]]\n",
       "[1] 1\n",
       "\n",
       "[[22]]\n",
       "[1] 1\n",
       "\n",
       "[[23]]\n",
       "[1] 1\n",
       "\n",
       "[[24]]\n",
       "[1] 1\n",
       "\n",
       "[[25]]\n",
       "[1] 1\n",
       "\n",
       "[[26]]\n",
       "[1] 1\n",
       "\n",
       "[[27]]\n",
       "[1] 1\n",
       "\n",
       "[[28]]\n",
       "[1] 1\n",
       "\n",
       "[[29]]\n",
       "[1] 1\n",
       "\n",
       "[[30]]\n",
       "[1] 1\n",
       "\n",
       "[[31]]\n",
       "[1] 2\n",
       "\n",
       "[[32]]\n",
       "[1] 1\n",
       "\n",
       "[[33]]\n",
       "[1] 1\n",
       "\n",
       "[[34]]\n",
       "[1] 1\n",
       "\n",
       "[[35]]\n",
       "[1] 2\n",
       "\n",
       "[[36]]\n",
       "[1] 1\n",
       "\n",
       "[[37]]\n",
       "[1] 1\n",
       "\n",
       "[[38]]\n",
       "[1] 1\n",
       "\n",
       "[[39]]\n",
       "[1] 1\n",
       "\n",
       "[[40]]\n",
       "[1] 2\n",
       "\n",
       "[[41]]\n",
       "[1] 1\n",
       "\n",
       "[[42]]\n",
       "[1] 1\n",
       "\n",
       "[[43]]\n",
       "[1] 1\n",
       "\n",
       "[[44]]\n",
       "[1] 1\n",
       "\n",
       "[[45]]\n",
       "[1] 1\n",
       "\n",
       "[[46]]\n",
       "[1] 1\n",
       "\n",
       "[[47]]\n",
       "[1] 1\n",
       "\n",
       "[[48]]\n",
       "[1] 1\n",
       "\n",
       "[[49]]\n",
       "[1] 1\n",
       "\n",
       "[[50]]\n",
       "[1] 1\n",
       "\n",
       "[[51]]\n",
       "[1] 1\n",
       "\n",
       "[[52]]\n",
       "[1] 2\n",
       "\n",
       "[[53]]\n",
       "[1] 1\n",
       "\n",
       "[[54]]\n",
       "[1] 1\n",
       "\n",
       "[[55]]\n",
       "[1] 1\n",
       "\n",
       "[[56]]\n",
       "[1] 1\n",
       "\n",
       "[[57]]\n",
       "[1] 1\n",
       "\n",
       "[[58]]\n",
       "[1] 1\n",
       "\n",
       "[[59]]\n",
       "[1] 1\n",
       "\n",
       "[[60]]\n",
       "[1] 1\n",
       "\n",
       "[[61]]\n",
       "[1] 1\n",
       "\n",
       "[[62]]\n",
       "[1] 1\n",
       "\n",
       "[[63]]\n",
       "[1] 2\n",
       "\n",
       "[[64]]\n",
       "[1] 1\n",
       "\n",
       "[[65]]\n",
       "[1] 1\n",
       "\n",
       "[[66]]\n",
       "[1] 1\n",
       "\n",
       "[[67]]\n",
       "[1] 1\n",
       "\n",
       "[[68]]\n",
       "[1] 1\n",
       "\n",
       "[[69]]\n",
       "[1] 2\n",
       "\n",
       "[[70]]\n",
       "[1] 1\n",
       "\n",
       "[[71]]\n",
       "[1] 1\n",
       "\n",
       "[[72]]\n",
       "[1] 1\n",
       "\n",
       "[[73]]\n",
       "[1] 1\n",
       "\n",
       "[[74]]\n",
       "[1] 2\n",
       "\n",
       "[[75]]\n",
       "[1] 1\n",
       "\n",
       "[[76]]\n",
       "[1] 1\n",
       "\n",
       "[[77]]\n",
       "[1] 1\n",
       "\n",
       "[[78]]\n",
       "[1] 1\n",
       "\n",
       "[[79]]\n",
       "[1] 1\n",
       "\n",
       "[[80]]\n",
       "[1] 1\n",
       "\n",
       "[[81]]\n",
       "[1] 1\n",
       "\n",
       "[[82]]\n",
       "[1] 1\n",
       "\n",
       "[[83]]\n",
       "[1] 1\n",
       "\n",
       "[[84]]\n",
       "[1] 1\n",
       "\n",
       "[[85]]\n",
       "[1] 2\n",
       "\n",
       "[[86]]\n",
       "[1] 1\n",
       "\n",
       "[[87]]\n",
       "[1] 1\n",
       "\n",
       "[[88]]\n",
       "[1] 1\n",
       "\n",
       "[[89]]\n",
       "[1] 2\n",
       "\n",
       "[[90]]\n",
       "[1] 1\n",
       "\n",
       "[[91]]\n",
       "[1] 1\n",
       "\n",
       "[[92]]\n",
       "[1] 1\n",
       "\n",
       "[[93]]\n",
       "[1] 2\n",
       "\n",
       "[[94]]\n",
       "[1] 1\n",
       "\n",
       "[[95]]\n",
       "[1] 1\n",
       "\n",
       "[[96]]\n",
       "[1] 1\n",
       "\n",
       "[[97]]\n",
       "[1] 1\n",
       "\n",
       "[[98]]\n",
       "[1] 1\n",
       "\n",
       "[[99]]\n",
       "[1] 2\n",
       "\n",
       "[[100]]\n",
       "[1] 1\n",
       "\n",
       "[[101]]\n",
       "[1] 1\n",
       "\n",
       "[[102]]\n",
       "[1] 1\n",
       "\n",
       "[[103]]\n",
       "[1] 1\n",
       "\n",
       "[[104]]\n",
       "[1] 1\n",
       "\n",
       "[[105]]\n",
       "[1] 1\n",
       "\n",
       "[[106]]\n",
       "[1] 1\n",
       "\n",
       "[[107]]\n",
       "[1] 1\n",
       "\n",
       "[[108]]\n",
       "[1] 1\n",
       "\n",
       "[[109]]\n",
       "[1] 2\n",
       "\n",
       "[[110]]\n",
       "[1] 1\n",
       "\n",
       "[[111]]\n",
       "[1] 1\n",
       "\n",
       "[[112]]\n",
       "[1] 1\n",
       "\n",
       "[[113]]\n",
       "[1] 1\n",
       "\n",
       "[[114]]\n",
       "[1] 1\n",
       "\n",
       "[[115]]\n",
       "[1] 1\n",
       "\n",
       "[[116]]\n",
       "[1] 1\n",
       "\n",
       "[[117]]\n",
       "[1] 1\n",
       "\n",
       "[[118]]\n",
       "[1] 1\n",
       "\n",
       "[[119]]\n",
       "[1] 1\n",
       "\n",
       "[[120]]\n",
       "[1] 1\n",
       "\n",
       "[[121]]\n",
       "[1] 1\n",
       "\n",
       "[[122]]\n",
       "[1] 1\n",
       "\n",
       "[[123]]\n",
       "[1] 1\n",
       "\n",
       "[[124]]\n",
       "[1] 1\n",
       "\n",
       "[[125]]\n",
       "[1] 1\n",
       "\n",
       "[[126]]\n",
       "[1] 1\n",
       "\n",
       "[[127]]\n",
       "[1] 1\n",
       "\n",
       "[[128]]\n",
       "[1] 1\n",
       "\n",
       "[[129]]\n",
       "[1] 1\n",
       "\n",
       "[[130]]\n",
       "[1] 2\n",
       "\n",
       "[[131]]\n",
       "[1] 1\n",
       "\n",
       "[[132]]\n",
       "[1] 1\n",
       "\n",
       "[[133]]\n",
       "[1] 1\n",
       "\n",
       "[[134]]\n",
       "[1] 1\n",
       "\n",
       "[[135]]\n",
       "[1] 2\n",
       "\n",
       "[[136]]\n",
       "[1] 1\n",
       "\n",
       "[[137]]\n",
       "[1] 1\n",
       "\n",
       "[[138]]\n",
       "[1] 1\n",
       "\n",
       "[[139]]\n",
       "[1] 1\n",
       "\n",
       "[[140]]\n",
       "[1] 1\n",
       "\n",
       "[[141]]\n",
       "[1] 2\n",
       "\n",
       "[[142]]\n",
       "[1] 1\n",
       "\n",
       "[[143]]\n",
       "[1] 1\n",
       "\n",
       "[[144]]\n",
       "[1] 2\n",
       "\n",
       "[[145]]\n",
       "[1] 1\n",
       "\n",
       "[[146]]\n",
       "[1] 1\n",
       "\n",
       "[[147]]\n",
       "[1] 1\n",
       "\n",
       "[[148]]\n",
       "[1] 1\n",
       "\n",
       "[[149]]\n",
       "[1] 1\n",
       "\n",
       "[[150]]\n",
       "[1] 2\n",
       "\n",
       "[[151]]\n",
       "[1] 1\n",
       "\n",
       "[[152]]\n",
       "[1] 1\n",
       "\n",
       "[[153]]\n",
       "[1] 1\n",
       "\n",
       "[[154]]\n",
       "[1] 1\n",
       "\n",
       "[[155]]\n",
       "[1] 1\n",
       "\n",
       "[[156]]\n",
       "[1] 2\n",
       "\n",
       "[[157]]\n",
       "[1] 1\n",
       "\n",
       "[[158]]\n",
       "[1] 1\n",
       "\n",
       "[[159]]\n",
       "[1] 1\n",
       "\n",
       "[[160]]\n",
       "[1] 1\n",
       "\n",
       "[[161]]\n",
       "[1] 1\n",
       "\n",
       "[[162]]\n",
       "[1] 1\n",
       "\n",
       "[[163]]\n",
       "[1] 1\n",
       "\n",
       "[[164]]\n",
       "[1] 1\n",
       "\n",
       "[[165]]\n",
       "[1] 1\n",
       "\n",
       "[[166]]\n",
       "[1] 1\n",
       "\n",
       "[[167]]\n",
       "[1] 1\n",
       "\n",
       "[[168]]\n",
       "[1] 1\n",
       "\n",
       "[[169]]\n",
       "[1] 1\n",
       "\n",
       "[[170]]\n",
       "[1] 2\n",
       "\n",
       "[[171]]\n",
       "[1] 1\n",
       "\n",
       "[[172]]\n",
       "[1] 1\n",
       "\n",
       "[[173]]\n",
       "[1] 1\n",
       "\n",
       "[[174]]\n",
       "[1] 1\n",
       "\n",
       "[[175]]\n",
       "[1] 1\n",
       "\n",
       "[[176]]\n",
       "[1] 1\n",
       "\n",
       "[[177]]\n",
       "[1] 1\n",
       "\n",
       "[[178]]\n",
       "[1] 2\n",
       "\n",
       "[[179]]\n",
       "[1] 2\n",
       "\n",
       "[[180]]\n",
       "[1] 1\n",
       "\n",
       "[[181]]\n",
       "[1] 1\n",
       "\n",
       "[[182]]\n",
       "[1] 2\n",
       "\n",
       "[[183]]\n",
       "[1] 1\n",
       "\n",
       "[[184]]\n",
       "[1] 1\n",
       "\n",
       "[[185]]\n",
       "[1] 1\n",
       "\n",
       "[[186]]\n",
       "[1] 1\n",
       "\n",
       "[[187]]\n",
       "[1] 2\n",
       "\n",
       "[[188]]\n",
       "[1] 2\n",
       "\n",
       "[[189]]\n",
       "[1] 1\n",
       "\n",
       "[[190]]\n",
       "[1] 1\n",
       "\n",
       "[[191]]\n",
       "[1] 1\n",
       "\n",
       "[[192]]\n",
       "[1] 1\n",
       "\n",
       "[[193]]\n",
       "[1] 1\n",
       "\n",
       "[[194]]\n",
       "[1] 1\n",
       "\n",
       "[[195]]\n",
       "[1] 1\n",
       "\n",
       "[[196]]\n",
       "[1] 1\n",
       "\n",
       "[[197]]\n",
       "[1] 1\n",
       "\n",
       "[[198]]\n",
       "[1] 1\n",
       "\n",
       "[[199]]\n",
       "[1] 1\n",
       "\n",
       "[[200]]\n",
       "[1] 1\n",
       "\n",
       "[[201]]\n",
       "[1] 1\n",
       "\n",
       "[[202]]\n",
       "[1] 1\n",
       "\n",
       "[[203]]\n",
       "[1] 1\n",
       "\n",
       "[[204]]\n",
       "[1] 1\n",
       "\n",
       "[[205]]\n",
       "[1] 1\n",
       "\n",
       "[[206]]\n",
       "[1] 1\n",
       "\n",
       "[[207]]\n",
       "[1] 1\n",
       "\n",
       "[[208]]\n",
       "[1] 1\n",
       "\n",
       "[[209]]\n",
       "[1] 1\n",
       "\n",
       "[[210]]\n",
       "[1] 2\n",
       "\n",
       "[[211]]\n",
       "[1] 1\n",
       "\n",
       "[[212]]\n",
       "[1] 1\n",
       "\n",
       "[[213]]\n",
       "[1] 1\n",
       "\n",
       "[[214]]\n",
       "[1] 1\n",
       "\n",
       "[[215]]\n",
       "[1] 1\n"
      ]
     },
     "metadata": {},
     "output_type": "display_data"
    }
   ],
   "source": [
    "ind\n",
    "df_in<-as.list(ind)\n",
    "df_in"
   ]
  },
  {
   "cell_type": "raw",
   "id": "0d64cd72",
   "metadata": {},
   "source": [
    "saveRDS(df_in, file=\"indices2.RData\")"
   ]
  },
  {
   "cell_type": "raw",
   "id": "71b522ef",
   "metadata": {},
   "source": [
    "#saveRDS(df_in, file=\"indices4.RData\")"
   ]
  },
  {
   "cell_type": "raw",
   "id": "a732008b",
   "metadata": {},
   "source": [
    "#saveRDS(df_in, file=\"indices.RData\")"
   ]
  },
  {
   "cell_type": "raw",
   "id": "6af94988",
   "metadata": {},
   "source": [
    "#saveRDS(df_in, file=\"indices3.RData\")"
   ]
  },
  {
   "cell_type": "markdown",
   "id": "f8d01e9f",
   "metadata": {},
   "source": [
    "## Better Performing Model"
   ]
  },
  {
   "cell_type": "markdown",
   "id": "58e7a65a",
   "metadata": {},
   "source": [
    "<li> Getting Better performing Random sampled data "
   ]
  },
  {
   "cell_type": "code",
   "execution_count": 151,
   "id": "777b4308",
   "metadata": {
    "scrolled": true
   },
   "outputs": [
    {
     "data": {
      "text/html": [
       "'list'"
      ],
      "text/latex": [
       "'list'"
      ],
      "text/markdown": [
       "'list'"
      ],
      "text/plain": [
       "[1] \"list\""
      ]
     },
     "metadata": {},
     "output_type": "display_data"
    }
   ],
   "source": [
    "inds<-readRDS(\"indices2.RData\") \n",
    "class(inds)"
   ]
  },
  {
   "cell_type": "code",
   "execution_count": 152,
   "id": "3b30c882",
   "metadata": {},
   "outputs": [],
   "source": [
    "train_ne<-df[unlist(inds)==1,]\n",
    "test_ne<-df[unlist(inds)==2,]"
   ]
  },
  {
   "cell_type": "code",
   "execution_count": 153,
   "id": "a0464249",
   "metadata": {
    "scrolled": true
   },
   "outputs": [
    {
     "data": {
      "text/plain": [
       "\n",
       "================================== Naive Bayes ================================== \n",
       " \n",
       " Call: \n",
       "naive_bayes.formula(formula = status ~ ., data = train_ne, tuneGrid = grid)\n",
       "\n",
       "--------------------------------------------------------------------------------- \n",
       " \n",
       "Laplace smoothing: 0\n",
       "\n",
       "--------------------------------------------------------------------------------- \n",
       " \n",
       " A priori probabilities: \n",
       "\n",
       "Not Placed     Placed \n",
       "  0.298913   0.701087 \n",
       "\n",
       "--------------------------------------------------------------------------------- \n",
       " \n",
       " Tables: \n",
       "\n",
       "--------------------------------------------------------------------------------- \n",
       " ::: gender (Bernoulli) \n",
       "--------------------------------------------------------------------------------- \n",
       "      \n",
       "gender Not Placed    Placed\n",
       "     F  0.4363636 0.3178295\n",
       "     M  0.5636364 0.6821705\n",
       "\n",
       "--------------------------------------------------------------------------------- \n",
       " ::: ssc_p (Gaussian) \n",
       "--------------------------------------------------------------------------------- \n",
       "      \n",
       "ssc_p  Not Placed    Placed\n",
       "  mean  57.705818 71.796977\n",
       "  sd     8.613851  8.885900\n",
       "\n",
       "--------------------------------------------------------------------------------- \n",
       " ::: ssc_b (Bernoulli) \n",
       "--------------------------------------------------------------------------------- \n",
       "         \n",
       "ssc_b     Not Placed    Placed\n",
       "  Central  0.5636364 0.4883721\n",
       "  Others   0.4363636 0.5116279\n",
       "\n",
       "--------------------------------------------------------------------------------- \n",
       " ::: hsc_p (Gaussian) \n",
       "--------------------------------------------------------------------------------- \n",
       "      \n",
       "hsc_p  Not Placed    Placed\n",
       "  mean  58.949636 69.390543\n",
       "  sd     9.970942  8.932920\n",
       "\n",
       "--------------------------------------------------------------------------------- \n",
       " ::: hsc_b (Bernoulli) \n",
       "--------------------------------------------------------------------------------- \n",
       "         \n",
       "hsc_b     Not Placed    Placed\n",
       "  Central  0.3818182 0.3798450\n",
       "  Others   0.6181818 0.6201550\n",
       "\n",
       "---------------------------------------------------------------------------------\n",
       "\n",
       "# ... and 7 more tables\n",
       "\n",
       "---------------------------------------------------------------------------------\n"
      ]
     },
     "metadata": {},
     "output_type": "display_data"
    }
   ],
   "source": [
    "#set.seed(120)  # Setting Seed\n",
    "grid <- data.frame(fL=c(0,0.5,1.0), usekernel = TRUE, adjust=c(0,0.5,1.0))\n",
    "classifier_ne <- naive_bayes(status ~ ., data =train_ne, tuneGrid=grid)\n",
    "classifier_ne"
   ]
  },
  {
   "cell_type": "code",
   "execution_count": 154,
   "id": "d0a6c49f",
   "metadata": {},
   "outputs": [
    {
     "data": {
      "image/png": "[encoded data removed]",
      "text/plain": [
       "Plot with title \"\""
      ]
     },
     "metadata": {
      "image/png": {
       "height": 420,
       "width": 420
      }
     },
     "output_type": "display_data"
    },
    {
     "data": {
      "image/png": "[encoded data removed]",
      "text/plain": [
       "plot without title"
      ]
     },
     "metadata": {
      "image/png": {
       "height": 420,
       "width": 420
      }
     },
     "output_type": "display_data"
    },
    {
     "data": {
      "image/png": "[encoded data removed]",
      "text/plain": [
       "Plot with title \"\""
      ]
     },
     "metadata": {
      "image/png": {
       "height": 420,
       "width": 420
      }
     },
     "output_type": "display_data"
    },
    {
     "data": {
      "image/png": "[encoded data removed]",
      "text/plain": [
       "plot without title"
      ]
     },
     "metadata": {
      "image/png": {
       "height": 420,
       "width": 420
      }
     },
     "output_type": "display_data"
    },
    {
     "data": {
      "image/png": "[encoded data removed]",
      "text/plain": [
       "Plot with title \"\""
      ]
     },
     "metadata": {
      "image/png": {
       "height": 420,
       "width": 420
      }
     },
     "output_type": "display_data"
    },
    {
     "data": {
      "image/png": "[encoded data removed]",
      "text/plain": [
       "Plot with title \"\""
      ]
     },
     "metadata": {
      "image/png": {
       "height": 420,
       "width": 420
      }
     },
     "output_type": "display_data"
    },
    {
     "data": {
      "image/png": "[encoded data removed]",
      "text/plain": [
       "plot without title"
      ]
     },
     "metadata": {
      "image/png": {
       "height": 420,
       "width": 420
      }
     },
     "output_type": "display_data"
    },
    {
     "data": {
      "image/png": "[encoded data removed]",
      "text/plain": [
       "Plot with title \"\""
      ]
     },
     "metadata": {
      "image/png": {
       "height": 420,
       "width": 420
      }
     },
     "output_type": "display_data"
    },
    {
     "data": {
      "image/png": "[encoded data removed]",
      "text/plain": [
       "Plot with title \"\""
      ]
     },
     "metadata": {
      "image/png": {
       "height": 420,
       "width": 420
      }
     },
     "output_type": "display_data"
    },
    {
     "data": {
      "image/png": "[encoded data removed]",
      "text/plain": [
       "plot without title"
      ]
     },
     "metadata": {
      "image/png": {
       "height": 420,
       "width": 420
      }
     },
     "output_type": "display_data"
    },
    {
     "data": {
      "image/png": "[encoded data removed]",
      "text/plain": [
       "Plot with title \"\""
      ]
     },
     "metadata": {
      "image/png": {
       "height": 420,
       "width": 420
      }
     },
     "output_type": "display_data"
    },
    {
     "data": {
      "image/png": "[encoded data removed]",
      "text/plain": [
       "plot without title"
      ]
     },
     "metadata": {
      "image/png": {
       "height": 420,
       "width": 420
      }
     },
     "output_type": "display_data"
    }
   ],
   "source": [
    "plot(classifier_ne)"
   ]
  },
  {
   "cell_type": "markdown",
   "id": "710cae1c",
   "metadata": {},
   "source": [
    "## Model Validation"
   ]
  },
  {
   "cell_type": "code",
   "execution_count": 155,
   "id": "7df76c60",
   "metadata": {
    "scrolled": false
   },
   "outputs": [
    {
     "data": {
      "text/html": [
       "<style>\n",
       ".list-inline {list-style: none; margin:0; padding: 0}\n",
       ".list-inline>li {display: inline-block}\n",
       ".list-inline>li:not(:last-child)::after {content: \"\\00b7\"; padding: 0 .5ex}\n",
       "</style>\n",
       "<ol class=list-inline><li>Placed</li><li>Placed</li><li>Not Placed</li><li>Placed</li><li>Placed</li><li>Not Placed</li><li>Not Placed</li><li>Placed</li><li>Not Placed</li><li>Placed</li><li>Placed</li><li>Placed</li><li>Not Placed</li><li>Placed</li><li>Placed</li><li>Placed</li><li>Placed</li><li>Placed</li><li>Placed</li><li>Not Placed</li><li>Placed</li><li>Placed</li><li>Placed</li><li>Not Placed</li><li>Not Placed</li><li>Placed</li><li>Placed</li><li>Placed</li><li>Not Placed</li><li>Placed</li><li>Placed</li><li>Placed</li><li>Placed</li><li>Not Placed</li><li>Placed</li><li>Placed</li><li>Placed</li><li>Placed</li><li>Placed</li><li>Placed</li><li>Not Placed</li><li>Placed</li><li>Not Placed</li><li>Placed</li><li>Placed</li><li>Not Placed</li><li>Placed</li><li>Placed</li><li>Placed</li><li>Placed</li><li>Placed</li><li>Placed</li><li>Placed</li><li>Placed</li><li>Not Placed</li><li>Placed</li><li>Placed</li><li>Placed</li><li>Placed</li><li>Placed</li><li>Placed</li><li>Placed</li><li>Placed</li><li>Placed</li><li>Placed</li><li>Placed</li><li>Placed</li><li>Placed</li><li>Placed</li><li>Placed</li><li>Placed</li><li>Placed</li><li>Placed</li><li>Not Placed</li><li>Placed</li><li>Placed</li><li>Not Placed</li><li>Not Placed</li><li>Not Placed</li><li>Placed</li><li>Placed</li><li>Placed</li><li>Placed</li><li>Not Placed</li><li>Placed</li><li>Placed</li><li>Placed</li><li>Placed</li><li>Not Placed</li><li>Not Placed</li><li>Placed</li><li>Not Placed</li><li>Placed</li><li>Not Placed</li><li>Not Placed</li><li>Placed</li><li>Placed</li><li>Placed</li><li>Placed</li><li>Placed</li><li>Placed</li><li>Placed</li><li>Not Placed</li><li>Placed</li><li>Placed</li><li>Placed</li><li>Placed</li><li>Placed</li><li>Placed</li><li>Placed</li><li>Placed</li><li>Not Placed</li><li>Placed</li><li>Placed</li><li>Placed</li><li>Placed</li><li>Not Placed</li><li>Placed</li><li>Placed</li><li>Placed</li><li>Not Placed</li><li>Placed</li><li>Not Placed</li><li>Placed</li><li>Not Placed</li><li>Placed</li><li>Placed</li><li>Placed</li><li>Placed</li><li>Placed</li><li>Not Placed</li><li>Not Placed</li><li>Placed</li><li>Placed</li><li>Placed</li><li>Not Placed</li><li>Placed</li><li>Not Placed</li><li>Placed</li><li>Placed</li><li>Placed</li><li>Placed</li><li>Placed</li><li>Placed</li><li>Not Placed</li><li>Not Placed</li><li>Placed</li><li>Not Placed</li><li>Not Placed</li><li>Placed</li><li>Placed</li><li>Not Placed</li><li>Placed</li><li>Placed</li><li>Not Placed</li><li>Placed</li><li>Not Placed</li><li>Placed</li><li>Not Placed</li><li>Placed</li><li>Placed</li><li>Placed</li><li>Placed</li><li>Not Placed</li><li>Not Placed</li><li>Placed</li><li>Placed</li><li>Placed</li><li>Placed</li><li>Not Placed</li><li>Placed</li><li>Not Placed</li><li>Placed</li><li>Not Placed</li><li>Placed</li><li>Placed</li><li>Not Placed</li><li>Placed</li><li>Not Placed</li><li>Placed</li><li>Placed</li><li>Placed</li><li>Placed</li><li>Not Placed</li></ol>\n",
       "\n",
       "<details>\n",
       "\t<summary style=display:list-item;cursor:pointer>\n",
       "\t\t<strong>Levels</strong>:\n",
       "\t</summary>\n",
       "\t<style>\n",
       "\t.list-inline {list-style: none; margin:0; padding: 0}\n",
       "\t.list-inline>li {display: inline-block}\n",
       "\t.list-inline>li:not(:last-child)::after {content: \"\\00b7\"; padding: 0 .5ex}\n",
       "\t</style>\n",
       "\t<ol class=list-inline><li>'Not Placed'</li><li>'Placed'</li></ol>\n",
       "</details>"
      ],
      "text/latex": [
       "\\begin{enumerate*}\n",
       "\\item Placed\n",
       "\\item Placed\n",
       "\\item Not Placed\n",
       "\\item Placed\n",
       "\\item Placed\n",
       "\\item Not Placed\n",
       "\\item Not Placed\n",
       "\\item Placed\n",
       "\\item Not Placed\n",
       "\\item Placed\n",
       "\\item Placed\n",
       "\\item Placed\n",
       "\\item Not Placed\n",
       "\\item Placed\n",
       "\\item Placed\n",
       "\\item Placed\n",
       "\\item Placed\n",
       "\\item Placed\n",
       "\\item Placed\n",
       "\\item Not Placed\n",
       "\\item Placed\n",
       "\\item Placed\n",
       "\\item Placed\n",
       "\\item Not Placed\n",
       "\\item Not Placed\n",
       "\\item Placed\n",
       "\\item Placed\n",
       "\\item Placed\n",
       "\\item Not Placed\n",
       "\\item Placed\n",
       "\\item Placed\n",
       "\\item Placed\n",
       "\\item Placed\n",
       "\\item Not Placed\n",
       "\\item Placed\n",
       "\\item Placed\n",
       "\\item Placed\n",
       "\\item Placed\n",
       "\\item Placed\n",
       "\\item Placed\n",
       "\\item Not Placed\n",
       "\\item Placed\n",
       "\\item Not Placed\n",
       "\\item Placed\n",
       "\\item Placed\n",
       "\\item Not Placed\n",
       "\\item Placed\n",
       "\\item Placed\n",
       "\\item Placed\n",
       "\\item Placed\n",
       "\\item Placed\n",
       "\\item Placed\n",
       "\\item Placed\n",
       "\\item Placed\n",
       "\\item Not Placed\n",
       "\\item Placed\n",
       "\\item Placed\n",
       "\\item Placed\n",
       "\\item Placed\n",
       "\\item Placed\n",
       "\\item Placed\n",
       "\\item Placed\n",
       "\\item Placed\n",
       "\\item Placed\n",
       "\\item Placed\n",
       "\\item Placed\n",
       "\\item Placed\n",
       "\\item Placed\n",
       "\\item Placed\n",
       "\\item Placed\n",
       "\\item Placed\n",
       "\\item Placed\n",
       "\\item Placed\n",
       "\\item Not Placed\n",
       "\\item Placed\n",
       "\\item Placed\n",
       "\\item Not Placed\n",
       "\\item Not Placed\n",
       "\\item Not Placed\n",
       "\\item Placed\n",
       "\\item Placed\n",
       "\\item Placed\n",
       "\\item Placed\n",
       "\\item Not Placed\n",
       "\\item Placed\n",
       "\\item Placed\n",
       "\\item Placed\n",
       "\\item Placed\n",
       "\\item Not Placed\n",
       "\\item Not Placed\n",
       "\\item Placed\n",
       "\\item Not Placed\n",
       "\\item Placed\n",
       "\\item Not Placed\n",
       "\\item Not Placed\n",
       "\\item Placed\n",
       "\\item Placed\n",
       "\\item Placed\n",
       "\\item Placed\n",
       "\\item Placed\n",
       "\\item Placed\n",
       "\\item Placed\n",
       "\\item Not Placed\n",
       "\\item Placed\n",
       "\\item Placed\n",
       "\\item Placed\n",
       "\\item Placed\n",
       "\\item Placed\n",
       "\\item Placed\n",
       "\\item Placed\n",
       "\\item Placed\n",
       "\\item Not Placed\n",
       "\\item Placed\n",
       "\\item Placed\n",
       "\\item Placed\n",
       "\\item Placed\n",
       "\\item Not Placed\n",
       "\\item Placed\n",
       "\\item Placed\n",
       "\\item Placed\n",
       "\\item Not Placed\n",
       "\\item Placed\n",
       "\\item Not Placed\n",
       "\\item Placed\n",
       "\\item Not Placed\n",
       "\\item Placed\n",
       "\\item Placed\n",
       "\\item Placed\n",
       "\\item Placed\n",
       "\\item Placed\n",
       "\\item Not Placed\n",
       "\\item Not Placed\n",
       "\\item Placed\n",
       "\\item Placed\n",
       "\\item Placed\n",
       "\\item Not Placed\n",
       "\\item Placed\n",
       "\\item Not Placed\n",
       "\\item Placed\n",
       "\\item Placed\n",
       "\\item Placed\n",
       "\\item Placed\n",
       "\\item Placed\n",
       "\\item Placed\n",
       "\\item Not Placed\n",
       "\\item Not Placed\n",
       "\\item Placed\n",
       "\\item Not Placed\n",
       "\\item Not Placed\n",
       "\\item Placed\n",
       "\\item Placed\n",
       "\\item Not Placed\n",
       "\\item Placed\n",
       "\\item Placed\n",
       "\\item Not Placed\n",
       "\\item Placed\n",
       "\\item Not Placed\n",
       "\\item Placed\n",
       "\\item Not Placed\n",
       "\\item Placed\n",
       "\\item Placed\n",
       "\\item Placed\n",
       "\\item Placed\n",
       "\\item Not Placed\n",
       "\\item Not Placed\n",
       "\\item Placed\n",
       "\\item Placed\n",
       "\\item Placed\n",
       "\\item Placed\n",
       "\\item Not Placed\n",
       "\\item Placed\n",
       "\\item Not Placed\n",
       "\\item Placed\n",
       "\\item Not Placed\n",
       "\\item Placed\n",
       "\\item Placed\n",
       "\\item Not Placed\n",
       "\\item Placed\n",
       "\\item Not Placed\n",
       "\\item Placed\n",
       "\\item Placed\n",
       "\\item Placed\n",
       "\\item Placed\n",
       "\\item Not Placed\n",
       "\\end{enumerate*}\n",
       "\n",
       "\\emph{Levels}: \\begin{enumerate*}\n",
       "\\item 'Not Placed'\n",
       "\\item 'Placed'\n",
       "\\end{enumerate*}\n"
      ],
      "text/markdown": [
       "1. Placed\n",
       "2. Placed\n",
       "3. Not Placed\n",
       "4. Placed\n",
       "5. Placed\n",
       "6. Not Placed\n",
       "7. Not Placed\n",
       "8. Placed\n",
       "9. Not Placed\n",
       "10. Placed\n",
       "11. Placed\n",
       "12. Placed\n",
       "13. Not Placed\n",
       "14. Placed\n",
       "15. Placed\n",
       "16. Placed\n",
       "17. Placed\n",
       "18. Placed\n",
       "19. Placed\n",
       "20. Not Placed\n",
       "21. Placed\n",
       "22. Placed\n",
       "23. Placed\n",
       "24. Not Placed\n",
       "25. Not Placed\n",
       "26. Placed\n",
       "27. Placed\n",
       "28. Placed\n",
       "29. Not Placed\n",
       "30. Placed\n",
       "31. Placed\n",
       "32. Placed\n",
       "33. Placed\n",
       "34. Not Placed\n",
       "35. Placed\n",
       "36. Placed\n",
       "37. Placed\n",
       "38. Placed\n",
       "39. Placed\n",
       "40. Placed\n",
       "41. Not Placed\n",
       "42. Placed\n",
       "43. Not Placed\n",
       "44. Placed\n",
       "45. Placed\n",
       "46. Not Placed\n",
       "47. Placed\n",
       "48. Placed\n",
       "49. Placed\n",
       "50. Placed\n",
       "51. Placed\n",
       "52. Placed\n",
       "53. Placed\n",
       "54. Placed\n",
       "55. Not Placed\n",
       "56. Placed\n",
       "57. Placed\n",
       "58. Placed\n",
       "59. Placed\n",
       "60. Placed\n",
       "61. Placed\n",
       "62. Placed\n",
       "63. Placed\n",
       "64. Placed\n",
       "65. Placed\n",
       "66. Placed\n",
       "67. Placed\n",
       "68. Placed\n",
       "69. Placed\n",
       "70. Placed\n",
       "71. Placed\n",
       "72. Placed\n",
       "73. Placed\n",
       "74. Not Placed\n",
       "75. Placed\n",
       "76. Placed\n",
       "77. Not Placed\n",
       "78. Not Placed\n",
       "79. Not Placed\n",
       "80. Placed\n",
       "81. Placed\n",
       "82. Placed\n",
       "83. Placed\n",
       "84. Not Placed\n",
       "85. Placed\n",
       "86. Placed\n",
       "87. Placed\n",
       "88. Placed\n",
       "89. Not Placed\n",
       "90. Not Placed\n",
       "91. Placed\n",
       "92. Not Placed\n",
       "93. Placed\n",
       "94. Not Placed\n",
       "95. Not Placed\n",
       "96. Placed\n",
       "97. Placed\n",
       "98. Placed\n",
       "99. Placed\n",
       "100. Placed\n",
       "101. Placed\n",
       "102. Placed\n",
       "103. Not Placed\n",
       "104. Placed\n",
       "105. Placed\n",
       "106. Placed\n",
       "107. Placed\n",
       "108. Placed\n",
       "109. Placed\n",
       "110. Placed\n",
       "111. Placed\n",
       "112. Not Placed\n",
       "113. Placed\n",
       "114. Placed\n",
       "115. Placed\n",
       "116. Placed\n",
       "117. Not Placed\n",
       "118. Placed\n",
       "119. Placed\n",
       "120. Placed\n",
       "121. Not Placed\n",
       "122. Placed\n",
       "123. Not Placed\n",
       "124. Placed\n",
       "125. Not Placed\n",
       "126. Placed\n",
       "127. Placed\n",
       "128. Placed\n",
       "129. Placed\n",
       "130. Placed\n",
       "131. Not Placed\n",
       "132. Not Placed\n",
       "133. Placed\n",
       "134. Placed\n",
       "135. Placed\n",
       "136. Not Placed\n",
       "137. Placed\n",
       "138. Not Placed\n",
       "139. Placed\n",
       "140. Placed\n",
       "141. Placed\n",
       "142. Placed\n",
       "143. Placed\n",
       "144. Placed\n",
       "145. Not Placed\n",
       "146. Not Placed\n",
       "147. Placed\n",
       "148. Not Placed\n",
       "149. Not Placed\n",
       "150. Placed\n",
       "151. Placed\n",
       "152. Not Placed\n",
       "153. Placed\n",
       "154. Placed\n",
       "155. Not Placed\n",
       "156. Placed\n",
       "157. Not Placed\n",
       "158. Placed\n",
       "159. Not Placed\n",
       "160. Placed\n",
       "161. Placed\n",
       "162. Placed\n",
       "163. Placed\n",
       "164. Not Placed\n",
       "165. Not Placed\n",
       "166. Placed\n",
       "167. Placed\n",
       "168. Placed\n",
       "169. Placed\n",
       "170. Not Placed\n",
       "171. Placed\n",
       "172. Not Placed\n",
       "173. Placed\n",
       "174. Not Placed\n",
       "175. Placed\n",
       "176. Placed\n",
       "177. Not Placed\n",
       "178. Placed\n",
       "179. Not Placed\n",
       "180. Placed\n",
       "181. Placed\n",
       "182. Placed\n",
       "183. Placed\n",
       "184. Not Placed\n",
       "\n",
       "\n",
       "\n",
       "**Levels**: 1. 'Not Placed'\n",
       "2. 'Placed'\n",
       "\n",
       "\n"
      ],
      "text/plain": [
       "  [1] Placed     Placed     Not Placed Placed     Placed     Not Placed\n",
       "  [7] Not Placed Placed     Not Placed Placed     Placed     Placed    \n",
       " [13] Not Placed Placed     Placed     Placed     Placed     Placed    \n",
       " [19] Placed     Not Placed Placed     Placed     Placed     Not Placed\n",
       " [25] Not Placed Placed     Placed     Placed     Not Placed Placed    \n",
       " [31] Placed     Placed     Placed     Not Placed Placed     Placed    \n",
       " [37] Placed     Placed     Placed     Placed     Not Placed Placed    \n",
       " [43] Not Placed Placed     Placed     Not Placed Placed     Placed    \n",
       " [49] Placed     Placed     Placed     Placed     Placed     Placed    \n",
       " [55] Not Placed Placed     Placed     Placed     Placed     Placed    \n",
       " [61] Placed     Placed     Placed     Placed     Placed     Placed    \n",
       " [67] Placed     Placed     Placed     Placed     Placed     Placed    \n",
       " [73] Placed     Not Placed Placed     Placed     Not Placed Not Placed\n",
       " [79] Not Placed Placed     Placed     Placed     Placed     Not Placed\n",
       " [85] Placed     Placed     Placed     Placed     Not Placed Not Placed\n",
       " [91] Placed     Not Placed Placed     Not Placed Not Placed Placed    \n",
       " [97] Placed     Placed     Placed     Placed     Placed     Placed    \n",
       "[103] Not Placed Placed     Placed     Placed     Placed     Placed    \n",
       "[109] Placed     Placed     Placed     Not Placed Placed     Placed    \n",
       "[115] Placed     Placed     Not Placed Placed     Placed     Placed    \n",
       "[121] Not Placed Placed     Not Placed Placed     Not Placed Placed    \n",
       "[127] Placed     Placed     Placed     Placed     Not Placed Not Placed\n",
       "[133] Placed     Placed     Placed     Not Placed Placed     Not Placed\n",
       "[139] Placed     Placed     Placed     Placed     Placed     Placed    \n",
       "[145] Not Placed Not Placed Placed     Not Placed Not Placed Placed    \n",
       "[151] Placed     Not Placed Placed     Placed     Not Placed Placed    \n",
       "[157] Not Placed Placed     Not Placed Placed     Placed     Placed    \n",
       "[163] Placed     Not Placed Not Placed Placed     Placed     Placed    \n",
       "[169] Placed     Not Placed Placed     Not Placed Placed     Not Placed\n",
       "[175] Placed     Placed     Not Placed Placed     Not Placed Placed    \n",
       "[181] Placed     Placed     Placed     Not Placed\n",
       "Levels: Not Placed Placed"
      ]
     },
     "metadata": {},
     "output_type": "display_data"
    }
   ],
   "source": [
    "y_pred_ne<- predict(classifier_ne, newdata = train_ne,interval = 'confidence')\n",
    "y_pred_ne"
   ]
  },
  {
   "cell_type": "code",
   "execution_count": 156,
   "id": "614d1fa6",
   "metadata": {
    "scrolled": false
   },
   "outputs": [
    {
     "data": {
      "text/plain": [
       "            y_pred_ne\n",
       "             Not Placed Placed\n",
       "  Not Placed         38     17\n",
       "  Placed             12    117"
      ]
     },
     "metadata": {},
     "output_type": "display_data"
    },
    {
     "data": {
      "image/png": "[encoded data removed]",
      "text/plain": [
       "plot without title"
      ]
     },
     "metadata": {
      "image/png": {
       "height": 420,
       "width": 420
      }
     },
     "output_type": "display_data"
    }
   ],
   "source": [
    "cm <- table(train_ne$status, y_pred_ne)\n",
    "cm\n",
    "fourfoldplot(cm, color = c(\"pink\", \"skyblue\"),conf.level = 0, margin = 2, main = \"Confusion Matrix\")"
   ]
  },
  {
   "cell_type": "code",
   "execution_count": 157,
   "id": "c1da75c3",
   "metadata": {
    "scrolled": false
   },
   "outputs": [
    {
     "name": "stdout",
     "output_type": "stream",
     "text": [
      "Accuracy: 84.23913\n",
      "Recall: 87.31343\n",
      "Precision: 90.69767\n",
      "F1_Score: 88.97338"
     ]
    }
   ],
   "source": [
    "cat('Accuracy:',accuracy(train_ne$status, y_pred_ne))#<-sum(diag(cm))/nrow(test_cl)*100\n",
    "cat('\\nRecall:',recall(train_ne$status, y_pred_ne))\n",
    "cat('\\nPrecision:',precision(train_ne$status, y_pred_ne))\n",
    "cat('\\nF1_Score:',f1_score(train_ne$status, y_pred_ne))"
   ]
  },
  {
   "cell_type": "markdown",
   "id": "b98a5565",
   "metadata": {},
   "source": [
    "## Performance Testing \n",
    "<Strong>Possible Performance metrics for classification problem are</Strong><br>\n",
    "<li>Confusion Matrix\n",
    "<li>Accuracy score\n",
    "<li>F1score (balances the precision and recall)\n",
    "<li>Log loss\n",
    "<li>ROC curve\n",
    "<li>ROC-AUC score(Area Under Curve in ROC Graph)"
   ]
  },
  {
   "cell_type": "code",
   "execution_count": 158,
   "id": "aaaae87a",
   "metadata": {
    "scrolled": true
   },
   "outputs": [
    {
     "data": {
      "text/html": [
       "<style>\n",
       ".list-inline {list-style: none; margin:0; padding: 0}\n",
       ".list-inline>li {display: inline-block}\n",
       ".list-inline>li:not(:last-child)::after {content: \"\\00b7\"; padding: 0 .5ex}\n",
       "</style>\n",
       "<ol class=list-inline><li>Placed</li><li>Not Placed</li><li>Not Placed</li><li>Placed</li><li>Not Placed</li><li>Not Placed</li><li>Placed</li><li>Not Placed</li><li>Placed</li><li>Not Placed</li><li>Placed</li><li>Not Placed</li><li>Placed</li><li>Placed</li><li>Placed</li><li>Placed</li><li>Placed</li><li>Placed</li><li>Placed</li><li>Placed</li><li>Placed</li><li>Placed</li><li>Not Placed</li><li>Not Placed</li><li>Not Placed</li><li>Placed</li><li>Placed</li><li>Not Placed</li><li>Not Placed</li><li>Placed</li><li>Placed</li></ol>\n",
       "\n",
       "<details>\n",
       "\t<summary style=display:list-item;cursor:pointer>\n",
       "\t\t<strong>Levels</strong>:\n",
       "\t</summary>\n",
       "\t<style>\n",
       "\t.list-inline {list-style: none; margin:0; padding: 0}\n",
       "\t.list-inline>li {display: inline-block}\n",
       "\t.list-inline>li:not(:last-child)::after {content: \"\\00b7\"; padding: 0 .5ex}\n",
       "\t</style>\n",
       "\t<ol class=list-inline><li>'Not Placed'</li><li>'Placed'</li></ol>\n",
       "</details>"
      ],
      "text/latex": [
       "\\begin{enumerate*}\n",
       "\\item Placed\n",
       "\\item Not Placed\n",
       "\\item Not Placed\n",
       "\\item Placed\n",
       "\\item Not Placed\n",
       "\\item Not Placed\n",
       "\\item Placed\n",
       "\\item Not Placed\n",
       "\\item Placed\n",
       "\\item Not Placed\n",
       "\\item Placed\n",
       "\\item Not Placed\n",
       "\\item Placed\n",
       "\\item Placed\n",
       "\\item Placed\n",
       "\\item Placed\n",
       "\\item Placed\n",
       "\\item Placed\n",
       "\\item Placed\n",
       "\\item Placed\n",
       "\\item Placed\n",
       "\\item Placed\n",
       "\\item Not Placed\n",
       "\\item Not Placed\n",
       "\\item Not Placed\n",
       "\\item Placed\n",
       "\\item Placed\n",
       "\\item Not Placed\n",
       "\\item Not Placed\n",
       "\\item Placed\n",
       "\\item Placed\n",
       "\\end{enumerate*}\n",
       "\n",
       "\\emph{Levels}: \\begin{enumerate*}\n",
       "\\item 'Not Placed'\n",
       "\\item 'Placed'\n",
       "\\end{enumerate*}\n"
      ],
      "text/markdown": [
       "1. Placed\n",
       "2. Not Placed\n",
       "3. Not Placed\n",
       "4. Placed\n",
       "5. Not Placed\n",
       "6. Not Placed\n",
       "7. Placed\n",
       "8. Not Placed\n",
       "9. Placed\n",
       "10. Not Placed\n",
       "11. Placed\n",
       "12. Not Placed\n",
       "13. Placed\n",
       "14. Placed\n",
       "15. Placed\n",
       "16. Placed\n",
       "17. Placed\n",
       "18. Placed\n",
       "19. Placed\n",
       "20. Placed\n",
       "21. Placed\n",
       "22. Placed\n",
       "23. Not Placed\n",
       "24. Not Placed\n",
       "25. Not Placed\n",
       "26. Placed\n",
       "27. Placed\n",
       "28. Not Placed\n",
       "29. Not Placed\n",
       "30. Placed\n",
       "31. Placed\n",
       "\n",
       "\n",
       "\n",
       "**Levels**: 1. 'Not Placed'\n",
       "2. 'Placed'\n",
       "\n",
       "\n"
      ],
      "text/plain": [
       " [1] Placed     Not Placed Not Placed Placed     Not Placed Not Placed\n",
       " [7] Placed     Not Placed Placed     Not Placed Placed     Not Placed\n",
       "[13] Placed     Placed     Placed     Placed     Placed     Placed    \n",
       "[19] Placed     Placed     Placed     Placed     Not Placed Not Placed\n",
       "[25] Not Placed Placed     Placed     Not Placed Not Placed Placed    \n",
       "[31] Placed    \n",
       "Levels: Not Placed Placed"
      ]
     },
     "metadata": {},
     "output_type": "display_data"
    }
   ],
   "source": [
    "y_pred_ne<- predict(classifier_ne, newdata = test_ne,interval = 'confidence')\n",
    "y_pred_ne"
   ]
  },
  {
   "cell_type": "code",
   "execution_count": 159,
   "id": "188b5326",
   "metadata": {
    "scrolled": true
   },
   "outputs": [
    {
     "data": {
      "text/html": [
       "<table class=\"dataframe\">\n",
       "<caption>A matrix: 31 × 2 of type dbl</caption>\n",
       "<thead>\n",
       "\t<tr><th scope=col>Not Placed</th><th scope=col>Placed</th></tr>\n",
       "</thead>\n",
       "<tbody>\n",
       "\t<tr><td>4.269575e-05</td><td>0.999957304</td></tr>\n",
       "\t<tr><td>6.448427e-01</td><td>0.355157315</td></tr>\n",
       "\t<tr><td>7.961829e-01</td><td>0.203817141</td></tr>\n",
       "\t<tr><td>2.855769e-03</td><td>0.997144231</td></tr>\n",
       "\t<tr><td>9.933962e-01</td><td>0.006603803</td></tr>\n",
       "\t<tr><td>6.871686e-01</td><td>0.312831396</td></tr>\n",
       "\t<tr><td>1.200553e-01</td><td>0.879944742</td></tr>\n",
       "\t<tr><td>9.922527e-01</td><td>0.007747293</td></tr>\n",
       "\t<tr><td>6.683030e-03</td><td>0.993316970</td></tr>\n",
       "\t<tr><td>9.754326e-01</td><td>0.024567376</td></tr>\n",
       "\t<tr><td>5.516106e-03</td><td>0.994483894</td></tr>\n",
       "\t<tr><td>5.467083e-01</td><td>0.453291712</td></tr>\n",
       "\t<tr><td>1.214169e-02</td><td>0.987858311</td></tr>\n",
       "\t<tr><td>1.283342e-02</td><td>0.987166582</td></tr>\n",
       "\t<tr><td>2.302398e-01</td><td>0.769760240</td></tr>\n",
       "\t<tr><td>4.543097e-01</td><td>0.545690317</td></tr>\n",
       "\t<tr><td>1.175024e-01</td><td>0.882497648</td></tr>\n",
       "\t<tr><td>5.186157e-02</td><td>0.948138431</td></tr>\n",
       "\t<tr><td>4.049527e-04</td><td>0.999595047</td></tr>\n",
       "\t<tr><td>1.261236e-04</td><td>0.999873876</td></tr>\n",
       "\t<tr><td>2.973614e-02</td><td>0.970263859</td></tr>\n",
       "\t<tr><td>5.114781e-03</td><td>0.994885219</td></tr>\n",
       "\t<tr><td>9.927574e-01</td><td>0.007242561</td></tr>\n",
       "\t<tr><td>5.286048e-01</td><td>0.471395170</td></tr>\n",
       "\t<tr><td>9.885113e-01</td><td>0.011488677</td></tr>\n",
       "\t<tr><td>3.935877e-05</td><td>0.999960641</td></tr>\n",
       "\t<tr><td>3.520275e-01</td><td>0.647972492</td></tr>\n",
       "\t<tr><td>7.786920e-01</td><td>0.221307951</td></tr>\n",
       "\t<tr><td>9.370159e-01</td><td>0.062984148</td></tr>\n",
       "\t<tr><td>1.791307e-03</td><td>0.998208693</td></tr>\n",
       "\t<tr><td>2.503904e-01</td><td>0.749609646</td></tr>\n",
       "</tbody>\n",
       "</table>\n"
      ],
      "text/latex": [
       "A matrix: 31 × 2 of type dbl\n",
       "\\begin{tabular}{ll}\n",
       " Not Placed & Placed\\\\\n",
       "\\hline\n",
       "\t 4.269575e-05 & 0.999957304\\\\\n",
       "\t 6.448427e-01 & 0.355157315\\\\\n",
       "\t 7.961829e-01 & 0.203817141\\\\\n",
       "\t 2.855769e-03 & 0.997144231\\\\\n",
       "\t 9.933962e-01 & 0.006603803\\\\\n",
       "\t 6.871686e-01 & 0.312831396\\\\\n",
       "\t 1.200553e-01 & 0.879944742\\\\\n",
       "\t 9.922527e-01 & 0.007747293\\\\\n",
       "\t 6.683030e-03 & 0.993316970\\\\\n",
       "\t 9.754326e-01 & 0.024567376\\\\\n",
       "\t 5.516106e-03 & 0.994483894\\\\\n",
       "\t 5.467083e-01 & 0.453291712\\\\\n",
       "\t 1.214169e-02 & 0.987858311\\\\\n",
       "\t 1.283342e-02 & 0.987166582\\\\\n",
       "\t 2.302398e-01 & 0.769760240\\\\\n",
       "\t 4.543097e-01 & 0.545690317\\\\\n",
       "\t 1.175024e-01 & 0.882497648\\\\\n",
       "\t 5.186157e-02 & 0.948138431\\\\\n",
       "\t 4.049527e-04 & 0.999595047\\\\\n",
       "\t 1.261236e-04 & 0.999873876\\\\\n",
       "\t 2.973614e-02 & 0.970263859\\\\\n",
       "\t 5.114781e-03 & 0.994885219\\\\\n",
       "\t 9.927574e-01 & 0.007242561\\\\\n",
       "\t 5.286048e-01 & 0.471395170\\\\\n",
       "\t 9.885113e-01 & 0.011488677\\\\\n",
       "\t 3.935877e-05 & 0.999960641\\\\\n",
       "\t 3.520275e-01 & 0.647972492\\\\\n",
       "\t 7.786920e-01 & 0.221307951\\\\\n",
       "\t 9.370159e-01 & 0.062984148\\\\\n",
       "\t 1.791307e-03 & 0.998208693\\\\\n",
       "\t 2.503904e-01 & 0.749609646\\\\\n",
       "\\end{tabular}\n"
      ],
      "text/markdown": [
       "\n",
       "A matrix: 31 × 2 of type dbl\n",
       "\n",
       "| Not Placed | Placed |\n",
       "|---|---|\n",
       "| 4.269575e-05 | 0.999957304 |\n",
       "| 6.448427e-01 | 0.355157315 |\n",
       "| 7.961829e-01 | 0.203817141 |\n",
       "| 2.855769e-03 | 0.997144231 |\n",
       "| 9.933962e-01 | 0.006603803 |\n",
       "| 6.871686e-01 | 0.312831396 |\n",
       "| 1.200553e-01 | 0.879944742 |\n",
       "| 9.922527e-01 | 0.007747293 |\n",
       "| 6.683030e-03 | 0.993316970 |\n",
       "| 9.754326e-01 | 0.024567376 |\n",
       "| 5.516106e-03 | 0.994483894 |\n",
       "| 5.467083e-01 | 0.453291712 |\n",
       "| 1.214169e-02 | 0.987858311 |\n",
       "| 1.283342e-02 | 0.987166582 |\n",
       "| 2.302398e-01 | 0.769760240 |\n",
       "| 4.543097e-01 | 0.545690317 |\n",
       "| 1.175024e-01 | 0.882497648 |\n",
       "| 5.186157e-02 | 0.948138431 |\n",
       "| 4.049527e-04 | 0.999595047 |\n",
       "| 1.261236e-04 | 0.999873876 |\n",
       "| 2.973614e-02 | 0.970263859 |\n",
       "| 5.114781e-03 | 0.994885219 |\n",
       "| 9.927574e-01 | 0.007242561 |\n",
       "| 5.286048e-01 | 0.471395170 |\n",
       "| 9.885113e-01 | 0.011488677 |\n",
       "| 3.935877e-05 | 0.999960641 |\n",
       "| 3.520275e-01 | 0.647972492 |\n",
       "| 7.786920e-01 | 0.221307951 |\n",
       "| 9.370159e-01 | 0.062984148 |\n",
       "| 1.791307e-03 | 0.998208693 |\n",
       "| 2.503904e-01 | 0.749609646 |\n",
       "\n"
      ],
      "text/plain": [
       "      Not Placed   Placed     \n",
       " [1,] 4.269575e-05 0.999957304\n",
       " [2,] 6.448427e-01 0.355157315\n",
       " [3,] 7.961829e-01 0.203817141\n",
       " [4,] 2.855769e-03 0.997144231\n",
       " [5,] 9.933962e-01 0.006603803\n",
       " [6,] 6.871686e-01 0.312831396\n",
       " [7,] 1.200553e-01 0.879944742\n",
       " [8,] 9.922527e-01 0.007747293\n",
       " [9,] 6.683030e-03 0.993316970\n",
       "[10,] 9.754326e-01 0.024567376\n",
       "[11,] 5.516106e-03 0.994483894\n",
       "[12,] 5.467083e-01 0.453291712\n",
       "[13,] 1.214169e-02 0.987858311\n",
       "[14,] 1.283342e-02 0.987166582\n",
       "[15,] 2.302398e-01 0.769760240\n",
       "[16,] 4.543097e-01 0.545690317\n",
       "[17,] 1.175024e-01 0.882497648\n",
       "[18,] 5.186157e-02 0.948138431\n",
       "[19,] 4.049527e-04 0.999595047\n",
       "[20,] 1.261236e-04 0.999873876\n",
       "[21,] 2.973614e-02 0.970263859\n",
       "[22,] 5.114781e-03 0.994885219\n",
       "[23,] 9.927574e-01 0.007242561\n",
       "[24,] 5.286048e-01 0.471395170\n",
       "[25,] 9.885113e-01 0.011488677\n",
       "[26,] 3.935877e-05 0.999960641\n",
       "[27,] 3.520275e-01 0.647972492\n",
       "[28,] 7.786920e-01 0.221307951\n",
       "[29,] 9.370159e-01 0.062984148\n",
       "[30,] 1.791307e-03 0.998208693\n",
       "[31,] 2.503904e-01 0.749609646"
      ]
     },
     "metadata": {},
     "output_type": "display_data"
    }
   ],
   "source": [
    "# Predicting probs\n",
    "y_pred_prbs<- predict(classifier_ne, newdata = test_ne,type = \"prob\",interval = 'confidence')\n",
    "y_pred_prbs"
   ]
  },
  {
   "cell_type": "markdown",
   "id": "5de8bc3b",
   "metadata": {},
   "source": [
    "<h3>Confusion Matrix</h3><br>\n",
    "<li>A confusion matrix is a technique for summarizing the performance of a classification algorithm\n",
    "<li>It is a table with 4 different combinations of predicted and actual values.\n",
    "<img src=\"cnfmar.png\">"
   ]
  },
  {
   "cell_type": "code",
   "execution_count": 160,
   "id": "d3cf5a37",
   "metadata": {
    "scrolled": false
   },
   "outputs": [
    {
     "data": {
      "text/plain": [
       "            Predicted\n",
       "             Not Placed Placed\n",
       "  Not Placed         12      0\n",
       "  Placed              0     19"
      ]
     },
     "metadata": {},
     "output_type": "display_data"
    },
    {
     "data": {
      "image/png": "[encoded data removed]",
      "text/plain": [
       "plot without title"
      ]
     },
     "metadata": {
      "image/png": {
       "height": 420,
       "width": 420
      }
     },
     "output_type": "display_data"
    }
   ],
   "source": [
    "Predicted<-y_pred_ne\n",
    "cm <- table(test_ne$status, Predicted)\n",
    "cm\n",
    "fourfoldplot(cm, color = c(\"pink\", \"skyblue\"),conf.level = 0, margin = 2, main = \"Confusion Matrix\")"
   ]
  },
  {
   "cell_type": "markdown",
   "id": "0be4319b",
   "metadata": {},
   "source": [
    "<h3>Accuracy Score</h3><br>\n",
    "<li>In multilabel classification, this function computes subset accuracy: the set of labels predicted for a sample must exactly match the corresponding set of labels in y_true.\n",
    "<li><b>It ranges from 0 to 1, where 0 is Worst and 1 is Best</b>\n",
    " <li>Its is often multipled with 100 to get accuracy percentage.\n",
    "\n",
    "<h3>Precision, Recall, and F-1 Score</h3><br>\n",
    "<ul>\n",
    "<li>Precision is the fraction of the correctly classified instances from the total classified instances. \n",
    " <li>Recall is the fraction of the correctly classified instances from the total classified instances.\n",
    " <li>Its is often multipled with 100 to get percentage.\n",
    "   \n",
    "<li>Precision and recall are given as follows\n",
    "</ul>\n",
    "<img src=\"precision.png\"><img src=\"recall.png\"><br>\n",
    "<li>The F1 score can be interpreted as a weighted average of the precision and recall.\n",
    "<li><b> F1 score reaches its best value at 1 and worst score at 0.</b> \n",
    "    <li>Its is often multipled with 100 to get percentage.<br>\n",
    "<img src=\"fscore.png\">"
   ]
  },
  {
   "cell_type": "code",
   "execution_count": 161,
   "id": "4b60f943",
   "metadata": {
    "scrolled": false
   },
   "outputs": [
    {
     "name": "stdout",
     "output_type": "stream",
     "text": [
      "Accuracy: 100\n",
      "Recall: 100\n",
      "Precision: 100\n",
      "F1_Score: 100"
     ]
    }
   ],
   "source": [
    "cat('Accuracy:',accuracy(test_ne$status, y_pred_ne))#<-sum(diag(cm))/nrow(test_cl)*100\n",
    "cat('\\nRecall:',recall(test_ne$status, y_pred_ne))\n",
    "cat('\\nPrecision:',precision(test_ne$status, y_pred_ne))\n",
    "cat('\\nF1_Score:',f1_score(test_ne$status, y_pred_ne))"
   ]
  },
  {
   "cell_type": "markdown",
   "id": "cfe93018",
   "metadata": {},
   "source": [
    "### Validation metrics"
   ]
  },
  {
   "cell_type": "code",
   "execution_count": 162,
   "id": "25b5502b",
   "metadata": {
    "scrolled": false
   },
   "outputs": [
    {
     "data": {
      "text/plain": [
       "Confusion Matrix and Statistics\n",
       "\n",
       "            Predicted\n",
       "             Not Placed Placed\n",
       "  Not Placed         12      0\n",
       "  Placed              0     19\n",
       "                                     \n",
       "               Accuracy : 1          \n",
       "                 95% CI : (0.8878, 1)\n",
       "    No Information Rate : 0.6129     \n",
       "    P-Value [Acc > NIR] : 2.565e-07  \n",
       "                                     \n",
       "                  Kappa : 1          \n",
       "                                     \n",
       " Mcnemar's Test P-Value : NA         \n",
       "                                     \n",
       "            Sensitivity : 1.0000     \n",
       "            Specificity : 1.0000     \n",
       "         Pos Pred Value : 1.0000     \n",
       "         Neg Pred Value : 1.0000     \n",
       "             Prevalence : 0.6129     \n",
       "         Detection Rate : 0.6129     \n",
       "   Detection Prevalence : 0.6129     \n",
       "      Balanced Accuracy : 1.0000     \n",
       "                                     \n",
       "       'Positive' Class : Placed     \n",
       "                                     "
      ]
     },
     "metadata": {},
     "output_type": "display_data"
    }
   ],
   "source": [
    "confusionMatrix(cm, positive = \"Placed\")"
   ]
  },
  {
   "cell_type": "markdown",
   "id": "31bf3a29",
   "metadata": {},
   "source": [
    "<h3>Log loss</h3><br>\n",
    "<li>Logarithmic loss (or log loss) measures the performance of a classification model where the prediction is a probability value between 0 and 1.\n",
    "<li>Log loss increases as the predicted probability diverge from the actual label.\n",
    "    <br><br><center><b>Lower the log-loss value, better are the predictions of the model.</b></center>\n",
    "<img src=\"logloss.png\">"
   ]
  },
  {
   "cell_type": "code",
   "execution_count": 163,
   "id": "064ed1f1",
   "metadata": {
    "scrolled": true
   },
   "outputs": [
    {
     "name": "stdout",
     "output_type": "stream",
     "text": [
      "LogLoss : 0.1493578"
     ]
    }
   ],
   "source": [
    "cat('LogLoss :',LogLoss(predict(classifier_ne, newdata = test_ne,type = \"prob\",interval = 'confidence')[,2],lbl$fit_transform(test_ne$status)))"
   ]
  },
  {
   "cell_type": "markdown",
   "id": "6d701220",
   "metadata": {},
   "source": [
    "<h3>ROC AUC score</h3><br>\n",
    "<li>Tt is used to find Area Under Curve(AUC) in ROC graph.\n",
    "<li><b>It ranges from 0 to 1, where 0 is Worst and 1 is Best</b>"
   ]
  },
  {
   "cell_type": "code",
   "execution_count": 164,
   "id": "be35fd93",
   "metadata": {
    "scrolled": false
   },
   "outputs": [
    {
     "name": "stderr",
     "output_type": "stream",
     "text": [
      "Setting levels: control = 1, case = 2\n",
      "\n",
      "Setting direction: controls < cases\n",
      "\n"
     ]
    },
    {
     "name": "stdout",
     "output_type": "stream",
     "text": [
      "Roc_Auc_Score : 1"
     ]
    }
   ],
   "source": [
    "cat('Roc_Auc_Score :',auc(as.numeric(test_ne$status), as.numeric(y_pred_ne)))"
   ]
  },
  {
   "cell_type": "markdown",
   "id": "ca7ca4b2",
   "metadata": {},
   "source": [
    "### Plotting ROC curve for Specificity  VS Sensitivity\n"
   ]
  },
  {
   "cell_type": "markdown",
   "id": "6f7d9284",
   "metadata": {},
   "source": [
    "<li>ROC=Compute Receiver Operating Characteristic."
   ]
  },
  {
   "cell_type": "code",
   "execution_count": 165,
   "id": "0c5c96cb",
   "metadata": {
    "scrolled": true
   },
   "outputs": [
    {
     "name": "stderr",
     "output_type": "stream",
     "text": [
      "Setting levels: control = 1, case = 2\n",
      "\n",
      "Setting direction: controls < cases\n",
      "\n"
     ]
    },
    {
     "data": {
      "image/png": "[encoded data removed]",
      "text/plain": [
       "plot without title"
      ]
     },
     "metadata": {
      "image/png": {
       "height": 420,
       "width": 420
      }
     },
     "output_type": "display_data"
    }
   ],
   "source": [
    "pROC_obj <- roc(as.numeric(test_ne$status), as.numeric(y_pred_ne),\n",
    "            smoothed = TRUE,\n",
    "            # arguments for ci\n",
    "            ci=TRUE, ci.alpha=0.9, stratified=TRUE,\n",
    "            # arguments for plot\n",
    "            plot=TRUE, auc.polygon=TRUE, max.auc.polygon=TRUE, grid=TRUE,\n",
    "            print.auc=TRUE, show.thres=TRUE)\n",
    "sens.ci <- ci.se(pROC_obj)\n",
    "plot(sens.ci, type=\"shape\", col=\"lightblue\")\n",
    "plot(sens.ci, type=\"bars\")\n"
   ]
  },
  {
   "cell_type": "markdown",
   "id": "ae34e9b3",
   "metadata": {},
   "source": [
    "## Model Deployment"
   ]
  },
  {
   "cell_type": "code",
   "execution_count": 166,
   "id": "609bdb27",
   "metadata": {},
   "outputs": [],
   "source": [
    "saveRDS(classifier_ne, file = \"StudentPlacementPredModel.RData\")\n",
    "write.csv(df,\"preprocessed.csv\", row.names = TRUE)"
   ]
  },
  {
   "cell_type": "markdown",
   "id": "a51a6e90",
   "metadata": {},
   "source": [
    "<h1>Results</h1><br>\n",
    "<table style=\"font-size:14px;text-align:center;height:2px;\">\n",
    "<tr >\n",
    "    <th style='border: 1px solid black'>Validation metric</th>\n",
    "    <th style='border: 1px solid black'>Train_size</th>  \n",
    "    <th style='border: 1px solid black'>Test_size</th>\n",
    "    <th style='border: 1px solid black'>Confusion matrix</th>\n",
    "    <th style='border: 1px solid black'>F1score</th> \n",
    "    <th style='border: 1px solid black'>Log_loss</th>\n",
    "    <th style='border: 1px solid black'>Roc_Auc_score</th> \n",
    "    <th style='border: 1px solid black'>Accuracy</th> \n",
    "</tr>\n",
    "<tr>\n",
    "   <td style='border: 1px solid black'>LogLoss</td>\n",
    "   <td style='border: 1px solid black'>0.8</td>\n",
    "    <td style='border: 1px solid black'>0.2</td>\n",
    "    <td style='border: 1px solid black'><table style=\"font-size:15px;border:1px solid black\">\n",
    "        <tr>\n",
    "            <td style='border: 1px solid black'>13</td>\n",
    "            <td style='border: 1px solid black'>1</td> \n",
    "        </tr>\n",
    "        <tr>\n",
    "            <td style='border: 1px solid black'>0</td>\n",
    "            <td style='border: 1px solid black'>13</td> \n",
    "        </tr>\n",
    "        </table></td>\n",
    "    <td style='border: 1px solid black'>0.98360</td>\n",
    "    <td style='border: 1px solid black'>0.12246</td>\n",
    "    <td style='border: 1px solid black'>0.96428</td>\n",
    "    <td style='border: 1px solid black'><b>97.72%</b></td>\n",
    "</tr>\n",
    "</table>\n",
    "</center>"
   ]
  },
  {
   "cell_type": "markdown",
   "id": "d7e005a0",
   "metadata": {},
   "source": [
    "## End of the Notebook"
   ]
  },
  {
   "cell_type": "markdown",
   "id": "a596dbbf",
   "metadata": {},
   "source": [
    "## Notebook Details"
   ]
  },
  {
   "cell_type": "markdown",
   "id": "6f551dee",
   "metadata": {},
   "source": [
    "Notebook by : Gangadhar C<br>\n",
    "Reg no.     : 39110202<br>\n",
    "Dataset     : Placement.csv<br>\n",
    "Algorithm   : Naive Bayes<br>\n",
    "Problem Type: Classification<br>"
   ]
  }
 ],
 "metadata": {
  "kernelspec": {
   "display_name": "R",
   "language": "R",
   "name": "ir"
  },
  "language_info": {
   "codemirror_mode": "r",
   "file_extension": ".r",
   "mimetype": "text/x-r-source",
   "name": "R",
   "pygments_lexer": "r",
   "version": "4.1.0"
  }
 },
 "nbformat": 4,
 "nbformat_minor": 5
}
