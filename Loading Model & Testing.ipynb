{
 "cells": [
  {
   "cell_type": "code",
   "execution_count": 43,
   "id": "3cb07d1c",
   "metadata": {},
   "outputs": [],
   "source": [
    "#Suppress Warnings\n",
    "options(warn = -1)\n",
    "#Libraries\n",
    "library(naivebayes)\n",
    "library(e1071)\n",
    "library(caTools)\n",
    "library(ggplot2)\n",
    "library(caret)\n",
    "library(dplyr)\n",
    "library(gdata)\n",
    "library(ROSE)\n",
    "library(stringr)\n",
    "library(rBayesianOptimization)\n",
    "library(psych)\n",
    "library(smotefamily)\n",
    "library(randomForest)\n",
    "library(class)\n",
    "library(superml)\n",
    "library(corrplot)\n",
    "library(klaR)\n",
    "library(ROCR)\n",
    "library(pROC)\n",
    "library(MLmetrics)"
   ]
  },
  {
   "cell_type": "code",
   "execution_count": 44,
   "id": "e1dc1a5a",
   "metadata": {
    "scrolled": true
   },
   "outputs": [],
   "source": [
    "df=read.csv(\"preprocessed.csv\",header=TRUE)\n",
    "df=df[-1]\n",
    "model<-readRDS(\"StudentPlacementPredModel.RData\") "
   ]
  },
  {
   "cell_type": "code",
   "execution_count": 45,
   "id": "2acd5cec",
   "metadata": {},
   "outputs": [
    {
     "data": {
      "text/html": [
       "<table class=\"dataframe\">\n",
       "<caption>A data.frame: 6 × 13</caption>\n",
       "<thead>\n",
       "\t<tr><th></th><th scope=col>gender</th><th scope=col>ssc_p</th><th scope=col>ssc_b</th><th scope=col>hsc_p</th><th scope=col>hsc_b</th><th scope=col>hsc_s</th><th scope=col>degree_p</th><th scope=col>degree_t</th><th scope=col>workex</th><th scope=col>etest_p</th><th scope=col>specialisation</th><th scope=col>mba_p</th><th scope=col>status</th></tr>\n",
       "\t<tr><th></th><th scope=col>&lt;chr&gt;</th><th scope=col>&lt;dbl&gt;</th><th scope=col>&lt;chr&gt;</th><th scope=col>&lt;dbl&gt;</th><th scope=col>&lt;chr&gt;</th><th scope=col>&lt;chr&gt;</th><th scope=col>&lt;dbl&gt;</th><th scope=col>&lt;chr&gt;</th><th scope=col>&lt;chr&gt;</th><th scope=col>&lt;dbl&gt;</th><th scope=col>&lt;chr&gt;</th><th scope=col>&lt;dbl&gt;</th><th scope=col>&lt;chr&gt;</th></tr>\n",
       "</thead>\n",
       "<tbody>\n",
       "\t<tr><th scope=row>1</th><td>M</td><td>67.00</td><td>Others </td><td>91.00</td><td>Others </td><td>Commerce</td><td>58.00</td><td>Sci&amp;Tech </td><td>No </td><td>55.0</td><td>Mkt&amp;HR </td><td>58.80</td><td><span style=white-space:pre-wrap>Placed    </span></td></tr>\n",
       "\t<tr><th scope=row>2</th><td>M</td><td>79.33</td><td>Central</td><td>78.33</td><td>Others </td><td>Science </td><td>77.48</td><td>Sci&amp;Tech </td><td>Yes</td><td>86.5</td><td>Mkt&amp;Fin</td><td>66.28</td><td><span style=white-space:pre-wrap>Placed    </span></td></tr>\n",
       "\t<tr><th scope=row>3</th><td>M</td><td>65.00</td><td>Central</td><td>68.00</td><td>Central</td><td><span style=white-space:pre-wrap>Arts    </span></td><td>64.00</td><td>Comm&amp;Mgmt</td><td>No </td><td>75.0</td><td>Mkt&amp;Fin</td><td>57.80</td><td><span style=white-space:pre-wrap>Placed    </span></td></tr>\n",
       "\t<tr><th scope=row>4</th><td>M</td><td>56.00</td><td>Central</td><td>52.00</td><td>Central</td><td>Science </td><td>52.00</td><td>Sci&amp;Tech </td><td>No </td><td>66.0</td><td>Mkt&amp;HR </td><td>59.43</td><td>Not Placed</td></tr>\n",
       "\t<tr><th scope=row>5</th><td>M</td><td>85.80</td><td>Central</td><td>73.60</td><td>Central</td><td>Commerce</td><td>73.30</td><td>Comm&amp;Mgmt</td><td>No </td><td>96.8</td><td>Mkt&amp;Fin</td><td>55.50</td><td><span style=white-space:pre-wrap>Placed    </span></td></tr>\n",
       "\t<tr><th scope=row>6</th><td>M</td><td>55.00</td><td>Others </td><td>49.80</td><td>Others </td><td>Science </td><td>67.25</td><td>Sci&amp;Tech </td><td>Yes</td><td>55.0</td><td>Mkt&amp;Fin</td><td>51.58</td><td>Not Placed</td></tr>\n",
       "</tbody>\n",
       "</table>\n"
      ],
      "text/latex": [
       "A data.frame: 6 × 13\n",
       "\\begin{tabular}{r|lllllllllllll}\n",
       "  & gender & ssc\\_p & ssc\\_b & hsc\\_p & hsc\\_b & hsc\\_s & degree\\_p & degree\\_t & workex & etest\\_p & specialisation & mba\\_p & status\\\\\n",
       "  & <chr> & <dbl> & <chr> & <dbl> & <chr> & <chr> & <dbl> & <chr> & <chr> & <dbl> & <chr> & <dbl> & <chr>\\\\\n",
       "\\hline\n",
       "\t1 & M & 67.00 & Others  & 91.00 & Others  & Commerce & 58.00 & Sci\\&Tech  & No  & 55.0 & Mkt\\&HR  & 58.80 & Placed    \\\\\n",
       "\t2 & M & 79.33 & Central & 78.33 & Others  & Science  & 77.48 & Sci\\&Tech  & Yes & 86.5 & Mkt\\&Fin & 66.28 & Placed    \\\\\n",
       "\t3 & M & 65.00 & Central & 68.00 & Central & Arts     & 64.00 & Comm\\&Mgmt & No  & 75.0 & Mkt\\&Fin & 57.80 & Placed    \\\\\n",
       "\t4 & M & 56.00 & Central & 52.00 & Central & Science  & 52.00 & Sci\\&Tech  & No  & 66.0 & Mkt\\&HR  & 59.43 & Not Placed\\\\\n",
       "\t5 & M & 85.80 & Central & 73.60 & Central & Commerce & 73.30 & Comm\\&Mgmt & No  & 96.8 & Mkt\\&Fin & 55.50 & Placed    \\\\\n",
       "\t6 & M & 55.00 & Others  & 49.80 & Others  & Science  & 67.25 & Sci\\&Tech  & Yes & 55.0 & Mkt\\&Fin & 51.58 & Not Placed\\\\\n",
       "\\end{tabular}\n"
      ],
      "text/markdown": [
       "\n",
       "A data.frame: 6 × 13\n",
       "\n",
       "| <!--/--> | gender &lt;chr&gt; | ssc_p &lt;dbl&gt; | ssc_b &lt;chr&gt; | hsc_p &lt;dbl&gt; | hsc_b &lt;chr&gt; | hsc_s &lt;chr&gt; | degree_p &lt;dbl&gt; | degree_t &lt;chr&gt; | workex &lt;chr&gt; | etest_p &lt;dbl&gt; | specialisation &lt;chr&gt; | mba_p &lt;dbl&gt; | status &lt;chr&gt; |\n",
       "|---|---|---|---|---|---|---|---|---|---|---|---|---|---|\n",
       "| 1 | M | 67.00 | Others  | 91.00 | Others  | Commerce | 58.00 | Sci&amp;Tech  | No  | 55.0 | Mkt&amp;HR  | 58.80 | Placed     |\n",
       "| 2 | M | 79.33 | Central | 78.33 | Others  | Science  | 77.48 | Sci&amp;Tech  | Yes | 86.5 | Mkt&amp;Fin | 66.28 | Placed     |\n",
       "| 3 | M | 65.00 | Central | 68.00 | Central | Arts     | 64.00 | Comm&amp;Mgmt | No  | 75.0 | Mkt&amp;Fin | 57.80 | Placed     |\n",
       "| 4 | M | 56.00 | Central | 52.00 | Central | Science  | 52.00 | Sci&amp;Tech  | No  | 66.0 | Mkt&amp;HR  | 59.43 | Not Placed |\n",
       "| 5 | M | 85.80 | Central | 73.60 | Central | Commerce | 73.30 | Comm&amp;Mgmt | No  | 96.8 | Mkt&amp;Fin | 55.50 | Placed     |\n",
       "| 6 | M | 55.00 | Others  | 49.80 | Others  | Science  | 67.25 | Sci&amp;Tech  | Yes | 55.0 | Mkt&amp;Fin | 51.58 | Not Placed |\n",
       "\n"
      ],
      "text/plain": [
       "  gender ssc_p ssc_b   hsc_p hsc_b   hsc_s    degree_p degree_t  workex etest_p\n",
       "1 M      67.00 Others  91.00 Others  Commerce 58.00    Sci&Tech  No     55.0   \n",
       "2 M      79.33 Central 78.33 Others  Science  77.48    Sci&Tech  Yes    86.5   \n",
       "3 M      65.00 Central 68.00 Central Arts     64.00    Comm&Mgmt No     75.0   \n",
       "4 M      56.00 Central 52.00 Central Science  52.00    Sci&Tech  No     66.0   \n",
       "5 M      85.80 Central 73.60 Central Commerce 73.30    Comm&Mgmt No     96.8   \n",
       "6 M      55.00 Others  49.80 Others  Science  67.25    Sci&Tech  Yes    55.0   \n",
       "  specialisation mba_p status    \n",
       "1 Mkt&HR         58.80 Placed    \n",
       "2 Mkt&Fin        66.28 Placed    \n",
       "3 Mkt&Fin        57.80 Placed    \n",
       "4 Mkt&HR         59.43 Not Placed\n",
       "5 Mkt&Fin        55.50 Placed    \n",
       "6 Mkt&Fin        51.58 Not Placed"
      ]
     },
     "metadata": {},
     "output_type": "display_data"
    }
   ],
   "source": [
    "head(df)"
   ]
  },
  {
   "cell_type": "code",
   "execution_count": 46,
   "id": "06ddd544",
   "metadata": {},
   "outputs": [],
   "source": [
    "preds<-predict(model,df)"
   ]
  },
  {
   "cell_type": "code",
   "execution_count": 47,
   "id": "a031bed0",
   "metadata": {},
   "outputs": [
    {
     "data": {
      "text/plain": [
       "            preds\n",
       "             Not Placed Placed\n",
       "  Not Placed         50     17\n",
       "  Placed             12    136"
      ]
     },
     "metadata": {},
     "output_type": "display_data"
    }
   ],
   "source": [
    "cm <- table(df$status, preds)\n",
    "cm"
   ]
  },
  {
   "cell_type": "code",
   "execution_count": 48,
   "id": "c11c7545",
   "metadata": {},
   "outputs": [
    {
     "data": {
      "text/plain": [
       "Confusion Matrix and Statistics\n",
       "\n",
       "            preds\n",
       "             Not Placed Placed\n",
       "  Not Placed         50     17\n",
       "  Placed             12    136\n",
       "                                          \n",
       "               Accuracy : 0.8651          \n",
       "                 95% CI : (0.8121, 0.9078)\n",
       "    No Information Rate : 0.7116          \n",
       "    P-Value [Acc > NIR] : 7.877e-08       \n",
       "                                          \n",
       "                  Kappa : 0.6791          \n",
       "                                          \n",
       " Mcnemar's Test P-Value : 0.4576          \n",
       "                                          \n",
       "            Sensitivity : 0.8889          \n",
       "            Specificity : 0.8065          \n",
       "         Pos Pred Value : 0.9189          \n",
       "         Neg Pred Value : 0.7463          \n",
       "             Prevalence : 0.7116          \n",
       "         Detection Rate : 0.6326          \n",
       "   Detection Prevalence : 0.6884          \n",
       "      Balanced Accuracy : 0.8477          \n",
       "                                          \n",
       "       'Positive' Class : Placed          \n",
       "                                          "
      ]
     },
     "metadata": {},
     "output_type": "display_data"
    }
   ],
   "source": [
    "confusionMatrix(cm, positive = \"Placed\")"
   ]
  }
 ],
 "metadata": {
  "kernelspec": {
   "display_name": "R",
   "language": "R",
   "name": "ir"
  },
  "language_info": {
   "codemirror_mode": "r",
   "file_extension": ".r",
   "mimetype": "text/x-r-source",
   "name": "R",
   "pygments_lexer": "r",
   "version": "4.1.0"
  }
 },
 "nbformat": 4,
 "nbformat_minor": 5
}
